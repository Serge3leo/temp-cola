{
 "cells": [
  {
   "cell_type": "markdown",
   "id": "51ebf09e-38ad-44a7-990e-8cf2f879b2e7",
   "metadata": {},
   "source": [
    "<a href=\"https://colab.research.google.com/github/Serge3leo/temp-cola/blob/main/ruSO-1504743/NumPy-linalg.ipynb\" target=\"_parent\"><img src=\"https://colab.research.google.com/assets/colab-badge.svg\" alt=\"Open In Colab\"/></a>"
   ]
  },
  {
   "cell_type": "code",
   "execution_count": 1,
   "id": "49c0ee76-d183-4359-b884-73347d23bae4",
   "metadata": {},
   "outputs": [],
   "source": [
    "# %matplotlib osx\n",
    "%matplotlib inline\n",
    "%config InlineBackend.figure_format = 'retina'\n",
    "\n",
    "import matplotlib.pyplot as plt"
   ]
  },
  {
   "cell_type": "markdown",
   "id": "b9d1da8b-c2fb-4eeb-b7da-d021a7a7dcd3",
   "metadata": {},
   "source": [
    "# Как найти точку в прямоугольнике, которая не изменит своего положения при его уменьшении и повороте?\n",
    "\n",
    "ruSO: [Как найти точку в прямоугольнике, которая не изменит своего положения при его уменьшении и повороте?](https://ru.stackoverflow.com/q/1504743/430734)\n",
    "\n",
    "```\n",
    "Ввод:\n",
    "\n",
    "10 5\n",
    "\n",
    "3.0 2.5 1.0 2.5 1.0 1.5 3.0 1.5\n",
    "\n",
    "Вывод: 2.5000 2.0833\n",
    "```\n",
    "\n",
    "На Московской городской олимпиаде школьников по информатике, 2004/05\n",
    "учебный год, задача I весьма похожа, за одним дополнительным упрощением:\n",
    "\"Карта расположена лицевой стороной вверх\"."
   ]
  },
  {
   "cell_type": "markdown",
   "id": "50225e39-0c73-47a0-a353-6f05045bc7db",
   "metadata": {},
   "source": [
    "## Аффинное преобразование\n",
    "\n",
    "Как эффективно использовать ограничение \"Переговорка и ее план имеют \n",
    "форму прямоугольника\", лично мне так и не удалось придумать. Тем более,\n",
    "что задача неплохо решается в общем случае аффинного преобразования.\n",
    "\n",
    "$$\\begin{pmatrix}\n",
    "f(xy) \\\\\n",
    "1\n",
    "\\end{pmatrix}\n",
    "=\n",
    "\\begin{pmatrix}\n",
    "a & v \\\\\n",
    "0 & 1\n",
    "\\end{pmatrix}\n",
    "\\begin{pmatrix}\n",
    "xy \\\\\n",
    "1\n",
    "\\end{pmatrix}$$\n",
    "\n",
    "Трёх точек координат углов карты и комнаты достаточно для определения\n",
    "матрицы аффинного преобразования путём решения системы линейных \n",
    "уравнений:\n",
    "\n",
    "$$Room^T A^T = Corner^T$$\n",
    "\n",
    ", где координаты точек комнаты и карты дополнены 1.\n",
    "\n",
    "## Неподвижная точка\n",
    "\n",
    "Аналогично, неподвижная точка получается решением системы уравнений:\n",
    "\n",
    "$$\\begin{pmatrix}\n",
    "a - I & v \\\\\n",
    "0 & 1\n",
    "\\end{pmatrix}\n",
    "\\begin{pmatrix}\n",
    "fix \\\\\n",
    "1\n",
    "\\end{pmatrix}\n",
    "=\n",
    "\\begin{pmatrix}\n",
    "0 \\\\\n",
    "1\n",
    "\\end{pmatrix}\n",
    "$$\n",
    "\n",
    "Если входные данные соответствуют условию задачи, то обе системы уравнений\n",
    "имеют единственное решение."
   ]
  },
  {
   "cell_type": "markdown",
   "id": "579386a3-7ce4-4de1-b2eb-f54d4c2de7af",
   "metadata": {},
   "source": [
    "# Решение"
   ]
  },
  {
   "cell_type": "code",
   "execution_count": 2,
   "id": "1d83ec53-0c48-43eb-91e9-920b0729fa75",
   "metadata": {},
   "outputs": [],
   "source": [
    "import numpy as np\n",
    "\n",
    "def fixed_point(rm, cr):\n",
    "    \"\"\"Находит неподвижную точку аффинного преобразования:\n",
    "       (0,0, rm[0],0, rm[0],rm[1], 0,rm[1]) -> cr\n",
    "\n",
    "       rm - размеры переговорной\n",
    "       cr - координаты углов плана переговорной внутри переговорной\n",
    "    \"\"\"\n",
    "    rt = np.array([[0.,    0.,    1.],\n",
    "                   [rm[0], 0.,    1.],\n",
    "                   [rm[0], rm[1], 1.],\n",
    "                   [0.,    rm[1], 1.]])\n",
    "    ct = np.ones((4, 3))\n",
    "    ct[:, 0] = cr[0::2];\n",
    "    ct[:, 1] = cr[1::2];\n",
    "    a = np.linalg.solve(rt[:-1], ct[:-1]).T  # Матрица аффинного преобразования\n",
    "    ai = a.copy()             # (a - I)*fix == 0\n",
    "    ai[:-1,:-1] -= np.eye(2)  # fix[2] == 1\n",
    "    f = np.linalg.solve(ai, [0., 0., 1.])\n",
    "    np.testing.assert_allclose(ct.T, a@rt.T,\n",
    "                               rtol=1e-4, atol=1e-4, err_msg=\"Нехороший план\")\n",
    "    np.testing.assert_allclose([0., 0., 1.], ai@f, \n",
    "                               rtol=1e-15, atol=1e-15, err_msg=\"Нехороший план\")\n",
    "    np.testing.assert_allclose(f, a@f,\n",
    "                               rtol=1e-15, atol=1e-15, err_msg=\"Нехороший план\")\n",
    "    return f[:2]"
   ]
  },
  {
   "cell_type": "markdown",
   "id": "36df9071-8fe8-4d53-b94a-e5c3fcc3218e",
   "metadata": {},
   "source": [
    "# Тесты"
   ]
  },
  {
   "cell_type": "code",
   "execution_count": 3,
   "id": "73fbe823-e7ab-4e6e-a574-9d2f56c69ab2",
   "metadata": {},
   "outputs": [
    {
     "name": "stdout",
     "output_type": "stream",
     "text": [
      "Хорь\n"
     ]
    }
   ],
   "source": [
    "tests = [\n",
    "    [(10, 5), (4.5, 2.0, 4.5, 4.0, 5.5, 4.0, 5.5, 2.0), (245./48, 145./48)],\n",
    "    [(10, 5), (4.5, 4.0, 4.5, 2.0, 5.5, 2.0, 5.5, 4.0), (265./52, 155./52)],\n",
    "    [(10, 5), (5.5, 4.0, 5.5, 2.0, 4.5, 2.0, 4.5, 4.0), (235./48, 145./48)],\n",
    "    [(10, 5), (5.5, 2.0, 5.5, 4.0, 4.5, 4.0, 4.5, 2.0), (255./52, 155./52)],\n",
    "\n",
    "    [(10, 5), (1.0, 1.5, 3.0, 1.5, 3.0, 2.5, 1.0, 2.5), (1.25, 1.875)],\n",
    "    [(10, 5), (3.0, 1.5, 1.0, 1.5, 1.0, 2.5, 3.0, 2.5), (2.5, 1.875)],\n",
    "    [(10, 5), (3.0, 2.5, 1.0, 2.5, 1.0, 1.5, 3.0, 1.5), (2.5, 12.5 / 6)],\n",
    "    [(10, 5), (1.0, 2.5, 3.0, 2.5, 3.0, 1.5, 1.0, 1.5), (1.25, 12.5 / 6)],\n",
    "\n",
    "    [(10, 5), (1.5, 2.5, 3.5, 4.5, 4.5, 3.5, 2.5, 1.5), (2.5, 2.5)],      \n",
    "    [(10, 5), (1.5, 2.5, 4.5, 4.5, 5.5, 3.5, 2.5, 1.5), (2.875, 2.5625)],       \n",
    "]\n",
    "for t in tests:\n",
    "    fpt = fixed_point(t[0], t[1])\n",
    "    np.testing.assert_array_max_ulp(t[2], fpt, maxulp=1)\n",
    "print(\"Хорь\")"
   ]
  },
  {
   "cell_type": "markdown",
   "id": "51d78e64-9165-4c8e-ba3e-8d4722fa665a",
   "metadata": {},
   "source": [
    "# Визуализация тестовых наборов"
   ]
  },
  {
   "cell_type": "code",
   "execution_count": null,
   "id": "7df2c56f-3440-473c-b2ac-d4a901a3e3f8",
   "metadata": {},
   "outputs": [],
   "source": [
    "fig, axs = plt.subplots(5, 2)\n",
    "k = 0\n",
    "for i in range(axs.shape[0]):\n",
    "    for j in range(axs.shape[1]):\n",
    "        ax = axs[i, j]\n",
    "        t = tests[k]\n",
    "        k += 1\n",
    "        ax.set_aspect('equal')\n",
    "        ax.vlines([0., t[0][0]], 0., t[0][1])\n",
    "        ax.hlines([0., t[0][1]], 0., t[0][0])\n",
    "        c = t[1] + t[1]\n",
    "        for l in range(0, 8, 2):\n",
    "            ax.arrow(c[l], c[l + 1], c[l + 2] - c[l], c[l + 3] - c[l + 1], \n",
    "                     width=0.1, length_includes_head=True)\n",
    "        for c in zip(t[1][0::2], t[1][1::2]):\n",
    "            ax.plot(c[0], c[1], '.')\n",
    "        ax.plot(t[2][0], t[2][1], 'x', c='r')\n",
    "plt.show()"
   ]
  },
  {
   "cell_type": "code",
   "execution_count": null,
   "id": "3f8f2772-46b2-4d89-bc11-e733e6fa4c58",
   "metadata": {},
   "outputs": [],
   "source": []
  }
 ],
 "metadata": {
  "kernelspec": {
   "display_name": "Python 3 (ipykernel)",
   "language": "python",
   "name": "python3"
  },
  "language_info": {
   "codemirror_mode": {
    "name": "ipython",
    "version": 3
   },
   "file_extension": ".py",
   "mimetype": "text/x-python",
   "name": "python",
   "nbconvert_exporter": "python",
   "pygments_lexer": "ipython3",
   "version": "3.13.2"
  }
 },
 "nbformat": 4,
 "nbformat_minor": 5
}
