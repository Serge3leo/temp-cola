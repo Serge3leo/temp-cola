{
  "nbformat": 4,
  "nbformat_minor": 0,
  "metadata": {
    "colab": {
      "provenance": [],
      "include_colab_link": true
    },
    "kernelspec": {
      "name": "python3",
      "display_name": "Python 3"
    },
    "language_info": {
      "name": "python"
    }
  },
  "cells": [
    {
      "cell_type": "markdown",
      "metadata": {
        "id": "view-in-github",
        "colab_type": "text"
      },
      "source": [
        "<a href=\"https://colab.research.google.com/github/Serge3leo/temp-cola/blob/main/stackoverflow-8585880.ipynb\" target=\"_parent\"><img src=\"https://colab.research.google.com/assets/colab-badge.svg\" alt=\"Open In Colab\"/></a>"
      ]
    },
    {
      "cell_type": "code",
      "source": [
        "# Install required packages\n",
        "!apt-get update -qq\n",
        "!apt-get install -qq gfortran\n",
        "!pip install -qq fortran-magic\n",
        "# Workaround colab bug\n",
        "!pip install -qq meson charset-normalizer ninja cmake pkgconfig"
      ],
      "metadata": {
        "colab": {
          "base_uri": "https://localhost:8080/"
        },
        "id": "-vtNkRzdsOu3",
        "outputId": "96f36195-e63d-43ed-841b-b4be5ff32426"
      },
      "execution_count": 2,
      "outputs": [
        {
          "output_type": "stream",
          "name": "stdout",
          "text": [
            "W: Skipping acquire of configured file 'main/source/Sources' as repository 'https://r2u.stat.illinois.edu/ubuntu jammy InRelease' does not seem to provide it (sources.list entry misspelt?)\n"
          ]
        }
      ]
    },
    {
      "cell_type": "code",
      "source": [
        "%load_ext fortranmagic\n",
        "# Workaround colab bug\n",
        "%fortran_config --backend meson -v"
      ],
      "metadata": {
        "id": "cBnqyBp67ash",
        "outputId": "8b3fab63-5f29-4455-837c-9ac47ef8f771",
        "colab": {
          "base_uri": "https://localhost:8080/"
        }
      },
      "execution_count": 3,
      "outputs": [
        {
          "output_type": "stream",
          "name": "stdout",
          "text": [
            "The fortranmagic extension is already loaded. To reload it, use:\n",
            "  %reload_ext fortranmagic\n",
            "New default arguments for %fortran:\n",
            "\t--backend meson -v\n"
          ]
        }
      ]
    },
    {
      "cell_type": "code",
      "source": [
        "%%fortran -v\n",
        "subroutine read_params(filename, params, ierr)\n",
        "   implicit none\n",
        "   ! Argument Declarations !\n",
        "   character(len=*), intent(in) :: filename\n",
        "   integer, dimension(4), intent(out) :: params\n",
        "   integer, intent(out) :: ierr\n",
        "   ! Variable Declarations\n",
        "   integer :: i, iounit\n",
        "\n",
        "   iounit = 1\n",
        "   ierr = -2 ! Initialize error code for open error\n",
        "   open(unit=iounit, status=\"old\", file=filename, form=\"unformatted\", err=10)\n",
        "   ierr = -1 ! Initialize error code for read error\n",
        "   read(iounit, *, err=10) (params(i), i=1, 4)\n",
        "   ierr = 0 ! OK\n",
        "10 close(iounit)\n",
        "\n",
        "end subroutine read_params"
      ],
      "metadata": {
        "id": "6YTRTFdiCmdL",
        "outputId": "9924f42e-18e3-46de-dff8-de00bdd53923",
        "colab": {
          "base_uri": "https://localhost:8080/"
        }
      },
      "execution_count": 4,
      "outputs": [
        {
          "output_type": "stream",
          "name": "stdout",
          "text": [
            "\n",
            "Ok. The following fortran objects are ready to use: read_params\n"
          ]
        }
      ]
    },
    {
      "cell_type": "code",
      "source": [
        "params, ierr = read_params(\"not-file\")\n",
        "ierr"
      ],
      "metadata": {
        "id": "czXwS9_OEM50",
        "outputId": "1a27147d-4e38-499a-dedc-e6bb49e25e5e",
        "colab": {
          "base_uri": "https://localhost:8080/"
        }
      },
      "execution_count": 5,
      "outputs": [
        {
          "output_type": "execute_result",
          "data": {
            "text/plain": [
              "-2"
            ]
          },
          "metadata": {},
          "execution_count": 5
        }
      ]
    },
    {
      "cell_type": "code",
      "source": [
        "%%fortran -v\n",
        "subroutine read_params_msg(filename, params, ierr, errmsg)\n",
        "   implicit none\n",
        "   ! Argument Declarations !\n",
        "   character(len=*), intent(in) :: filename\n",
        "   integer, dimension(4), intent(out) :: params\n",
        "   integer, intent(out) :: ierr\n",
        "   character(len=256), intent(out) :: errmsg\n",
        "   ! Variable Declarations\n",
        "   integer :: i, iounit\n",
        "\n",
        "   iounit = 1\n",
        "   errmsg = \"\"\n",
        "   ierr = -2 ! Initialize error code for open error\n",
        "   open(unit=iounit, status=\"old\", file=filename, form=\"unformatted\", &\n",
        "        err=10, iomsg=errmsg)\n",
        "   ierr = -1 ! Initialize error code for read error\n",
        "   read(iounit, *, err=10, iomsg=errmsg) (params(i), i=1, 4)\n",
        "   ierr = 0 ! OK\n",
        "10 close(iounit)\n",
        "\n",
        "end subroutine read_params_msg"
      ],
      "metadata": {
        "colab": {
          "base_uri": "https://localhost:8080/"
        },
        "id": "sd5F02ogssPB",
        "outputId": "d2926692-1acf-4340-977e-f485c00f818a"
      },
      "execution_count": 6,
      "outputs": [
        {
          "output_type": "stream",
          "name": "stdout",
          "text": [
            "\n",
            "Ok. The following fortran objects are ready to use: read_params_msg\n"
          ]
        }
      ]
    },
    {
      "cell_type": "code",
      "source": [
        "params, ierr, errmsg = read_params_msg(\"not-file\")\n",
        "ierr, errmsg"
      ],
      "metadata": {
        "id": "cQI10KBP-Wkt",
        "outputId": "33bde625-3620-46fb-8662-dcfe75474377",
        "colab": {
          "base_uri": "https://localhost:8080/"
        }
      },
      "execution_count": 7,
      "outputs": [
        {
          "output_type": "execute_result",
          "data": {
            "text/plain": [
              "(-2, b\"Cannot open file 'not-file': No such file or directory\")"
            ]
          },
          "metadata": {},
          "execution_count": 7
        }
      ]
    },
    {
      "cell_type": "code",
      "source": [],
      "metadata": {
        "id": "0XznW4KM-wyy"
      },
      "execution_count": 7,
      "outputs": []
    },
    {
      "cell_type": "code",
      "source": [],
      "metadata": {
        "id": "TialV6H9EkbN"
      },
      "execution_count": 7,
      "outputs": []
    }
  ]
}