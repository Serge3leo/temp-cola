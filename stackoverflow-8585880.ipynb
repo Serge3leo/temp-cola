{
  "nbformat": 4,
  "nbformat_minor": 0,
  "metadata": {
    "colab": {
      "provenance": [],
      "include_colab_link": true
    },
    "kernelspec": {
      "name": "python3",
      "display_name": "Python 3"
    },
    "language_info": {
      "name": "python"
    }
  },
  "cells": [
    {
      "cell_type": "markdown",
      "metadata": {
        "id": "view-in-github",
        "colab_type": "text"
      },
      "source": [
        "<a href=\"https://colab.research.google.com/github/Serge3leo/temp-cola/blob/main/stackoverflow-8585880.ipynb\" target=\"_parent\"><img src=\"https://colab.research.google.com/assets/colab-badge.svg\" alt=\"Open In Colab\"/></a>"
      ]
    },
    {
      "cell_type": "code",
      "source": [
        "# Install required packages\n",
        "!apt-get update -qq\n",
        "!apt-get install -qq gfortran\n",
        "!pip install -qq fortran-magic\n",
        "# Workaround colab bug\n",
        "!pip install -qq meson charset-normalizer ninja cmake pkgconfig"
      ],
      "metadata": {
        "colab": {
          "base_uri": "https://localhost:8080/"
        },
        "id": "-vtNkRzdsOu3",
        "outputId": "2c13a319-5e38-4bf0-a0ea-595bcd445c1e"
      },
      "execution_count": 14,
      "outputs": [
        {
          "output_type": "stream",
          "name": "stdout",
          "text": [
            "W: Skipping acquire of configured file 'main/source/Sources' as repository 'https://r2u.stat.illinois.edu/ubuntu jammy InRelease' does not seem to provide it (sources.list entry misspelt?)\n"
          ]
        }
      ]
    },
    {
      "cell_type": "code",
      "source": [
        "%load_ext fortranmagic\n",
        "# Workaround colab bug\n",
        "%fortran_config --backend meson -v"
      ],
      "metadata": {
        "id": "cBnqyBp67ash",
        "outputId": "ff373f9c-0092-483f-ff55-a362129ef739",
        "colab": {
          "base_uri": "https://localhost:8080/"
        }
      },
      "execution_count": 15,
      "outputs": [
        {
          "output_type": "stream",
          "name": "stdout",
          "text": [
            "The fortranmagic extension is already loaded. To reload it, use:\n",
            "  %reload_ext fortranmagic\n",
            "New default arguments for %fortran:\n",
            "\t--backend meson -v\n"
          ]
        }
      ]
    },
    {
      "cell_type": "code",
      "source": [
        "%%fortran -v\n",
        "subroutine read_params(filename, params, ios)\n",
        "   implicit none\n",
        "   ! Argument Declarations !\n",
        "   character(len=*), intent(in) :: filename\n",
        "   integer, dimension(4), intent(out) :: params\n",
        "   integer, intent(out) :: ios\n",
        "   ! Variable Declarations\n",
        "   integer :: i, iounit\n",
        "\n",
        "   iounit = 1\n",
        "   open(unit=iounit, status=\"old\", file=filename, form=\"unformatted\", &\n",
        "        err=10, iostat=ios)\n",
        "   read(iounit, *, err=10, iostat=ios) (params(i), i=1, 4)\n",
        "10 close(iounit)\n",
        "\n",
        "end subroutine read_params"
      ],
      "metadata": {
        "id": "6YTRTFdiCmdL",
        "outputId": "93df035f-a7e5-4626-972d-38bdf4610a90",
        "colab": {
          "base_uri": "https://localhost:8080/"
        }
      },
      "execution_count": 16,
      "outputs": [
        {
          "output_type": "stream",
          "name": "stdout",
          "text": [
            "\n",
            "Ok. The following fortran objects are ready to use: read_params\n"
          ]
        }
      ]
    },
    {
      "cell_type": "code",
      "source": [
        "params, ierr = read_params(\"not-file\")\n",
        "ierr"
      ],
      "metadata": {
        "id": "czXwS9_OEM50",
        "outputId": "f5186177-2cc2-4398-99e0-62d1df8afb31",
        "colab": {
          "base_uri": "https://localhost:8080/"
        }
      },
      "execution_count": 17,
      "outputs": [
        {
          "output_type": "execute_result",
          "data": {
            "text/plain": [
              "2"
            ]
          },
          "metadata": {},
          "execution_count": 17
        }
      ]
    },
    {
      "cell_type": "code",
      "source": [
        "%%fortran -v\n",
        "subroutine read_params_msg(filename, params, ios, errmsg)\n",
        "   implicit none\n",
        "   ! Argument Declarations !\n",
        "   character(len=*), intent(in) :: filename\n",
        "   integer, dimension(4), intent(out) :: params\n",
        "   integer, intent(out) :: ios\n",
        "   character(len=256), intent(out) :: errmsg\n",
        "   ! Variable Declarations\n",
        "   integer :: i, iounit\n",
        "\n",
        "   iounit = 1\n",
        "   errmsg = \"\"\n",
        "   open(unit=iounit, status=\"old\", file=filename, form=\"unformatted\", &\n",
        "        err=10, iostat=ios, iomsg=errmsg)\n",
        "   read(iounit, *, err=10, iostat=ios, iomsg=errmsg) (params(i), i=1, 4)\n",
        "10 close(iounit)\n",
        "\n",
        "end subroutine read_params_msg"
      ],
      "metadata": {
        "colab": {
          "base_uri": "https://localhost:8080/"
        },
        "id": "sd5F02ogssPB",
        "outputId": "cc7ed1c5-c4a7-4cab-cc09-4e39c865ad45"
      },
      "execution_count": 18,
      "outputs": [
        {
          "output_type": "stream",
          "name": "stdout",
          "text": [
            "\n",
            "Ok. The following fortran objects are ready to use: read_params_msg\n"
          ]
        }
      ]
    },
    {
      "cell_type": "code",
      "source": [
        "params, ierr, errmsg = read_params_msg(\"not-file\")\n",
        "ierr, errmsg"
      ],
      "metadata": {
        "id": "cQI10KBP-Wkt",
        "outputId": "326a49b8-80c0-4c77-8f8e-ab3debb517f8",
        "colab": {
          "base_uri": "https://localhost:8080/"
        }
      },
      "execution_count": 19,
      "outputs": [
        {
          "output_type": "execute_result",
          "data": {
            "text/plain": [
              "(2, b\"Cannot open file 'not-file': No such file or directory\")"
            ]
          },
          "metadata": {},
          "execution_count": 19
        }
      ]
    },
    {
      "cell_type": "code",
      "source": [],
      "metadata": {
        "id": "0XznW4KM-wyy"
      },
      "execution_count": 19,
      "outputs": []
    },
    {
      "cell_type": "code",
      "source": [],
      "metadata": {
        "id": "TialV6H9EkbN"
      },
      "execution_count": 19,
      "outputs": []
    }
  ]
}