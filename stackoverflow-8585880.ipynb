{
  "nbformat": 4,
  "nbformat_minor": 0,
  "metadata": {
    "colab": {
      "provenance": [],
      "include_colab_link": true
    },
    "kernelspec": {
      "name": "python3",
      "display_name": "Python 3"
    },
    "language_info": {
      "name": "python"
    }
  },
  "cells": [
    {
      "cell_type": "markdown",
      "metadata": {
        "id": "view-in-github",
        "colab_type": "text"
      },
      "source": [
        "<a href=\"https://colab.research.google.com/github/Serge3leo/temp-cola/blob/main/stackoverflow-8585880.ipynb\" target=\"_parent\"><img src=\"https://colab.research.google.com/assets/colab-badge.svg\" alt=\"Open In Colab\"/></a>"
      ]
    },
    {
      "cell_type": "code",
      "source": [
        "# Best way to handle multiple exit points in Fortran\n",
        "# https://stackoverflow.com/a/79245899/8585880\n",
        "# Install required packages\n",
        "!apt-get update -qq\n",
        "!apt-get install -qq gfortran\n",
        "!pip install -qq fortran-magic\n",
        "# Workaround colab bug\n",
        "!pip install -qq meson charset-normalizer ninja cmake pkgconfig"
      ],
      "metadata": {
        "colab": {
          "base_uri": "https://localhost:8080/"
        },
        "id": "-vtNkRzdsOu3",
        "outputId": "add1f491-d46d-418c-de37-979b577ffa70"
      },
      "execution_count": 48,
      "outputs": [
        {
          "output_type": "stream",
          "name": "stdout",
          "text": [
            "W: Skipping acquire of configured file 'main/source/Sources' as repository 'https://r2u.stat.illinois.edu/ubuntu jammy InRelease' does not seem to provide it (sources.list entry misspelt?)\n"
          ]
        }
      ]
    },
    {
      "cell_type": "code",
      "source": [
        "%load_ext fortranmagic\n",
        "# Workaround colab bug\n",
        "%fortran_config --backend meson -v"
      ],
      "metadata": {
        "id": "cBnqyBp67ash",
        "outputId": "71134ebe-2186-4d96-9a9d-68094928eec9",
        "colab": {
          "base_uri": "https://localhost:8080/"
        }
      },
      "execution_count": 49,
      "outputs": [
        {
          "output_type": "stream",
          "name": "stdout",
          "text": [
            "The fortranmagic extension is already loaded. To reload it, use:\n",
            "  %reload_ext fortranmagic\n",
            "New default arguments for %fortran:\n",
            "\t--backend meson -v\n"
          ]
        }
      ]
    },
    {
      "cell_type": "code",
      "source": [
        "!echo 1 2 3 4 > 1234.txt\n",
        "!echo 1.0 > 1_0.txt\n",
        "filenames = [\"1234.txt\", \"1_0.txt\", \"no-file\"]"
      ],
      "metadata": {
        "id": "S_R-sB3rNbQL"
      },
      "execution_count": 50,
      "outputs": []
    },
    {
      "cell_type": "code",
      "source": [
        "%%fortran -v\n",
        "subroutine read_params(filename, params, ios)\n",
        "   implicit none\n",
        "   ! Argument Declarations !\n",
        "   character(len=*), intent(in) :: filename\n",
        "   integer, dimension(4), intent(out) :: params\n",
        "   integer, intent(out) :: ios\n",
        "   ! Variable Declarations\n",
        "   integer :: i, iounit\n",
        "\n",
        "   iounit = 1\n",
        "   open(unit=iounit, status=\"old\", file=filename, &\n",
        "        err=10, iostat=ios)\n",
        "   read(iounit, *, err=10, iostat=ios) (params(i), i=1, 4)\n",
        "10 close(iounit)\n",
        "\n",
        "end subroutine read_params"
      ],
      "metadata": {
        "id": "6YTRTFdiCmdL",
        "outputId": "ecf93281-3557-4792-ba2f-6b5311f573a4",
        "colab": {
          "base_uri": "https://localhost:8080/"
        }
      },
      "execution_count": 51,
      "outputs": [
        {
          "output_type": "stream",
          "name": "stdout",
          "text": [
            "The extension _fortran_magic_a60480fa963a56e27945e09c1b398d9e is already loaded. To reload it, use:\n",
            "  %fortran_config --clean-cache\n",
            "\n",
            "Ok. The following fortran objects are ready to use: read_params\n"
          ]
        }
      ]
    },
    {
      "cell_type": "code",
      "source": [
        "for f in filenames:\n",
        "    params, ios = read_params(f)\n",
        "    if 0 == ios:\n",
        "        print(f\"params: {params} f:{f}\")\n",
        "    else:\n",
        "        print(f\"ios:{ios} f:{f}\")"
      ],
      "metadata": {
        "id": "czXwS9_OEM50",
        "outputId": "3d3eb91f-e434-4e2c-c29c-87b3abca760d",
        "colab": {
          "base_uri": "https://localhost:8080/"
        }
      },
      "execution_count": 52,
      "outputs": [
        {
          "output_type": "stream",
          "name": "stdout",
          "text": [
            "params: [1 2 3 4] f:1234.txt\n",
            "ios:5010 f:1_0.txt\n",
            "ios:2 f:no-file\n"
          ]
        }
      ]
    },
    {
      "cell_type": "code",
      "source": [
        "%%fortran -v\n",
        "subroutine read_params_msg(filename, params, ios, iom)\n",
        "   implicit none\n",
        "   ! Argument Declarations !\n",
        "   character(len=*), intent(in) :: filename\n",
        "   integer, dimension(4), intent(out) :: params\n",
        "   integer, intent(out) :: ios\n",
        "   character(len=256), intent(out) :: iom\n",
        "   ! Variable Declarations\n",
        "   integer :: i, iounit\n",
        "\n",
        "   iounit = 1\n",
        "   iom = \"\"\n",
        "   open(unit=iounit, status=\"old\", file=filename, &\n",
        "        err=10, iostat=ios, iomsg=iom)\n",
        "   read(iounit, *, err=10, iostat=ios, iomsg=iom) (params(i), i=1, 4)\n",
        "10 close(iounit)\n",
        "\n",
        "end subroutine read_params_msg"
      ],
      "metadata": {
        "colab": {
          "base_uri": "https://localhost:8080/"
        },
        "id": "sd5F02ogssPB",
        "outputId": "05c247d5-1211-416d-8a62-003ce8a8f84c"
      },
      "execution_count": 53,
      "outputs": [
        {
          "output_type": "stream",
          "name": "stdout",
          "text": [
            "The extension _fortran_magic_72ac8273205112bd0ee0cd2c142fb7d1 is already loaded. To reload it, use:\n",
            "  %fortran_config --clean-cache\n",
            "\n",
            "Ok. The following fortran objects are ready to use: read_params_msg\n"
          ]
        }
      ]
    },
    {
      "cell_type": "code",
      "source": [
        "for f in filenames:\n",
        "    params, ios, iom = read_params_msg(f)\n",
        "    if 0 == ios:\n",
        "        print(f\"params: {params} f:{f}\")\n",
        "    else:\n",
        "        print(f\"ios:{ios} iom:{iom} f:{f}\")"
      ],
      "metadata": {
        "id": "0XznW4KM-wyy",
        "outputId": "d58e06a7-f1ba-412d-fa91-18188a401b57",
        "colab": {
          "base_uri": "https://localhost:8080/"
        }
      },
      "execution_count": 54,
      "outputs": [
        {
          "output_type": "stream",
          "name": "stdout",
          "text": [
            "params: [1 2 3 4] f:1234.txt\n",
            "ios:5010 iom:b'Bad integer for item 1 in list input' f:1_0.txt\n",
            "ios:2 iom:b\"Cannot open file 'no-file': No such file or directory\" f:no-file\n"
          ]
        }
      ]
    },
    {
      "cell_type": "markdown",
      "source": [
        "### **Warning. Next is the option of calling an exception in the callback, but, alas, this option is unstable.**\n",
        "For some versions of python, and maybe for some OS, an exception in the callback causes python to crash."
      ],
      "metadata": {
        "id": "fmisJhHUOOE2"
      }
    },
    {
      "cell_type": "code",
      "source": [
        "def fmf2py_module(fn: str) -> \"module\":\n",
        "    import sys\n",
        "\n",
        "    fn_modules = [m for m in sys.modules.values()\n",
        "                  if fn in m.__dict__\n",
        "                  if globals()[fn] == m.__dict__[fn]\n",
        "                  if m.__name__ != '__main__'\n",
        "                 ]\n",
        "    assert len(fn_modules) == 1\n",
        "    return fn_modules[0]"
      ],
      "metadata": {
        "id": "TialV6H9EkbN"
      },
      "execution_count": 55,
      "outputs": []
    },
    {
      "cell_type": "code",
      "source": [
        "%%fortran -v\n",
        "subroutine read_params_exception(filename, params)\n",
        "   implicit none\n",
        "   ! Argument Declarations !\n",
        "   character(len=*), intent(in) :: filename\n",
        "   integer, dimension(4), intent(out) :: params\n",
        "\n",
        "   ! (callback, hide) is most similar to an exception\n",
        "   !f2py intent(callback, hide) raise_error\n",
        "   external raise_error\n",
        "   !f2py integer iostat\n",
        "   !f2py character(len=256) iomsg\n",
        "   !f2py call raise_error(iostat, iomsg)\n",
        "\n",
        "   ! Variable Declarations\n",
        "   integer :: i, iounit\n",
        "   integer :: ios\n",
        "   character(len=256) :: iom\n",
        "\n",
        "   iounit = 1\n",
        "   open(unit=iounit, status=\"old\", file=filename, &\n",
        "        err=10, iostat=ios, iomsg=iom)\n",
        "   read(iounit, *, err=10, iostat=ios, iomsg=iom) (params(i), i=1, 4)\n",
        "   close(iounit, err=10, iostat=ios, iomsg=iom)\n",
        "   return\n",
        "10 call raise_error(ios, iom)\n",
        "\n",
        "end subroutine read_params_exception"
      ],
      "metadata": {
        "id": "Wr3139YqO3f0",
        "outputId": "5368338e-dd8a-4302-a27e-18f54fe12a27",
        "colab": {
          "base_uri": "https://localhost:8080/"
        }
      },
      "execution_count": 56,
      "outputs": [
        {
          "output_type": "stream",
          "name": "stdout",
          "text": [
            "The extension _fortran_magic_b925ed18f4feeab775119d41c107b681 is already loaded. To reload it, use:\n",
            "  %fortran_config --clean-cache\n",
            "\n",
            "Ok. The following fortran objects are ready to use: read_params_exception, raise_error\n"
          ]
        }
      ]
    },
    {
      "cell_type": "code",
      "source": [
        "print(read_params_exception.__doc__)"
      ],
      "metadata": {
        "id": "S_tcl40yPD5B",
        "outputId": "a8152f07-c734-4a02-84ed-24ef86b6eede",
        "colab": {
          "base_uri": "https://localhost:8080/"
        }
      },
      "execution_count": 57,
      "outputs": [
        {
          "output_type": "stream",
          "name": "stdout",
          "text": [
            "params = read_params_exception(filename)\n",
            "\n",
            "Wrapper for ``read_params_exception``.\n",
            "\n",
            "Parameters\n",
            "----------\n",
            "filename : input string(len=-1)\n",
            "\n",
            "Returns\n",
            "-------\n",
            "params : rank-1 array('i') with bounds (4)\n",
            "\n",
            "Notes\n",
            "-----\n",
            "Call-back functions::\n",
            "\n",
            "    def raise_error(iostat,iomsg): return \n",
            "    Required arguments:\n",
            "        iostat : input int\n",
            "        iomsg : input string(len=256)\n",
            "\n"
          ]
        }
      ]
    },
    {
      "cell_type": "code",
      "source": [
        "def raise_error(ios, iom):\n",
        "    raise IOError(ios, iom)\n",
        "\n",
        "# For manual compile f2py module, simple:\n",
        "#     import module\n",
        "#     module.raise_error = ...\n",
        "#     ...module.read_params_exception(...)\n",
        "# But the function of compiling fortranmagic\n",
        "# into a temporary hidden module\n",
        "#\n",
        "fmf2py_module('read_params_exception').raise_error = raise_error\n",
        "\n",
        "read_params_exception(filenames[0])"
      ],
      "metadata": {
        "id": "Aabl5mP-PIlB",
        "outputId": "0618e3ba-8450-4d00-cb1a-e0b48f00511b",
        "colab": {
          "base_uri": "https://localhost:8080/"
        }
      },
      "execution_count": 58,
      "outputs": [
        {
          "output_type": "execute_result",
          "data": {
            "text/plain": [
              "array([1, 2, 3, 4], dtype=int32)"
            ]
          },
          "metadata": {},
          "execution_count": 58
        }
      ]
    },
    {
      "cell_type": "code",
      "source": [
        "read_params_exception(filenames[1])"
      ],
      "metadata": {
        "id": "-6YGeN1bPMHN",
        "outputId": "cad2158b-4763-453d-e21c-11820653738b",
        "colab": {
          "base_uri": "https://localhost:8080/",
          "height": 292
        }
      },
      "execution_count": 59,
      "outputs": [
        {
          "output_type": "error",
          "ename": "OSError",
          "evalue": "[Errno 5010] Bad integer for item 1 in list input                                                                                                                                                                                                                            ",
          "traceback": [
            "\u001b[0;31m---------------------------------------------------------------------------\u001b[0m",
            "\u001b[0;31mOSError\u001b[0m                                   Traceback (most recent call last)",
            "\u001b[0;32m<ipython-input-59-11feeffb4b49>\u001b[0m in \u001b[0;36m<cell line: 1>\u001b[0;34m()\u001b[0m\n\u001b[0;32m----> 1\u001b[0;31m \u001b[0mread_params_exception\u001b[0m\u001b[0;34m(\u001b[0m\u001b[0mfilenames\u001b[0m\u001b[0;34m[\u001b[0m\u001b[0;36m1\u001b[0m\u001b[0;34m]\u001b[0m\u001b[0;34m)\u001b[0m\u001b[0;34m\u001b[0m\u001b[0;34m\u001b[0m\u001b[0m\n\u001b[0m",
            "\u001b[0;32m<ipython-input-58-969c8b01ab0d>\u001b[0m in \u001b[0;36mraise_error\u001b[0;34m(ios, iom)\u001b[0m\n\u001b[1;32m      1\u001b[0m \u001b[0;32mdef\u001b[0m \u001b[0mraise_error\u001b[0m\u001b[0;34m(\u001b[0m\u001b[0mios\u001b[0m\u001b[0;34m,\u001b[0m \u001b[0miom\u001b[0m\u001b[0;34m)\u001b[0m\u001b[0;34m:\u001b[0m\u001b[0;34m\u001b[0m\u001b[0;34m\u001b[0m\u001b[0m\n\u001b[0;32m----> 2\u001b[0;31m     \u001b[0;32mraise\u001b[0m \u001b[0mIOError\u001b[0m\u001b[0;34m(\u001b[0m\u001b[0mios\u001b[0m\u001b[0;34m,\u001b[0m \u001b[0miom\u001b[0m\u001b[0;34m)\u001b[0m\u001b[0;34m\u001b[0m\u001b[0;34m\u001b[0m\u001b[0m\n\u001b[0m\u001b[1;32m      3\u001b[0m \u001b[0;34m\u001b[0m\u001b[0m\n\u001b[1;32m      4\u001b[0m \u001b[0;31m# For manual compile f2py module, simple:\u001b[0m\u001b[0;34m\u001b[0m\u001b[0;34m\u001b[0m\u001b[0m\n\u001b[1;32m      5\u001b[0m \u001b[0;31m#     import module\u001b[0m\u001b[0;34m\u001b[0m\u001b[0;34m\u001b[0m\u001b[0m\n",
            "\u001b[0;31mOSError\u001b[0m: [Errno 5010] Bad integer for item 1 in list input                                                                                                                                                                                                                            "
          ]
        }
      ]
    },
    {
      "cell_type": "code",
      "source": [
        "read_params_exception(filenames[2])"
      ],
      "metadata": {
        "id": "2F-n1G9oPRQ_",
        "outputId": "21ef268f-5fa1-4098-f1af-8231434c8f2c",
        "colab": {
          "base_uri": "https://localhost:8080/",
          "height": 309
        }
      },
      "execution_count": 60,
      "outputs": [
        {
          "output_type": "error",
          "ename": "FileNotFoundError",
          "evalue": "[Errno 2] Cannot open file 'no-file': No such file or directory                                                                                                                                                                                                           ",
          "traceback": [
            "\u001b[0;31m---------------------------------------------------------------------------\u001b[0m",
            "\u001b[0;31mFileNotFoundError\u001b[0m                         Traceback (most recent call last)",
            "\u001b[0;32m<ipython-input-60-7083757d3af5>\u001b[0m in \u001b[0;36m<cell line: 1>\u001b[0;34m()\u001b[0m\n\u001b[0;32m----> 1\u001b[0;31m \u001b[0mread_params_exception\u001b[0m\u001b[0;34m(\u001b[0m\u001b[0mfilenames\u001b[0m\u001b[0;34m[\u001b[0m\u001b[0;36m2\u001b[0m\u001b[0;34m]\u001b[0m\u001b[0;34m)\u001b[0m\u001b[0;34m\u001b[0m\u001b[0;34m\u001b[0m\u001b[0m\n\u001b[0m",
            "\u001b[0;32m<ipython-input-58-969c8b01ab0d>\u001b[0m in \u001b[0;36mraise_error\u001b[0;34m(ios, iom)\u001b[0m\n\u001b[1;32m      1\u001b[0m \u001b[0;32mdef\u001b[0m \u001b[0mraise_error\u001b[0m\u001b[0;34m(\u001b[0m\u001b[0mios\u001b[0m\u001b[0;34m,\u001b[0m \u001b[0miom\u001b[0m\u001b[0;34m)\u001b[0m\u001b[0;34m:\u001b[0m\u001b[0;34m\u001b[0m\u001b[0;34m\u001b[0m\u001b[0m\n\u001b[0;32m----> 2\u001b[0;31m     \u001b[0;32mraise\u001b[0m \u001b[0mIOError\u001b[0m\u001b[0;34m(\u001b[0m\u001b[0mios\u001b[0m\u001b[0;34m,\u001b[0m \u001b[0miom\u001b[0m\u001b[0;34m)\u001b[0m\u001b[0;34m\u001b[0m\u001b[0;34m\u001b[0m\u001b[0m\n\u001b[0m\u001b[1;32m      3\u001b[0m \u001b[0;34m\u001b[0m\u001b[0m\n\u001b[1;32m      4\u001b[0m \u001b[0;31m# For manual compile f2py module, simple:\u001b[0m\u001b[0;34m\u001b[0m\u001b[0;34m\u001b[0m\u001b[0m\n\u001b[1;32m      5\u001b[0m \u001b[0;31m#     import module\u001b[0m\u001b[0;34m\u001b[0m\u001b[0;34m\u001b[0m\u001b[0m\n",
            "\u001b[0;31mFileNotFoundError\u001b[0m: [Errno 2] Cannot open file 'no-file': No such file or directory                                                                                                                                                                                                           "
          ]
        }
      ]
    },
    {
      "cell_type": "code",
      "source": [],
      "metadata": {
        "id": "9pp2l8qtPUNt"
      },
      "execution_count": null,
      "outputs": []
    }
  ]
}