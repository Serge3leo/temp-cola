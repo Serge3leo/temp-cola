{
  "nbformat": 4,
  "nbformat_minor": 0,
  "metadata": {
    "colab": {
      "provenance": [],
      "include_colab_link": true
    },
    "kernelspec": {
      "name": "python3",
      "display_name": "Python 3"
    },
    "language_info": {
      "name": "python"
    }
  },
  "cells": [
    {
      "cell_type": "markdown",
      "metadata": {
        "id": "view-in-github",
        "colab_type": "text"
      },
      "source": [
        "<a href=\"https://colab.research.google.com/github/Serge3leo/temp-cola/blob/main/stackoverflow-8585880.ipynb\" target=\"_parent\"><img src=\"https://colab.research.google.com/assets/colab-badge.svg\" alt=\"Open In Colab\"/></a>"
      ]
    },
    {
      "cell_type": "code",
      "source": [
        "# Install required packages\n",
        "!apt-get update -qq\n",
        "!apt-get install -qq gfortran\n",
        "!pip install -qq fortran-magic\n",
        "!pip install -qq meson charset-normalizer ninja cmake pkgconfig  # Workaround colab bug\n",
        "%load_ext fortranmagic\n",
        "%fortran_config --backend meson -v  # Workaround colab bug"
      ],
      "metadata": {
        "colab": {
          "base_uri": "https://localhost:8080/"
        },
        "id": "-vtNkRzdsOu3",
        "outputId": "f23303e9-dbf3-4a58-fe87-21d0533da33a"
      },
      "execution_count": 34,
      "outputs": [
        {
          "output_type": "stream",
          "name": "stdout",
          "text": [
            "W: Skipping acquire of configured file 'main/source/Sources' as repository 'https://r2u.stat.illinois.edu/ubuntu jammy InRelease' does not seem to provide it (sources.list entry misspelt?)\n",
            "The fortranmagic extension is already loaded. To reload it, use:\n",
            "  %reload_ext fortranmagic\n",
            "New default arguments for %fortran:\n",
            "\t--backend meson -v\n"
          ]
        }
      ]
    },
    {
      "cell_type": "code",
      "source": [
        "%%fortran -v\n",
        "subroutine read_params(filename, params, ierr)\n",
        "   implicit none\n",
        "   ! Argument Declarations !\n",
        "   character(len=*), intent(in) :: filename\n",
        "   integer, dimension(4), intent(out) :: params\n",
        "   integer, intent(out) :: ierr\n",
        "   ! Variable Declarations\n",
        "   integer :: i, iounit\n",
        "\n",
        "   iounit = 1\n",
        "   ierr = -2 ! Initialize error code for open error\n",
        "   open(unit=iounit, status=\"old\", file=filename, form=\"unformatted\", err=10)\n",
        "   ierr = -1 ! Initialize error code for read error\n",
        "   read(iounit, *, err=10) (params(i), i=1, 4)\n",
        "   ierr = 0 ! OK\n",
        "10 close(iounit)\n",
        "\n",
        "end subroutine read_params"
      ],
      "metadata": {
        "id": "6YTRTFdiCmdL",
        "outputId": "d5519746-a1c6-477b-b8c1-8aca833fddaf",
        "colab": {
          "base_uri": "https://localhost:8080/"
        }
      },
      "execution_count": 35,
      "outputs": [
        {
          "output_type": "stream",
          "name": "stdout",
          "text": [
            "The extension _fortran_magic_6646d1e4c2dd3e4d69a1b3c01fa319c5 is already loaded. To reload it, use:\n",
            "  %fortran_config --clean-cache\n",
            "\n",
            "Ok. The following fortran objects are ready to use: read_params\n"
          ]
        }
      ]
    },
    {
      "cell_type": "code",
      "source": [
        "params, ierr = read_params(\"not-file\")\n",
        "ierr"
      ],
      "metadata": {
        "id": "czXwS9_OEM50",
        "outputId": "123a8540-6509-4573-fac5-e9fb3da2875b",
        "colab": {
          "base_uri": "https://localhost:8080/"
        }
      },
      "execution_count": 36,
      "outputs": [
        {
          "output_type": "execute_result",
          "data": {
            "text/plain": [
              "-2"
            ]
          },
          "metadata": {},
          "execution_count": 36
        }
      ]
    },
    {
      "cell_type": "code",
      "source": [
        "%%fortran -v\n",
        "subroutine read_params_msg(filename, params, ierr, errmsg)\n",
        "   implicit none\n",
        "   ! Argument Declarations !\n",
        "   character(len=*), intent(in) :: filename\n",
        "   integer, dimension(4), intent(out) :: params\n",
        "   integer, intent(out) :: ierr\n",
        "   character(len=256), intent(out) :: errmsg\n",
        "   ! Variable Declarations\n",
        "   integer :: i, iounit\n",
        "\n",
        "   iounit = 1\n",
        "   errmsg = \"\"\n",
        "   ierr = -2 ! Initialize error code for open error\n",
        "   open(unit=iounit, status=\"old\", file=filename, form=\"unformatted\", &\n",
        "        err=10, iomsg=errmsg)\n",
        "   ierr = -1 ! Initialize error code for read error\n",
        "   read(iounit, *, err=10, iomsg=errmsg) (params(i), i=1, 4)\n",
        "   ierr = 0 ! OK\n",
        "10 close(iounit)\n",
        "\n",
        "end subroutine read_params_msg"
      ],
      "metadata": {
        "colab": {
          "base_uri": "https://localhost:8080/"
        },
        "id": "sd5F02ogssPB",
        "outputId": "29ae757a-2610-46c1-92f3-9d989d0320e3"
      },
      "execution_count": 37,
      "outputs": [
        {
          "output_type": "stream",
          "name": "stdout",
          "text": [
            "The extension _fortran_magic_0bee994c5a752e3be0cca1ddcfe36295 is already loaded. To reload it, use:\n",
            "  %fortran_config --clean-cache\n",
            "\n",
            "Ok. The following fortran objects are ready to use: read_params_msg\n"
          ]
        }
      ]
    },
    {
      "cell_type": "code",
      "source": [
        "params, ierr, errmsg = read_params_msg(\"not-file\")\n",
        "ierr, errmsg"
      ],
      "metadata": {
        "id": "cQI10KBP-Wkt",
        "outputId": "57d2dd6a-1a82-4647-b245-6e44301a74f1",
        "colab": {
          "base_uri": "https://localhost:8080/"
        }
      },
      "execution_count": 38,
      "outputs": [
        {
          "output_type": "execute_result",
          "data": {
            "text/plain": [
              "(-2, b\"Cannot open file 'not-file': No such file or directory\")"
            ]
          },
          "metadata": {},
          "execution_count": 38
        }
      ]
    },
    {
      "cell_type": "code",
      "source": [],
      "metadata": {
        "id": "0XznW4KM-wyy"
      },
      "execution_count": 38,
      "outputs": []
    },
    {
      "cell_type": "code",
      "source": [],
      "metadata": {
        "id": "TialV6H9EkbN"
      },
      "execution_count": 38,
      "outputs": []
    }
  ]
}