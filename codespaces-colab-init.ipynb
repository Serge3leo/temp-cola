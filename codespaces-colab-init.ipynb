{
 "cells": [
  {
   "cell_type": "markdown",
   "metadata": {},
   "source": [
    "<a target=\"_blank\" href=\"https://colab.research.google.com/github/Serge3leo/temp-cola/blob/main/codespaces-colab-init.ipynb\">\n",
    "  <img src=\"https://colab.research.google.com/assets/colab-badge.svg\" alt=\"Open In Colab\"/>\n",
    "</a>\n",
    "\n",
    "TODO: badge for codespace \\& mybinder"
   ]
  },
  {
   "cell_type": "markdown",
   "metadata": {},
   "source": [
    "# Codespaces & Colab\n",
    "\n",
    "See [#42](https://github.com/mgaitan/fortran_magic/issues/42) and [#39](https://github.com/mgaitan/fortran_magic/issues/39)"
   ]
  },
  {
   "cell_type": "code",
   "execution_count": 1,
   "metadata": {},
   "outputs": [
    {
     "data": {
      "application/javascript": "\n        if(typeof IPython === 'undefined') {\n            console.log('fortranmagic.py: TDOO: JupyterLab ' +\n                        'syntax highlight - unimplemented.');\n        } else {\n            IPython.CodeCell.options_default\n            .highlight_modes['magic_fortran'] = {'reg':[/^%%fortran/]};\n        }\n        "
     },
     "metadata": {},
     "output_type": "display_data"
    }
   ],
   "source": [
    "try:\n",
    "    %load_ext fortranmagic\n",
    "except ModuleNotFoundError:\n",
    "    # Example of install required packages for know enviroments\n",
    "    if 'codespace' in str(get_ipython().config):\n",
    "        !conda install -c conda-forge -y gfortran\n",
    "        %pip install -U -qq fortran-magic 'setuptools>=76.1' meson charset-normalizer ninja cmake pkgconfig\n",
    "        _ = input(\"Need restart Jupyter Server\")\n",
    "        assert False, \"Need restart Jupyter Server\"\n",
    "        %load_ext fortranmagic\n",
    "    elif 'google.colab' in str(get_ipython()):\n",
    "        !apt-get update -qq\n",
    "        !apt-get install -qq gfortran\n",
    "        !pip install -qq fortran-magic\n",
    "        # Workaround Google Colab configuration bug (Numpy & meson)\n",
    "        # https://github.com/mgaitan/fortran_magic/issues/39\n",
    "        !pip install -qq meson charset-normalizer ninja cmake pkgconfig\n",
    "        %load_ext fortranmagic\n",
    "        %fortran_config --backend meson -v\n",
    "    else:\n",
    "        assert False, \"\"\"Can't load fortranmagic. For install:\n",
    "                      pip install -U fortran-magic\n",
    "                      or\n",
    "                      conda install -c conda-forge fortran-magic\n",
    "                      See: https://github.com/mgaitan/fortran_magic/blob/master/documentation.ipynb\n",
    "                      \"\"\""
   ]
  },
  {
   "cell_type": "code",
   "execution_count": 2,
   "metadata": {},
   "outputs": [],
   "source": [
    "%%fortran\n",
    "subroutine f1(x, y, z)\n",
    "    real, intent(in) :: x,y\n",
    "    real, intent(out) :: z\n",
    "    z = sin(x+y)\n",
    "end subroutine f1"
   ]
  },
  {
   "cell_type": "code",
   "execution_count": 4,
   "metadata": {},
   "outputs": [
    {
     "data": {
      "text/plain": [
       "9.26574e-05"
      ]
     },
     "execution_count": 4,
     "metadata": {},
     "output_type": "execute_result"
    }
   ],
   "source": [
    "%precision %g\n",
    "f1(1.0, 2.1415)"
   ]
  }
 ],
 "metadata": {
  "kernelspec": {
   "display_name": "Python 3",
   "language": "python",
   "name": "python3"
  },
  "language_info": {
   "codemirror_mode": {
    "name": "ipython",
    "version": 3
   },
   "file_extension": ".py",
   "mimetype": "text/x-python",
   "name": "python",
   "nbconvert_exporter": "python",
   "pygments_lexer": "ipython3",
   "version": "3.12.1"
  }
 },
 "nbformat": 4,
 "nbformat_minor": 2
}
