{
  "cells": [
    {
      "cell_type": "markdown",
      "metadata": {
        "id": "view-in-github",
        "colab_type": "text"
      },
      "source": [
        "<a href=\"https://colab.research.google.com/github/Serge3leo/temp-cola/blob/main/codespaces-colab-init.ipynb\" target=\"_parent\"><img src=\"https://colab.research.google.com/assets/colab-badge.svg\" alt=\"Open In Colab\"/></a>"
      ]
    },
    {
      "cell_type": "markdown",
      "metadata": {
        "id": "SW69lZ4J8A_O"
      },
      "source": [
        "[![Binder](https://mybinder.org/badge_logo.svg)](https://mybinder.org/v2/gh/Serge3leo/temp-cola.git/HEAD?urlpath=%2Fdoc%2Ftree%2Fcodespaces-colab-init.ipynb)"
      ]
    },
    {
      "cell_type": "markdown",
      "metadata": {
        "id": "Vxmn_sNt8A_V"
      },
      "source": [
        "# Codespaces & Colab\n",
        "\n",
        "See [#42](https://github.com/mgaitan/fortran_magic/issues/42) and [#39](https://github.com/mgaitan/fortran_magic/issues/39)"
      ]
    },
    {
      "cell_type": "code",
      "execution_count": 1,
      "metadata": {
        "id": "JGUqcZuQ8A_V",
        "outputId": "41a7b512-e797-4acb-8eb6-648df8580d02",
        "colab": {
          "base_uri": "https://localhost:8080/",
          "height": 17
        }
      },
      "outputs": [
        {
          "output_type": "display_data",
          "data": {
            "application/javascript": [
              "\n",
              "        if(typeof IPython === 'undefined') {\n",
              "            console.log('fortranmagic.py: TDOO: JupyterLab ' +\n",
              "                        'syntax highlight - unimplemented.');\n",
              "        } else {\n",
              "            IPython.CodeCell.options_default\n",
              "            .highlight_modes['magic_fortran'] = {'reg':[/^%%fortran/]};\n",
              "        }\n",
              "        "
            ]
          },
          "metadata": {}
        }
      ],
      "source": [
        "try:\n",
        "    %load_ext fortranmagic\n",
        "except ModuleNotFoundError:\n",
        "    # Example of install required packages for know enviroments\n",
        "    if 'codespace' in str(get_ipython().config):\n",
        "        !conda install -y -q -c conda-forge fortran-compiler\n",
        "        %pip install -q -U fortran-magic 'setuptools>=76.1' meson \\\n",
        "                charset-normalizer ninja cmake pkgconfig\n",
        "        print(\"WARNING: NEED RESTART\")\n",
        "        %load_ext fortranmagic\n",
        "    elif 'google.colab' in str(get_ipython().config):\n",
        "        %pip install -q -U fortran-magic meson \\\n",
        "                charset-normalizer ninja cmake pkgconfig\n",
        "        %load_ext fortranmagic\n",
        "        %fortran_config --backend meson -v\n",
        "    else:\n",
        "        assert False, \"\"\"Can't load fortranmagic. For install:\n",
        "                      pip install -U fortran-magic\n",
        "                      or\n",
        "                      conda install -c conda-forge fortran-magic\n",
        "                      See: https://github.com/mgaitan/fortran_magic/blob/master/documentation.ipynb\n",
        "                      \"\"\""
      ]
    },
    {
      "cell_type": "code",
      "execution_count": 2,
      "metadata": {
        "id": "dhjLjHVT8A_X",
        "outputId": "fecd6121-3d32-4a00-9b9a-8dc9cb7da98b",
        "colab": {
          "base_uri": "https://localhost:8080/"
        }
      },
      "outputs": [
        {
          "output_type": "stream",
          "name": "stdout",
          "text": [
            "\n",
            "Ok. The following fortran objects are ready to use: f1\n"
          ]
        }
      ],
      "source": [
        "%%fortran\n",
        "subroutine f1(x, y, z)\n",
        "    real, intent(in) :: x,y\n",
        "    real, intent(out) :: z\n",
        "    z = sin(x+y)\n",
        "end subroutine f1"
      ]
    },
    {
      "cell_type": "code",
      "execution_count": 3,
      "metadata": {
        "id": "dqZXZ5-n8A_X",
        "outputId": "be997c4b-3b83-46b6-da7b-8798fade8e94",
        "colab": {
          "base_uri": "https://localhost:8080/"
        }
      },
      "outputs": [
        {
          "output_type": "execute_result",
          "data": {
            "text/plain": [
              "9.26574e-05"
            ]
          },
          "metadata": {},
          "execution_count": 3
        }
      ],
      "source": [
        "%precision %g\n",
        "f1(1.0, 2.1415)"
      ]
    },
    {
      "cell_type": "code",
      "source": [],
      "metadata": {
        "id": "Vd6drsLlz7Su"
      },
      "execution_count": 3,
      "outputs": []
    }
  ],
  "metadata": {
    "colab": {
      "provenance": [],
      "include_colab_link": true
    },
    "kernelspec": {
      "display_name": "Python 3 (ipykernel)",
      "language": "python",
      "name": "python3"
    },
    "language_info": {
      "codemirror_mode": {
        "name": "ipython",
        "version": 3
      },
      "file_extension": ".py",
      "mimetype": "text/x-python",
      "name": "python",
      "nbconvert_exporter": "python",
      "pygments_lexer": "ipython3",
      "version": "3.12.1"
    }
  },
  "nbformat": 4,
  "nbformat_minor": 0
}