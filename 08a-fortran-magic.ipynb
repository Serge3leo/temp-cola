{
  "nbformat": 4,
  "nbformat_minor": 0,
  "metadata": {
    "colab": {
      "provenance": [],
      "include_colab_link": true
    },
    "kernelspec": {
      "name": "python3",
      "display_name": "Python 3"
    },
    "language_info": {
      "name": "python"
    }
  },
  "cells": [
    {
      "cell_type": "markdown",
      "metadata": {
        "id": "view-in-github",
        "colab_type": "text"
      },
      "source": [
        "<a href=\"https://colab.research.google.com/github/Serge3leo/temp-cola/blob/main/08a-fortran-magic.ipynb\" target=\"_parent\"><img src=\"https://colab.research.google.com/assets/colab-badge.svg\" alt=\"Open In Colab\"/></a>"
      ]
    },
    {
      "cell_type": "code",
      "source": [
        "import sys\n",
        "import numpy as np\n",
        "\n",
        "print(\"Python version:\", sys.version)\n",
        "print(\"NumPy version:\", np.__version__)"
      ],
      "metadata": {
        "colab": {
          "base_uri": "https://localhost:8080/"
        },
        "id": "ErGRDKy_kRmo",
        "outputId": "28f1de41-efb3-499d-a5e7-94fe9ce6a29c"
      },
      "execution_count": null,
      "outputs": [
        {
          "output_type": "stream",
          "name": "stdout",
          "text": [
            "Python version: 3.10.12 (main, Nov  6 2024, 20:22:13) [GCC 11.4.0]\n",
            "NumPy version: 1.26.4\n"
          ]
        }
      ]
    },
    {
      "cell_type": "code",
      "source": [
        "# Install required packages\n",
        "!apt-get update -qq\n",
        "!apt-get install -qq gfortran\n",
        "!pip install -qq fortran-magic==0.9"
      ],
      "metadata": {
        "colab": {
          "base_uri": "https://localhost:8080/"
        },
        "id": "-vtNkRzdsOu3",
        "outputId": "835631b7-3769-4f7e-df96-ea21fc944da4"
      },
      "execution_count": null,
      "outputs": [
        {
          "output_type": "stream",
          "name": "stdout",
          "text": [
            "W: Skipping acquire of configured file 'main/source/Sources' as repository 'https://r2u.stat.illinois.edu/ubuntu jammy InRelease' does not seem to provide it (sources.list entry misspelt?)\n",
            "\u001b[2K   \u001b[90m━━━━━━━━━━━━━━━━━━━━━━━━━━━━━━━━━━━━━━━━\u001b[0m \u001b[32m1.6/1.6 MB\u001b[0m \u001b[31m21.1 MB/s\u001b[0m eta \u001b[36m0:00:00\u001b[0m\n",
            "\u001b[?25h"
          ]
        }
      ]
    },
    {
      "cell_type": "code",
      "source": [
        "import distutils\n",
        "print(f\"distutils: {distutils.__version__}\")"
      ],
      "metadata": {
        "id": "6YTRTFdiCmdL",
        "outputId": "72e3c044-e2f0-4b9c-b7d6-ef875409f6e6",
        "colab": {
          "base_uri": "https://localhost:8080/"
        }
      },
      "execution_count": 66,
      "outputs": [
        {
          "output_type": "stream",
          "name": "stdout",
          "text": [
            "distutils: 3.10.12\n"
          ]
        }
      ]
    },
    {
      "cell_type": "markdown",
      "source": [
        "Probably bug Numpy 1.26.4\n",
        "\n",
        "Numpy does not check the `distutils` version, and does not switch to using `mezon` if necessary.\n",
        "\n",
        "Workaround:"
      ],
      "metadata": {
        "id": "HLs0uuVrCgvT"
      }
    },
    {
      "cell_type": "code",
      "source": [
        "!pip install meson charset-normalizer ninja cmake pkgconfig"
      ],
      "metadata": {
        "id": "czXwS9_OEM50",
        "outputId": "065446d2-68de-41a9-dfb1-549f5ab18862",
        "colab": {
          "base_uri": "https://localhost:8080/"
        }
      },
      "execution_count": 67,
      "outputs": [
        {
          "output_type": "stream",
          "name": "stdout",
          "text": [
            "Requirement already satisfied: meson in /usr/local/lib/python3.10/dist-packages (1.6.0)\n",
            "Requirement already satisfied: charset-normalizer in /usr/local/lib/python3.10/dist-packages (3.4.0)\n",
            "Requirement already satisfied: ninja in /usr/local/lib/python3.10/dist-packages (1.11.1.2)\n",
            "Requirement already satisfied: cmake in /usr/local/lib/python3.10/dist-packages (3.30.5)\n",
            "Requirement already satisfied: pkgconfig in /usr/local/lib/python3.10/dist-packages (1.5.5)\n"
          ]
        }
      ]
    },
    {
      "cell_type": "code",
      "source": [
        "%load_ext fortranmagic\n",
        "%fortran_config --backend meson -v"
      ],
      "metadata": {
        "colab": {
          "base_uri": "https://localhost:8080/"
        },
        "id": "sd5F02ogssPB",
        "outputId": "38845f5c-63d1-49f8-ac56-2b416e3c2db5"
      },
      "execution_count": 70,
      "outputs": [
        {
          "output_type": "stream",
          "name": "stdout",
          "text": [
            "The fortranmagic extension is already loaded. To reload it, use:\n",
            "  %reload_ext fortranmagic\n",
            "New default arguments for %fortran:\n",
            "\t--backend meson -v\n"
          ]
        }
      ]
    },
    {
      "cell_type": "code",
      "source": [
        "%%fortran\n",
        "subroutine f1(x, y, z)\n",
        "    real, intent(in) :: x,y\n",
        "    real, intent(out) :: z\n",
        "\n",
        "    z = sin(x+y)\n",
        "\n",
        "end subroutine f1\n"
      ],
      "metadata": {
        "colab": {
          "base_uri": "https://localhost:8080/"
        },
        "id": "p5EitkyrM_wk",
        "outputId": "544fb112-9010-4b86-bfcb-40e7235fc075"
      },
      "execution_count": 71,
      "outputs": [
        {
          "output_type": "stream",
          "name": "stdout",
          "text": [
            "\n",
            "Ok. The following fortran objects are ready to use: f1\n"
          ]
        }
      ]
    },
    {
      "cell_type": "code",
      "source": [
        "f1(1., 2.)"
      ],
      "metadata": {
        "id": "cQI10KBP-Wkt",
        "outputId": "45f94aee-2235-4951-a13d-4fa83a938899",
        "colab": {
          "base_uri": "https://localhost:8080/"
        }
      },
      "execution_count": 73,
      "outputs": [
        {
          "output_type": "execute_result",
          "data": {
            "text/plain": [
              "0.14112000167369843"
            ]
          },
          "metadata": {},
          "execution_count": 73
        }
      ]
    },
    {
      "cell_type": "code",
      "source": [
        "print(f1.__doc__)"
      ],
      "metadata": {
        "id": "0XznW4KM-wyy",
        "outputId": "169e870a-b2fe-4f48-ed59-0908ea383f4b",
        "colab": {
          "base_uri": "https://localhost:8080/"
        }
      },
      "execution_count": 75,
      "outputs": [
        {
          "output_type": "stream",
          "name": "stdout",
          "text": [
            "z = f1(x,y)\n",
            "\n",
            "Wrapper for ``f1``.\n",
            "\n",
            "Parameters\n",
            "----------\n",
            "x : input float\n",
            "y : input float\n",
            "\n",
            "Returns\n",
            "-------\n",
            "z : float\n",
            "\n"
          ]
        }
      ]
    },
    {
      "cell_type": "code",
      "source": [],
      "metadata": {
        "id": "TialV6H9EkbN"
      },
      "execution_count": null,
      "outputs": []
    }
  ]
}