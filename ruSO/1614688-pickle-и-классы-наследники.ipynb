{
  "cells": [
    {
      "cell_type": "markdown",
      "metadata": {
        "id": "view-in-github",
        "colab_type": "text"
      },
      "source": [
        "<a href=\"https://colab.research.google.com/github/Serge3leo/temp-cola/blob/main/ruSO/1614688-pickle-%D0%B8-%D0%BA%D0%BB%D0%B0%D1%81%D1%81%D1%8B-%D0%BD%D0%B0%D1%81%D0%BB%D0%B5%D0%B4%D0%BD%D0%B8%D0%BA%D0%B8.ipynb\" target=\"_parent\"><img src=\"https://colab.research.google.com/assets/colab-badge.svg\" alt=\"Open In Colab\"/></a>"
      ]
    },
    {
      "cell_type": "markdown",
      "id": "6f7eb74f-ba21-40ec-8ebf-56af78e420ff",
      "metadata": {
        "editable": true,
        "id": "6f7eb74f-ba21-40ec-8ebf-56af78e420ff",
        "tags": []
      },
      "source": [
        "# pickle и классы наследники\n",
        "\n",
        "К моему вопросу [Сохранение состояния pickle и классы наследники](\n",
        "https://ru.stackoverflow.com/q/1614688/430734).\n",
        "\n",
        "При возникновении ситуации, когда `pickle` отказывается сохранять\n",
        "(сериализовать) некоторые атрибуты, как класса наследника, так\n",
        "и родительского класса (либо они сами имеют очевидные зависимости\n",
        "от текущего состояния: дескрипторы открытых файлов и т.п.),\n",
        "кажется предпочтительным, что бы каждый класс решал проблемы\n",
        "своих собственных атрибутов самостоятельно.\n",
        "\n",
        "Как действовать с атрибутами, которые нельзя замариновать, в случае\n",
        "без наследования, описано в документации `pickle`\n",
        "([Handling Stateful Objects](\n",
        "https://docs.python.org/3/library/pickle.html#handling-stateful-objects),\n",
        "сделать копию `__dict__`, удалить и т.п.). А в случае наследования,\n",
        "как кажется, надо спуститься до основателя и, когда, все предки всё\n",
        "свое сделали, то взять их результат и его доработать, только в части  \n",
        "своих атрибутов.\n",
        "\n",
        "Если я правильно понимаю, в Python функции родительского класса\n",
        "работают с тем же `__dict__`, что и функции наследника. Таким\n",
        "образом, код магических `__getstate__()` и `__setstate__()`\n",
        "интерфейса `pickle` может выглядеть так?"
      ]
    },
    {
      "cell_type": "code",
      "execution_count": 1,
      "id": "26d70af9-6ce8-418c-b72c-9bfb4dfdb602",
      "metadata": {
        "editable": true,
        "id": "26d70af9-6ce8-418c-b72c-9bfb4dfdb602",
        "tags": []
      },
      "outputs": [],
      "source": [
        "class MySuper:\n",
        "    def __getstate__(self):\n",
        "        state = self.__dict__.copy()\n",
        "        ...  # Удаляем то, что спасти нельзя, и добавлем \"забытое\".\n",
        "        return state\n",
        "\n",
        "    def __setstate__(self, state):\n",
        "        self.__dict__.update(state)\n",
        "        ...  # Воссоздаём неспасаемое и используем дополнительно сохранённое.\n",
        "    ...\n",
        "\n",
        "\n",
        "class MyDerive1(MySuper):\n",
        "    def __getstate__(self):\n",
        "        state = super().__getstate__()\n",
        "        ...  # Удаляем то, что спасти нельзя и добавлем \"забытое\".\n",
        "        return state\n",
        "\n",
        "    def __setstate__(self, state):\n",
        "        super().__setstate__(state)\n",
        "        # Такой порядок вызовов `__setstate__()` кажется удобным,\n",
        "        # для исключения возможности тривиальной перезаписи\n",
        "        # нетривиальных измений, сделанных родительским классом.\n",
        "        # Но поскольку Python не фиксирует порядок инициализации,\n",
        "        # могут быть варианты.\n",
        "        ...  # Воссоздаём неспасаемое и используем дополнительно сохранённое.\n",
        "    ..."
      ]
    },
    {
      "cell_type": "markdown",
      "id": "62bb67dc-1f4f-4918-a7ab-d331c19904e2",
      "metadata": {
        "editable": true,
        "id": "62bb67dc-1f4f-4918-a7ab-d331c19904e2",
        "tags": []
      },
      "source": [
        "В случае множественного наследования, всё станет немного запутанее,\n",
        "т.к. придётся объединить исключения от мамы, папы и других\n",
        "старших родствеников. Но если все они делают исключения на основе\n",
        "единой таблицы `__dict__`, то это не должно стать прнципиальной\n",
        "проблемой.\n",
        "\n",
        "Я ничего не забыл? Нет ли каких подводных граблей в таком подходе?"
      ]
    },
    {
      "cell_type": "markdown",
      "id": "af6f7351-ff3a-4515-8bf4-6398d2357bec",
      "metadata": {
        "editable": true,
        "id": "af6f7351-ff3a-4515-8bf4-6398d2357bec",
        "tags": []
      },
      "source": [
        "# pickle и Matplotlib"
      ]
    },
    {
      "cell_type": "markdown",
      "id": "fcab6ab9-c9bd-434e-93c8-3926231bdb5f",
      "metadata": {
        "editable": true,
        "id": "fcab6ab9-c9bd-434e-93c8-3926231bdb5f",
        "tags": []
      },
      "source": [
        "### Импорты и несущественные настройки Jupyter"
      ]
    },
    {
      "cell_type": "markdown",
      "id": "db0420bb-a8da-4811-8d1d-28b8514b1121",
      "metadata": {
        "editable": true,
        "id": "db0420bb-a8da-4811-8d1d-28b8514b1121",
        "tags": []
      },
      "source": [
        "Не все GUI-бэкенды (`%matplotlib`) доступны на всех установках Jupyter,\n",
        "но это не кажется проблемой, вроде как, можно сохранять для одного\n",
        "бэкенда, а восстанавливать на другом.\n",
        "\n",
        "В Colab доступны \"кнопки\" от `ipympl`, но на `github.dev` (Codespaces)\n",
        "нет, только бэкенд `inline` с изображениями кнопок вместо них самих.\n",
        "Локально вариантов больше, но это не особо влияет на суть, `pickle`\n",
        "не любит \"кнопки\" даже в варианте `inline`."
      ]
    },
    {
      "cell_type": "code",
      "execution_count": 2,
      "id": "f87e5a93-5b32-4f4d-a416-a7bbfefb141b",
      "metadata": {
        "id": "f87e5a93-5b32-4f4d-a416-a7bbfefb141b"
      },
      "outputs": [],
      "source": [
        "%config InlineBackend.figure_format = 'retina'\n",
        "\n",
        "# %matplotlib ipympl\n",
        "# %matplotlib osx\n",
        "# %matplotlib widget\n",
        "\n",
        "if 'google.colab' in str(get_ipython().config):\n",
        "    try:\n",
        "        from google.colab import output\n",
        "        output.enable_custom_widget_manager()\n",
        "        %matplotlib ipympl\n",
        "    except (ValueError, ModuleNotFoundError):\n",
        "        %pip install -q ipympl\n",
        "        print(\"Требуется перезапустить сеанс\")\n",
        "        %matplotlib ipympl\n",
        "\n",
        "import pickle\n",
        "\n",
        "import numpy as np\n",
        "import matplotlib as mpl\n",
        "import matplotlib.pyplot as plt"
      ]
    },
    {
      "cell_type": "markdown",
      "id": "cd3eef3f-71fe-45a5-9b30-8caff14d7fe7",
      "metadata": {
        "editable": true,
        "id": "cd3eef3f-71fe-45a5-9b30-8caff14d7fe7",
        "tags": []
      },
      "source": [
        "## Пример использования\n",
        "\n",
        "Если `test_create_serialized_states = True`, то состояние классов\n",
        "сохраняется во временные файлы, после перезапуска и установки\n",
        "в `False` классы (с графиками и кнопками) будет восстанавливаться\n",
        "из временных файлов."
      ]
    },
    {
      "cell_type": "code",
      "execution_count": 3,
      "id": "e72d30ea-acaa-406a-b842-904964831cbb",
      "metadata": {
        "id": "e72d30ea-acaa-406a-b842-904964831cbb"
      },
      "outputs": [],
      "source": [
        "test_create_serialized_states = True\n",
        "\n",
        "class MySuper:\n",
        "    def __getstate__(self):\n",
        "        state = self.__dict__.copy()\n",
        "        # pickle не любит кнопок и т.п.\n",
        "        del state['scbt']\n",
        "        state['__scbt_status__'] = self.scbt.get_status()\n",
        "        # Ввиду разного порядка добавления элементов,\n",
        "        # размерчики могут становится немного странными.\n",
        "        state['__figwidth__'] = self.fig.get_figwidth()\n",
        "        state['__figheight__'] = self.fig.get_figheight()\n",
        "        return state\n",
        "\n",
        "    def __setstate__(self, state):\n",
        "        self.__dict__.update(state)\n",
        "        self.fig.set_figwidth(state['__figwidth__'])\n",
        "        self.fig.set_figheight(state['__figheight__'])\n",
        "        self._MySuper_init_interface(\n",
        "            scbt_actives=state['__scbt_status__'])\n",
        "\n",
        "    def _MySuper_init_interface(self, scbt_actives=None):\n",
        "        self.ax['super'].clear()  # Внезапная опытная заплатка\n",
        "        self.scbt = mpl.widgets.CheckButtons(self.ax['super'],\n",
        "                                             [\"Super\", \"Hyper\"],\n",
        "                                             actives=scbt_actives)\n",
        "        self.scbtcid = self.scbt.on_clicked(self.scbt_on_clicked)\n",
        "\n",
        "\n",
        "    def __init__(self):\n",
        "        self.fig, self.ax = plt.subplot_mosaic([\n",
        "                                ['plt', 'super'],\n",
        "                                ['plt', 'derive'],\n",
        "                                ['plt', '.']],\n",
        "                                width_ratios=[80, 20],\n",
        "                                height_ratios=[15, 15, 70],\n",
        "                            )\n",
        "        self.ax['plt'].plot(np.arange(-1, 10)**2)\n",
        "        self._MySuper_init_interface()\n",
        "\n",
        "    def scbt_on_clicked(self, label):\n",
        "        print(f\"MySuper.scbt_on_clicked({label=})\")\n",
        "\n",
        "\n",
        "class MyDerive1(MySuper):\n",
        "    def __getstate__(self):\n",
        "        state = super().__getstate__()\n",
        "        del state['dcbt1']\n",
        "        state['__dcbt1_status__'] = self.dcbt1.get_status()\n",
        "        return state\n",
        "\n",
        "    def __setstate__(self, state):\n",
        "        super().__setstate__(state)\n",
        "        self._MyDerive1_init_interface(\n",
        "            dcbt1_actives=state['__dcbt1_status__'])\n",
        "\n",
        "    def _MyDerive1_init_interface(self, dcbt1_actives=None):\n",
        "        self.ax['derive'].clear()  # Внезапная опытная заплатка\n",
        "        self.dcbt1 = mpl.widgets.CheckButtons(self.ax['derive'],\n",
        "                                              [\"Derive1\", \"Child1\"],\n",
        "                                              actives=dcbt1_actives)\n",
        "        self.dcbt1cid = self.dcbt1.on_clicked(self.dcbt1_on_clicked)\n",
        "\n",
        "    def __init__(self):\n",
        "        super().__init__()\n",
        "        self._MyDerive1_init_interface()\n",
        "\n",
        "    def dcbt1_on_clicked(self, label):\n",
        "        print(f\"MyDerive1.dcbt1_on_clicked({label=})\")\n",
        "\n",
        "\n",
        "class MyDerive2(MySuper):\n",
        "    def __getstate__(self):\n",
        "        state = super().__getstate__()\n",
        "        del state['dcbt2']\n",
        "        state['__dcbt2_status__'] = self.dcbt2.get_status()\n",
        "        return state\n",
        "\n",
        "    def __setstate__(self, state):\n",
        "        super().__setstate__(state)\n",
        "        self._MyDerive2_init_interface(\n",
        "            dcbt2_actives=state['__dcbt2_status__'])\n",
        "\n",
        "    def _MyDerive2_init_interface(self, dcbt2_actives=None):\n",
        "        self.ax['derive'].clear()  # Внезапная опытная заплатка\n",
        "        self.dcbt2 = mpl.widgets.CheckButtons(self.ax['derive'],\n",
        "                                              [\"Derive2\", \"Child2\"],\n",
        "                                              actives=dcbt2_actives)\n",
        "        self.dcbt2cid = self.dcbt2.on_clicked(self.dcbt2_on_clicked)\n",
        "\n",
        "    def __init__(self):\n",
        "        super().__init__()\n",
        "        self._MyDerive2_init_interface()\n",
        "\n",
        "    def dcbt2_on_clicked(self, label):\n",
        "        print(f\"MyDerive1.dcbt2_on_clicked({label=})\")"
      ]
    },
    {
      "cell_type": "code",
      "execution_count": 4,
      "id": "f2a49317-88d4-4de8-a859-2e80ef07f1cf",
      "metadata": {
        "colab": {
          "base_uri": "https://localhost:8080/",
          "height": 603,
          "referenced_widgets": [
            "ad21f5981de34925a3ed6995949dafde",
            "3de92199a1a240af80743a47270caf36",
            "21cf54a018ed42f396bd9b527690644e",
            "d338aeec638b462f8a4f89413f1dbf03"
          ]
        },
        "id": "f2a49317-88d4-4de8-a859-2e80ef07f1cf",
        "outputId": "c31b2355-494d-48e9-92e0-e9fd8d17c58c"
      },
      "outputs": [
        {
          "output_type": "display_data",
          "data": {
            "text/plain": [
              "Canvas(toolbar=Toolbar(toolitems=[('Home', 'Reset original view', 'home', 'home'), ('Back', 'Back to previous …"
            ],
            "image/png": "[encoded data removed]",
            "text/html": [
              "\n",
              "            <div style=\"display: inline-block;\">\n",
              "                <div class=\"jupyter-widgets widget-label\" style=\"text-align: center;\">\n",
              "                    Figure\n",
              "                </div>\n",
              "                <img src='data:image/png;base64,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' width=640.0/>\n",
              "            </div>\n",
              "        "
            ],
            "application/vnd.jupyter.widget-view+json": {
              "version_major": 2,
              "version_minor": 0,
              "model_id": "ad21f5981de34925a3ed6995949dafde"
            }
          },
          "metadata": {
            "application/vnd.jupyter.widget-view+json": {
              "colab": {
                "custom_widget_manager": {
                  "url": "https://ssl.gstatic.com/colaboratory-static/widgets/colab-cdn-widget-manager/2b70e893a8ba7c0f/manager.min.js"
                }
              }
            }
          }
        },
        {
          "output_type": "stream",
          "name": "stdout",
          "text": [
            "MySuper.scbt_on_clicked(label='Hyper')\n",
            "MyDerive1.dcbt1_on_clicked(label='Derive1')\n"
          ]
        }
      ],
      "source": [
        "tfn1 = \"/tmp/d1.pickle\"\n",
        "if test_create_serialized_states:\n",
        "    d1 = MyDerive1()\n",
        "    d1.scbt.set_active(0)  # Некое изменение состояния до сохранения\n",
        "    d1.dcbt1.set_active(1)\n",
        "    with open(tfn1, \"wb\") as fo:\n",
        "        pickle.dump(d1, fo)\n",
        "else:\n",
        "    with open(tfn1, \"rb\") as fi:\n",
        "        d1 = pickle.load(fi)\n",
        "plt.show()"
      ]
    },
    {
      "cell_type": "code",
      "execution_count": 5,
      "id": "94cbf5f4-e9e0-48c5-bdd1-a5830672079c",
      "metadata": {
        "colab": {
          "base_uri": "https://localhost:8080/",
          "height": 603,
          "referenced_widgets": [
            "8b431f72c6584fbf85b804ac1caddc72",
            "ae36506a35534d829a767499474fc782",
            "574d669e03964efa9d7b7ce4eef2048d",
            "2ea1029474b34fee84dd438f794416ac"
          ]
        },
        "id": "94cbf5f4-e9e0-48c5-bdd1-a5830672079c",
        "outputId": "a6a752ec-e2ca-4f67-c4d1-0021a9877b56"
      },
      "outputs": [
        {
          "output_type": "display_data",
          "data": {
            "text/plain": [
              "Canvas(toolbar=Toolbar(toolitems=[('Home', 'Reset original view', 'home', 'home'), ('Back', 'Back to previous …"
            ],
            "image/png": "[encoded data removed]",
            "text/html": [
              "\n",
              "            <div style=\"display: inline-block;\">\n",
              "                <div class=\"jupyter-widgets widget-label\" style=\"text-align: center;\">\n",
              "                    Figure\n",
              "                </div>\n",
              "                <img src='data:image/png;base64,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' width=640.0/>\n",
              "            </div>\n",
              "        "
            ],
            "application/vnd.jupyter.widget-view+json": {
              "version_major": 2,
              "version_minor": 0,
              "model_id": "8b431f72c6584fbf85b804ac1caddc72"
            }
          },
          "metadata": {
            "application/vnd.jupyter.widget-view+json": {
              "colab": {
                "custom_widget_manager": {
                  "url": "https://ssl.gstatic.com/colaboratory-static/widgets/colab-cdn-widget-manager/2b70e893a8ba7c0f/manager.min.js"
                }
              }
            }
          }
        },
        {
          "output_type": "stream",
          "name": "stdout",
          "text": [
            "MyDerive1.dcbt2_on_clicked(label='Child2')\n",
            "MySuper.scbt_on_clicked(label='Super')\n"
          ]
        }
      ],
      "source": [
        "tfn2 = \"/tmp/d2.pickle\"\n",
        "if test_create_serialized_states:\n",
        "    d2 = MyDerive2()\n",
        "    d2.scbt.set_active(1)  # Некое изменение состояния до сохранения\n",
        "    d2.dcbt2.set_active(0)\n",
        "    with open(tfn2, \"wb\") as fo:\n",
        "        pickle.dump(d2, fo)\n",
        "else:\n",
        "    with open(tfn2, \"rb\") as fi:\n",
        "        d2 = pickle.load(fi)\n",
        "plt.show()"
      ]
    },
    {
      "cell_type": "markdown",
      "id": "9567dbdc-02ae-44e1-81ed-8fec13fe3b32",
      "metadata": {
        "id": "9567dbdc-02ae-44e1-81ed-8fec13fe3b32"
      },
      "source": [
        "Вопрос вкуса, что делать с 7-ю упоминаниями \"dcbt2\" для каждой кнопки\n",
        "или 4-мя \"self.fig\", возможно, стоит обернуть в отдельно. Но это уже\n",
        "другой, альтернативный подход, который не факт, что лучше."
      ]
    },
    {
      "cell_type": "markdown",
      "id": "a95246cb-82de-43c5-b374-655a58637362",
      "metadata": {
        "id": "a95246cb-82de-43c5-b374-655a58637362"
      },
      "source": [
        "## Резюме"
      ]
    },
    {
      "cell_type": "markdown",
      "id": "1265cdbc-8320-45a6-be86-f1938502a808",
      "metadata": {
        "id": "1265cdbc-8320-45a6-be86-f1938502a808"
      },
      "source": [
        "Мотивом рассмотрения `pickle` для сохрания состояния служит\n",
        "сравнительная простота использования. К примеру, если сравнивать\n",
        "со стандартным модулем `json`, то у того сразу возникают проблемы:\n",
        "- `namedtuple`, вообще, полная беда;\n",
        "- типы Numpy;\n",
        "- пользовательские классы.\n",
        "\n",
        "В целом, использование `json` требует немаленьких ручных доработок\n",
        "(реализация функций `default()` и `object_hook()` для многих, почти\n",
        "всех классов), как для классов целевого кода, так и для классов\n",
        "кода отображения. Правда, можно надеяться, результат окажется более\n",
        "надёжным и предсказуемым, ну, после отладки и тестирования.\n",
        "\n",
        "Напротив, использование `pickle`, в моём случае, требует сравнительно\n",
        "небольших доработок только некоторых частей кода отбражения.\n",
        "\n",
        "Но, конечно, объём файла сохраненного состояния в `pickle` тысячи раз\n",
        "больше. Кроме того у же встретились и могут ещё выскочить странные\n",
        "грабли. Потому и есть вопросы. Возможно, кто-то уже насупал?\n",
        "\n",
        "Запрос \"[pickle site:matplotlib.org](https://yandex.ru/search?text=pickle+site%3Amatplotlib.org)\" к Яндекс выдает некоторое\n",
        "количество вопрос и ответов, но связанного изложения и/или рецепта\n",
        "я не обнаружил."
      ]
    },
    {
      "cell_type": "markdown",
      "id": "7dfc4e97-b28c-4912-ad73-9d42a661f1f5",
      "metadata": {
        "editable": true,
        "id": "7dfc4e97-b28c-4912-ad73-9d42a661f1f5",
        "tags": []
      },
      "source": [
        "# `get_pickling_errors()`\n",
        "\n",
        "Приспособление, которое находит те атрибуты, с которыми\n",
        "отказывается работать `pickle`."
      ]
    },
    {
      "cell_type": "code",
      "execution_count": 6,
      "id": "1635b20e-44cb-4491-b604-2ad522d90ccc",
      "metadata": {
        "colab": {
          "base_uri": "https://localhost:8080/",
          "height": 34
        },
        "editable": true,
        "id": "1635b20e-44cb-4491-b604-2ad522d90ccc",
        "outputId": "0fb3d996-3e69-46fe-d964-55bd76d81e97",
        "tags": []
      },
      "outputs": [
        {
          "output_type": "execute_result",
          "data": {
            "text/plain": [
              "{}"
            ]
          },
          "metadata": {},
          "execution_count": 6
        }
      ],
      "source": [
        "# https://stackoverflow.com/a/7218986/8585880\n",
        "def get_pickling_errors(obj, seen=None):\n",
        "    if seen == None:\n",
        "        seen = []\n",
        "    try:\n",
        "        state = obj.__getstate__()\n",
        "    except AttributeError:\n",
        "        return\n",
        "    if state == None:\n",
        "        return\n",
        "    if isinstance(state, tuple):\n",
        "        if not isinstance(state[0], dict):\n",
        "            state = state[1]\n",
        "        else:\n",
        "            state = state[0].update(state[1])\n",
        "    result = {}\n",
        "    for i in state:\n",
        "        try:\n",
        "            pickle.dumps(state[i], protocol=4)\n",
        "        except (TypeError, pickle.PicklingError):\n",
        "            if not state[i] in seen:\n",
        "                seen.append(state[i])\n",
        "                result[i] = get_pickling_errors(state[i], seen)\n",
        "    return result\n",
        "\n",
        "get_pickling_errors(d1)"
      ]
    },
    {
      "cell_type": "code",
      "execution_count": 7,
      "id": "05f9121c-1ecd-4443-bcc4-f27dcf0f47d2",
      "metadata": {
        "colab": {
          "base_uri": "https://localhost:8080/",
          "height": 34
        },
        "editable": true,
        "id": "05f9121c-1ecd-4443-bcc4-f27dcf0f47d2",
        "outputId": "c61dc209-16cf-4553-99fb-931e892b4261",
        "tags": []
      },
      "outputs": [
        {
          "output_type": "execute_result",
          "data": {
            "text/plain": [
              "{}"
            ]
          },
          "metadata": {},
          "execution_count": 7
        }
      ],
      "source": [
        "get_pickling_errors(d2)"
      ]
    }
  ],
  "metadata": {
    "colab": {
      "provenance": [],
      "include_colab_link": true
    },
    "kernelspec": {
      "display_name": "Python 3 (ipykernel)",
      "language": "python",
      "name": "python3"
    },
    "language_info": {
      "codemirror_mode": {
        "name": "ipython",
        "version": 3
      },
      "file_extension": ".py",
      "mimetype": "text/x-python",
      "name": "python",
      "nbconvert_exporter": "python",
      "pygments_lexer": "ipython3",
      "version": "3.12.0"
    },
    "widgets": {
      "application/vnd.jupyter.widget-state+json": {
        "ad21f5981de34925a3ed6995949dafde": {
          "model_module": "jupyter-matplotlib",
          "model_name": "MPLCanvasModel",
          "model_module_version": "^0.11",
          "state": {
            "_cursor": "default",
            "_data_url": "data:image/png;base64,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",
            "_dom_classes": [],
            "_figure_label": "Figure 1",
            "_image_mode": "diff",
            "_message": "",
            "_model_module": "jupyter-matplotlib",
            "_model_module_version": "^0.11",
            "_model_name": "MPLCanvasModel",
            "_rubberband_height": 0,
            "_rubberband_width": 0,
            "_rubberband_x": 0,
            "_rubberband_y": 0,
            "_size": [
              640,
              480
            ],
            "_view_count": null,
            "_view_module": "jupyter-matplotlib",
            "_view_module_version": "^0.11",
            "_view_name": "MPLCanvasView",
            "capture_scroll": false,
            "footer_visible": true,
            "header_visible": true,
            "layout": "IPY_MODEL_3de92199a1a240af80743a47270caf36",
            "pan_zoom_throttle": 33,
            "resizable": true,
            "toolbar": "IPY_MODEL_21cf54a018ed42f396bd9b527690644e",
            "toolbar_position": "left",
            "toolbar_visible": "fade-in-fade-out"
          }
        },
        "3de92199a1a240af80743a47270caf36": {
          "model_module": "@jupyter-widgets/base",
          "model_name": "LayoutModel",
          "model_module_version": "1.2.0",
          "state": {
            "_model_module": "@jupyter-widgets/base",
            "_model_module_version": "1.2.0",
            "_model_name": "LayoutModel",
            "_view_count": null,
            "_view_module": "@jupyter-widgets/base",
            "_view_module_version": "1.2.0",
            "_view_name": "LayoutView",
            "align_content": null,
            "align_items": null,
            "align_self": null,
            "border": null,
            "bottom": null,
            "display": null,
            "flex": null,
            "flex_flow": null,
            "grid_area": null,
            "grid_auto_columns": null,
            "grid_auto_flow": null,
            "grid_auto_rows": null,
            "grid_column": null,
            "grid_gap": null,
            "grid_row": null,
            "grid_template_areas": null,
            "grid_template_columns": null,
            "grid_template_rows": null,
            "height": null,
            "justify_content": null,
            "justify_items": null,
            "left": null,
            "margin": null,
            "max_height": null,
            "max_width": null,
            "min_height": null,
            "min_width": null,
            "object_fit": null,
            "object_position": null,
            "order": null,
            "overflow": null,
            "overflow_x": null,
            "overflow_y": null,
            "padding": null,
            "right": null,
            "top": null,
            "visibility": null,
            "width": null
          }
        },
        "21cf54a018ed42f396bd9b527690644e": {
          "model_module": "jupyter-matplotlib",
          "model_name": "ToolbarModel",
          "model_module_version": "^0.11",
          "state": {
            "_current_action": "",
            "_dom_classes": [],
            "_model_module": "jupyter-matplotlib",
            "_model_module_version": "^0.11",
            "_model_name": "ToolbarModel",
            "_view_count": null,
            "_view_module": "jupyter-matplotlib",
            "_view_module_version": "^0.11",
            "_view_name": "ToolbarView",
            "button_style": "",
            "collapsed": true,
            "layout": "IPY_MODEL_d338aeec638b462f8a4f89413f1dbf03",
            "orientation": "vertical",
            "toolitems": [
              [
                "Home",
                "Reset original view",
                "home",
                "home"
              ],
              [
                "Back",
                "Back to previous view",
                "arrow-left",
                "back"
              ],
              [
                "Forward",
                "Forward to next view",
                "arrow-right",
                "forward"
              ],
              [
                "Pan",
                "Left button pans, Right button zooms\nx/y fixes axis, CTRL fixes aspect",
                "arrows",
                "pan"
              ],
              [
                "Zoom",
                "Zoom to rectangle\nx/y fixes axis",
                "square-o",
                "zoom"
              ],
              [
                "Download",
                "Download plot",
                "floppy-o",
                "save_figure"
              ]
            ]
          }
        },
        "d338aeec638b462f8a4f89413f1dbf03": {
          "model_module": "@jupyter-widgets/base",
          "model_name": "LayoutModel",
          "model_module_version": "1.2.0",
          "state": {
            "_model_module": "@jupyter-widgets/base",
            "_model_module_version": "1.2.0",
            "_model_name": "LayoutModel",
            "_view_count": null,
            "_view_module": "@jupyter-widgets/base",
            "_view_module_version": "1.2.0",
            "_view_name": "LayoutView",
            "align_content": null,
            "align_items": null,
            "align_self": null,
            "border": null,
            "bottom": null,
            "display": null,
            "flex": null,
            "flex_flow": null,
            "grid_area": null,
            "grid_auto_columns": null,
            "grid_auto_flow": null,
            "grid_auto_rows": null,
            "grid_column": null,
            "grid_gap": null,
            "grid_row": null,
            "grid_template_areas": null,
            "grid_template_columns": null,
            "grid_template_rows": null,
            "height": null,
            "justify_content": null,
            "justify_items": null,
            "left": null,
            "margin": null,
            "max_height": null,
            "max_width": null,
            "min_height": null,
            "min_width": null,
            "object_fit": null,
            "object_position": null,
            "order": null,
            "overflow": null,
            "overflow_x": null,
            "overflow_y": null,
            "padding": null,
            "right": null,
            "top": null,
            "visibility": null,
            "width": null
          }
        },
        "8b431f72c6584fbf85b804ac1caddc72": {
          "model_module": "jupyter-matplotlib",
          "model_name": "MPLCanvasModel",
          "model_module_version": "^0.11",
          "state": {
            "_cursor": "default",
            "_data_url": "data:image/png;base64,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",
            "_dom_classes": [],
            "_figure_label": "Figure 2",
            "_image_mode": "diff",
            "_message": "",
            "_model_module": "jupyter-matplotlib",
            "_model_module_version": "^0.11",
            "_model_name": "MPLCanvasModel",
            "_rubberband_height": 0,
            "_rubberband_width": 0,
            "_rubberband_x": 0,
            "_rubberband_y": 0,
            "_size": [
              640,
              480
            ],
            "_view_count": null,
            "_view_module": "jupyter-matplotlib",
            "_view_module_version": "^0.11",
            "_view_name": "MPLCanvasView",
            "capture_scroll": false,
            "footer_visible": true,
            "header_visible": true,
            "layout": "IPY_MODEL_ae36506a35534d829a767499474fc782",
            "pan_zoom_throttle": 33,
            "resizable": true,
            "toolbar": "IPY_MODEL_574d669e03964efa9d7b7ce4eef2048d",
            "toolbar_position": "left",
            "toolbar_visible": "fade-in-fade-out"
          }
        },
        "ae36506a35534d829a767499474fc782": {
          "model_module": "@jupyter-widgets/base",
          "model_name": "LayoutModel",
          "model_module_version": "1.2.0",
          "state": {
            "_model_module": "@jupyter-widgets/base",
            "_model_module_version": "1.2.0",
            "_model_name": "LayoutModel",
            "_view_count": null,
            "_view_module": "@jupyter-widgets/base",
            "_view_module_version": "1.2.0",
            "_view_name": "LayoutView",
            "align_content": null,
            "align_items": null,
            "align_self": null,
            "border": null,
            "bottom": null,
            "display": null,
            "flex": null,
            "flex_flow": null,
            "grid_area": null,
            "grid_auto_columns": null,
            "grid_auto_flow": null,
            "grid_auto_rows": null,
            "grid_column": null,
            "grid_gap": null,
            "grid_row": null,
            "grid_template_areas": null,
            "grid_template_columns": null,
            "grid_template_rows": null,
            "height": null,
            "justify_content": null,
            "justify_items": null,
            "left": null,
            "margin": null,
            "max_height": null,
            "max_width": null,
            "min_height": null,
            "min_width": null,
            "object_fit": null,
            "object_position": null,
            "order": null,
            "overflow": null,
            "overflow_x": null,
            "overflow_y": null,
            "padding": null,
            "right": null,
            "top": null,
            "visibility": null,
            "width": null
          }
        },
        "574d669e03964efa9d7b7ce4eef2048d": {
          "model_module": "jupyter-matplotlib",
          "model_name": "ToolbarModel",
          "model_module_version": "^0.11",
          "state": {
            "_current_action": "",
            "_dom_classes": [],
            "_model_module": "jupyter-matplotlib",
            "_model_module_version": "^0.11",
            "_model_name": "ToolbarModel",
            "_view_count": null,
            "_view_module": "jupyter-matplotlib",
            "_view_module_version": "^0.11",
            "_view_name": "ToolbarView",
            "button_style": "",
            "collapsed": true,
            "layout": "IPY_MODEL_2ea1029474b34fee84dd438f794416ac",
            "orientation": "vertical",
            "toolitems": [
              [
                "Home",
                "Reset original view",
                "home",
                "home"
              ],
              [
                "Back",
                "Back to previous view",
                "arrow-left",
                "back"
              ],
              [
                "Forward",
                "Forward to next view",
                "arrow-right",
                "forward"
              ],
              [
                "Pan",
                "Left button pans, Right button zooms\nx/y fixes axis, CTRL fixes aspect",
                "arrows",
                "pan"
              ],
              [
                "Zoom",
                "Zoom to rectangle\nx/y fixes axis",
                "square-o",
                "zoom"
              ],
              [
                "Download",
                "Download plot",
                "floppy-o",
                "save_figure"
              ]
            ]
          }
        },
        "2ea1029474b34fee84dd438f794416ac": {
          "model_module": "@jupyter-widgets/base",
          "model_name": "LayoutModel",
          "model_module_version": "1.2.0",
          "state": {
            "_model_module": "@jupyter-widgets/base",
            "_model_module_version": "1.2.0",
            "_model_name": "LayoutModel",
            "_view_count": null,
            "_view_module": "@jupyter-widgets/base",
            "_view_module_version": "1.2.0",
            "_view_name": "LayoutView",
            "align_content": null,
            "align_items": null,
            "align_self": null,
            "border": null,
            "bottom": null,
            "display": null,
            "flex": null,
            "flex_flow": null,
            "grid_area": null,
            "grid_auto_columns": null,
            "grid_auto_flow": null,
            "grid_auto_rows": null,
            "grid_column": null,
            "grid_gap": null,
            "grid_row": null,
            "grid_template_areas": null,
            "grid_template_columns": null,
            "grid_template_rows": null,
            "height": null,
            "justify_content": null,
            "justify_items": null,
            "left": null,
            "margin": null,
            "max_height": null,
            "max_width": null,
            "min_height": null,
            "min_width": null,
            "object_fit": null,
            "object_position": null,
            "order": null,
            "overflow": null,
            "overflow_x": null,
            "overflow_y": null,
            "padding": null,
            "right": null,
            "top": null,
            "visibility": null,
            "width": null
          }
        }
      }
    }
  },
  "nbformat": 4,
  "nbformat_minor": 5
}