{
 "cells": [
  {
   "cell_type": "markdown",
   "id": "1f3be0d6-4291-47c7-ac8c-6ffd1f77c7f5",
   "metadata": {
    "id": "1f3be0d6-4291-47c7-ac8c-6ffd1f77c7f5"
   },
   "source": [
    "<a href=\"https://colab.research.google.com/github/Serge3leo/temp-cola/blob/main/ruSO/1615333-Найти-длину-факториала/Варианты-и-график.ipynb\" target=\"_parent\"><img src=\"https://colab.research.google.com/assets/colab-badge.svg\" alt=\"Open In Colab\"/></a>"
   ]
  },
  {
   "cell_type": "markdown",
   "id": "8af4680d-f2d8-4104-8f87-02da287f06b7",
   "metadata": {
    "id": "8af4680d-f2d8-4104-8f87-02da287f06b7"
   },
   "source": [
    "# Найти длину строки от Big факториала в питоне\n",
    "\n",
    "К моему [ответу](https://ru.stackoverflow.com/a/1615337/430734) на\n",
    "[вопрос на ruSO](https://ru.stackoverflow.com/q/1615333/430734).\n",
    "В некоторых ячейках дублируются `import` что бы было проще проверять на [https://www.codewars.com/kata/59f34ec5a01431ab7600005a/train/python](\n",
    "https://www.codewars.com/kata/59f34ec5a01431ab7600005a/train/python)."
   ]
  },
  {
   "cell_type": "code",
   "execution_count": 1,
   "id": "5b26ad21-c9d6-4907-bd22-ec2c352ee7e8",
   "metadata": {
    "colab": {
     "base_uri": "https://localhost:8080/"
    },
    "id": "5b26ad21-c9d6-4907-bd22-ec2c352ee7e8",
    "outputId": "b4db50e2-475e-4285-b411-a0b71464644d"
   },
   "outputs": [
    {
     "name": "stdout",
     "output_type": "stream",
     "text": [
      "Хорь\n"
     ]
    }
   ],
   "source": [
    "import math\n",
    "\n",
    "def count(n):\n",
    "    return 1 + int(math.lgamma(n + 1)*_count_log10_e)\n",
    "    # return (1 + int(math.lgamma(n + 1)*_count_log10_e)\n",
    "    #         + (n == 48_655_817)\n",
    "    #         - (n in [46_464_264, 54_336_595, 54_528_830, 74_048_650]))\n",
    "\n",
    "_count_log10_e = math.log10(math.e)\n",
    "_count_ln_10 = math.log(10)\n",
    "assert 1. == _count_log10_e*_count_ln_10\n",
    "\n",
    "#----\n",
    "for n, f in [(5, 3), (50, 65), (500, 1135), (5000, 16326), (50000, 213237),\n",
    "             (500000, 2632342), (5000000, 31323382), (50000000, 363233781)]:\n",
    "    assert count(n) == f\n",
    "for n in range(10):\n",
    "    assert count(n) == len(str(math.factorial(n)))\n",
    "print(\"Хорь\")"
   ]
  },
  {
   "cell_type": "code",
   "execution_count": 2,
   "id": "0b0fe499-a66d-4667-82dd-a529bc8ba2e9",
   "metadata": {
    "id": "0b0fe499-a66d-4667-82dd-a529bc8ba2e9"
   },
   "outputs": [],
   "source": [
    "slow_tests = False"
   ]
  },
  {
   "cell_type": "markdown",
   "id": "e151b2b2-71a8-4d1f-b126-83e15336edfe",
   "metadata": {
    "id": "e151b2b2-71a8-4d1f-b126-83e15336edfe"
   },
   "source": [
    "## Импорт"
   ]
  },
  {
   "cell_type": "code",
   "execution_count": 3,
   "id": "7aed1c9f-1b94-48a8-a18c-ba84e2b5a7ca",
   "metadata": {
    "colab": {
     "base_uri": "https://localhost:8080/",
     "height": 17
    },
    "id": "7aed1c9f-1b94-48a8-a18c-ba84e2b5a7ca",
    "outputId": "af443e75-52b2-47c1-cf69-06668dd7320c"
   },
   "outputs": [
    {
     "data": {
      "application/javascript": [
       "\n",
       "        if(typeof IPython === 'undefined') {\n",
       "            console.log('fortranmagic.py: TDOO: JupyterLab ' +\n",
       "                        'syntax highlight - unimplemented.');\n",
       "        } else {\n",
       "            IPython.CodeCell.options_default\n",
       "            .highlight_modes['magic_fortran'] = {'reg':[/^%%fortran/]};\n",
       "        }\n",
       "        "
      ]
     },
     "metadata": {},
     "output_type": "display_data"
    }
   ],
   "source": [
    "import ctypes\n",
    "import decimal\n",
    "import math\n",
    "import os\n",
    "import sys\n",
    "import time\n",
    "import urllib.request\n",
    "import warnings\n",
    "\n",
    "import numpy as np\n",
    "import matplotlib.pyplot as plt\n",
    "%config InlineBackend.figure_format = 'retina'\n",
    "import tqdm\n",
    "\n",
    "try:\n",
    "    import gmpy2\n",
    "except ModuleNotFoundError:\n",
    "    if 'google.colab' in str(get_ipython().config):\n",
    "        %pip install -q -U gmpy2\n",
    "    import gmpy2\n",
    "\n",
    "if sys.platform.startswith('win'):\n",
    "    libm = ctypes.cdll.msvcr120\n",
    "elif sys.platform.startswith('darwin'):\n",
    "    libm = ctypes.CDLL(\"libc.dylib\")\n",
    "elif sys.platform.startswith('freebsd'):\n",
    "    libm = ctypes.CDLL(\"libm.so\")\n",
    "else:\n",
    "    libm = ctypes.CDLL(\"libm.so.6\")\n",
    "\n",
    "try:\n",
    "    %load_ext fortranmagic\n",
    "except ModuleNotFoundError:\n",
    "    # Example of install required packages for know enviroments\n",
    "    if 'codespace' in str(get_ipython().config):\n",
    "        !conda install -y -q -c conda-forge fortran-compiler\n",
    "        %pip install -q -U fortran-magic 'setuptools>=76.1' meson \\\n",
    "                charset-normalizer ninja cmake pkgconfig\n",
    "        print(\"WARNING: NEED RESTART\")\n",
    "        %load_ext fortranmagic\n",
    "    elif 'google.colab' in str(get_ipython().config):\n",
    "        %pip install -q -U fortran-magic meson \\\n",
    "                charset-normalizer ninja cmake pkgconfig\n",
    "        %load_ext fortranmagic\n",
    "        %fortran_config --backend meson -v\n",
    "    else:\n",
    "        assert False, \"\"\"Can't load fortranmagic. For install:\n",
    "                      pip install -U fortran-magic\n",
    "                      or\n",
    "                      conda install -c conda-forge fortran-magic\n",
    "                      See: https://github.com/mgaitan/fortran_magic/blob/master/documentation.ipynb\n",
    "                      \"\"\""
   ]
  },
  {
   "cell_type": "markdown",
   "id": "dff1a729-3fa3-4cd6-b62f-31a157dd5511",
   "metadata": {
    "id": "dff1a729-3fa3-4cd6-b62f-31a157dd5511"
   },
   "source": [
    "## Ошибки точности\n",
    "\n",
    "Внезапно, прям как зимний снегопад, оказалось, что для вычисления\n",
    "длины факториала точности `float` бывает недостаточно. Причём, как\n",
    "всегда, неожиданно рано. А в формуле длины факториала\n",
    "$1 + \\left\\lfloor \\log_{10} n! \\right\\rfloor$ предполагается,\n",
    "что $\\log_{10} n!$ не бывает целым, и точность промежуточных\n",
    "вычислений должна позволять выяснить больше он ближайшего\n",
    "целого или меньше.\n",
    "\n",
    "1. Начиная с `n >= 28_563_732`, представление `float` (binary64\n",
    "   по IEC 60559) значения  $\\log_{10} \\Gamma(n + 1)$ может\n",
    "   оказываться целым (немного повезло, что первое округление в удачную\n",
    "   сторону, поэтому собственно ошибки `count(n)` начинаются немного\n",
    "   позднее, с `n >= 46_464_264`);\n",
    "3. Так же, лично для меня, оказалась неожиданностью, что у `CPython`\n",
    "   своя собственная реализация гамма-функции и она несколько хуже,\n",
    "   чем стандартные BSD/macOS/Microsoft и даже `glibc` (мой\n",
    "   поверхностный поиск не дал информации о точности реализации [math.lgamma](\n",
    "   https://github.com/python/cpython/blob/main/Modules/mathmodule.c),\n",
    "   но комментарии \"it's probably not worth it\", как бы, намекают).\n",
    "\n",
    "Конечно, в условиях не сказано, какой должен быть диапазон, однако,\n",
    "исходя из `test.assert_equals(count(50000000),363233781)` можно\n",
    "использовать поправку\n",
    "`+ (n == 48_655_817) - (n in [46_464_264, 54_336_595, 54_528_830, 74_048_650])`.\n",
    "типа, с двойным запасом.\n",
    "\n",
    "Впрочем, есть парочка, в некотором смысле, более честных, хотя и\n",
    "заметно менее эффективных решений."
   ]
  },
  {
   "cell_type": "code",
   "execution_count": 4,
   "id": "c975cfae-834d-48e1-a48e-4586ca557f6a",
   "metadata": {
    "colab": {
     "base_uri": "https://localhost:8080/"
    },
    "id": "c975cfae-834d-48e1-a48e-4586ca557f6a",
    "outputId": "2eda2eee-febb-496c-9d23-0b39858ddb8c"
   },
   "outputs": [
    {
     "name": "stdout",
     "output_type": "stream",
     "text": [
      "Хорь\n"
     ]
    }
   ],
   "source": [
    "# `count()` иногда выдаёт неверную длину факториала\n",
    "assert count(46_464_264) > 336067875\n",
    "assert count(48_655_817) < 352892875\n",
    "assert count(54_336_595) > 396700505\n",
    "# Основная причина:\n",
    "assert 336067875.0 == math.lgamma(46_464_264 + 1)*_count_log10_e\n",
    "assert 396700505.0 == math.lgamma(54_336_595 + 1)*_count_log10_e\n",
    "# Иногда к основной причине добавляется ошибка CPython\n",
    "libm.lgamma.restype = ctypes.c_double\n",
    "libm.lgamma.argtypes = (ctypes.c_double,)\n",
    "assert 352892874.0 == libm.lgamma(48_655_817 + 1)*_count_log10_e\n",
    "assert 352892874.0 != math.lgamma(48_655_817 + 1)*_count_log10_e\n",
    "assert (float.fromhex('0x1.508b7c9ffffffp+28')\n",
    "        == math.lgamma(48_655_817 + 1)*_count_log10_e)\n",
    "print(\"Хорь\")"
   ]
  },
  {
   "cell_type": "markdown",
   "id": "f50c955e-c637-41b4-88c3-431aadb6fcb8",
   "metadata": {
    "id": "f50c955e-c637-41b4-88c3-431aadb6fcb8"
   },
   "source": [
    "## `gmpy2.lgamma()`\n",
    "\n",
    "Поскольку на [codewars.com](\n",
    "https://www.codewars.com/kata/59f34ec5a01431ab7600005a/train/python)\n",
    "есть `gmpy2` (жаль, что нет православного `mpmath`), то решение на нём\n",
    "будет самым коротким среди тех, у которых диапазон много больше\n",
    "`50_000_000` (точность по умолчанию 107-бит, имитирует точность\n",
    "компенсационной арифметики, а ля double-double, алгоритмы Кэхана,\n",
    "Неймура и т.п.)."
   ]
  },
  {
   "cell_type": "code",
   "execution_count": 5,
   "id": "143987a8-ac20-44b2-890f-4f60637e30fd",
   "metadata": {
    "colab": {
     "base_uri": "https://localhost:8080/"
    },
    "id": "143987a8-ac20-44b2-890f-4f60637e30fd",
    "outputId": "acaa050a-f034-4e35-cceb-c881c0d655b8"
   },
   "outputs": [
    {
     "name": "stdout",
     "output_type": "stream",
     "text": [
      "Не хватает точности f, l10ge=(mpfr('0.999999970197677612',54), mpfr('5.9604644775390625e-08',54))\n",
      "Не хватает точности f, l10ge=(mpfr('2.98023223876953125e-08',54), mpfr('5.9604644775390625e-08',54))\n",
      "Хорь\n"
     ]
    }
   ],
   "source": [
    "import gmpy2\n",
    "\n",
    "def gcount(n, precision=107, check=True, **kwargs):\n",
    "    with gmpy2.context(precision=precision, **kwargs):\n",
    "        log10_e = gmpy2.log10(gmpy2.exp(1))\n",
    "        l10g = gmpy2.lgamma(n + 1)[0]*log10_e\n",
    "        i, f = gmpy2.modf(l10g)\n",
    "        if check and l10g:\n",
    "            l10ge = gmpy2.next_above(l10g) - gmpy2.next_below(l10g)\n",
    "            if f < l10ge or 1 - f < l10ge:\n",
    "                # Как вариант, рекурсивный вызов с повышенной точностью\n",
    "                raise ValueError(f\"Не хватает точности {f, l10ge=}\")\n",
    "        return 1 + i\n",
    "\n",
    "#----\n",
    "for n, f in [(5, 3), (50, 65), (500, 1135), (5000, 16326), (50000, 213237),\n",
    "             (500000, 2632342), (5000000, 31323382), (50000000, 363233781)]:\n",
    "    assert gcount(n) == f\n",
    "for n in range(10):\n",
    "    assert gcount(n) == len(str(math.factorial(n)))\n",
    "assert gcount(46_464_264) == 336067875\n",
    "try:\n",
    "    gcount(46_464_264, precision=54)\n",
    "    failValueError = True\n",
    "except ValueError as e:\n",
    "    failValueError = False\n",
    "    print(e)\n",
    "assert not failValueError\n",
    "assert (gcount(46_464_264, precision=54, check=False)\n",
    "        == gcount(46_464_264))\n",
    "assert (gcount(46_464_264, precision=53, check=False)\n",
    "        != gcount(46_464_264))\n",
    "assert gcount(48_655_817) == 352892875\n",
    "try:\n",
    "    gcount(48_655_817, precision=54)\n",
    "    failValueError = True\n",
    "except ValueError as e:\n",
    "    failValueError = False\n",
    "    print(e)\n",
    "assert not failValueError\n",
    "assert (gcount(48_655_817, precision=54, check=False)\n",
    "        == gcount(48_655_817))\n",
    "assert (gcount(48_655_817, precision=53, check=False)\n",
    "        == gcount(48_655_817))\n",
    "assert (gcount(100**500, precision=10**4) ==\n",
    "        gcount(100**500, precision=2*10**4))\n",
    "print(\"Хорь\")"
   ]
  },
  {
   "cell_type": "markdown",
   "id": "5c50d487-e6ec-413b-892a-669a75ea50e6",
   "metadata": {
    "id": "5c50d487-e6ec-413b-892a-669a75ea50e6"
   },
   "source": [
    "## `decimal` и ряд Стирлинга\n",
    "\n",
    "Решение на \"чистом\" Python, честно покрывающее диапазон до\n",
    "`50_000_000` и далее, увы, немного длиннее предыдущего и\n",
    "ещё немного медленнее (`math.lgamma()` ∼ 300 нс,\n",
    "`gmpy2.lgamma()` ∼ 30 мкс, а используя `decimal` ∼ 200 мкс),\n",
    "но, главное, оно тоже `O(1)`. Точность `decimal` по\n",
    "умолчанию - 28 знаков (≥ 93 бита), её хватит на многие и\n",
    "многие миллиарды. 😉"
   ]
  },
  {
   "cell_type": "code",
   "execution_count": 6,
   "id": "2265656d-697c-4475-ad9a-f0c719d553b2",
   "metadata": {
    "colab": {
     "base_uri": "https://localhost:8080/"
    },
    "id": "2265656d-697c-4475-ad9a-f0c719d553b2",
    "outputId": "52ff853a-1fa6-46d5-8604-11815dfac54d"
   },
   "outputs": [
    {
     "name": "stdout",
     "output_type": "stream",
     "text": [
      "Не хватает точности n, f, l10ge=(46464264, Decimal('1E-7'), Decimal('1.737177927626977E-7'))\n",
      "Не хватает точности n, f, l10ge=(54336595, Decimal('0.9999999'), Decimal('1.737177927623222E-7'))\n",
      "Хорь\n"
     ]
    }
   ],
   "source": [
    "import decimal\n",
    "\n",
    "def dcount(n, check=True, **kwargs):\n",
    "    with decimal.localcontext(**kwargs):\n",
    "        log10_e = decimal.Decimal(1).exp().log10()\n",
    "        lg, lge = decimal_simple_lgamma(n + 1)\n",
    "        l10g = lg*log10_e\n",
    "        i = int(l10g)\n",
    "        if check and l10g:\n",
    "            l10ge = lge*log10_e\n",
    "            f = l10g - i\n",
    "            if f < l10ge or 1 - f < l10ge:\n",
    "                # Как вариант, рекурсивный вызов с повышенной точностью\n",
    "                raise ValueError(f\"Не хватает точности {n, f, l10ge=}\")\n",
    "        return 1 + i\n",
    "\n",
    "def decimal_simple_lgamma(x) -> tuple:\n",
    "    \"\"\"Простая реализация логарифма гамма-функции для оценки\n",
    "       длины факториала. Использует только первый член ряда\n",
    "       Стирлинга (A046968, A046969), он же является оценкой\n",
    "       остаточного члена ряда сверху.\n",
    "    \"\"\"\n",
    "    n = decimal.Decimal(x) - 1\n",
    "    if 0 == n or 1 == n:\n",
    "        return (decimal.Decimal(0), decimal.Decimal(0))\n",
    "    pi = decimal.Decimal('3.14159265358979323846264338327950288419'\n",
    "                         '7169399375105820974944592307816406286209')\n",
    "    lg = n*n.ln() - n + (2*pi*n).ln()/2\n",
    "    n12 = 12*n\n",
    "    err = 1/n12 - 1/(n12 + 1)\n",
    "    return (lg + err, abs(err) + 2*(lg.next_plus() - lg.next_minus()))\n",
    "\n",
    "#----\n",
    "for n, f in [(5, 3), (50, 65), (500, 1135), (5000, 16326), (50000, 213237),\n",
    "             (500000, 2632342), (5000000, 31323382), (50000000, 363233781)]:\n",
    "    assert dcount(n) == f\n",
    "for n in range(1000):\n",
    "    assert dcount(n) == len(str(math.factorial(n)))\n",
    "assert dcount(46_464_264) == 336067875\n",
    "try:\n",
    "    dcount(46_464_264, prec=16)\n",
    "    failValueError = True\n",
    "except ValueError as e:\n",
    "    failValueError = False\n",
    "    print(e)\n",
    "assert not failValueError\n",
    "assert (dcount(46_464_264, prec=17, check=False)\n",
    "        == dcount(46_464_264))\n",
    "assert (dcount(46_464_264, prec=16, check=False)\n",
    "        != dcount(46_464_264))\n",
    "assert dcount(54_336_595) == 396700505\n",
    "try:\n",
    "    dcount(54_336_595, prec=16)\n",
    "    failValueError = True\n",
    "except ValueError as e:\n",
    "    failValueError = False\n",
    "    print(e)\n",
    "assert not failValueError\n",
    "assert (dcount(54_336_595, prec=17, check=False)\n",
    "        == dcount(54_336_595))\n",
    "assert (dcount(54_336_595, prec=16, check=False)\n",
    "        == dcount(54_336_595))\n",
    "assert (dcount(100**500, prec=2*10**3) ==\n",
    "        gcount(100**500, precision=2*10**4))\n",
    "print(\"Хорь\")"
   ]
  },
  {
   "cell_type": "markdown",
   "id": "e7bb967d-ae65-45a9-94e4-bad2b4eb75a8",
   "metadata": {
    "id": "e7bb967d-ae65-45a9-94e4-bad2b4eb75a8"
   },
   "source": [
    "## Double-double `math.fsum()` логарифмов\n",
    "\n",
    "Получаем компенсационную сумму путём двойного суммирования\n",
    "`math.fsum()` (или `sum()` для >=3.12).\n",
    "\n",
    "Выбор основания логарифма 10, конечно, удобен и позволяет\n",
    "сократить одну константу, но с точки зрения точности и\n",
    "производительности, всё-таки стоит брать: `2` или `e`.\n",
    "Наверное удобнее `e`, и формулы компактнее (я с оценкой\n",
    "ошибки для основания 10 запутался, а может там у библиотек\n",
    "свои особенности), да и сравнивать с гамма-функцией\n",
    "немного проще.\n",
    "\n",
    "Точность неплохая, вроде бы реальные ошибки начинаются с\n",
    "`n >= 40_752_166_709` (зависит от основания и реализации,\n",
    "для 10 существенно раньше, для 2 немного позже). Пока\n",
    "неясно, как дойти до этого числа на Python, лично я\n",
    "использовал NumPy модуль на Фортране для компенсационного\n",
    "суммирования.\n",
    "\n",
    "Способ оценки ошибки для этого алгоритма неясен. Можно\n",
    "прикинуть примерно так: пусть у нас $\\ln x$ рассчитывается\n",
    "с точностью $\\pm 0.5 \\varepsilon$, типа, дисперсия\n",
    "$\\sigma^2 \\approx \\frac{\\varepsilon^2}{12}$:\n",
    "\n",
    "$$ СКО{\\left(\\sum_{i=1}^{n} N_{i}(0, \\sigma) \\ln{i} \\right)} \\approx\n",
    "   \\sigma \\sqrt{\\int_{1}^{n} \\ln^{2}{x} \\ dx} =\n",
    "   \\sigma \\sqrt{n \\left( \\ln^{2}{n} - 2 \\ln{n} + 2 \\right) - 2}$$\n",
    "\n",
    "Эта оценка, предположительно, даёт ложноотрицательные ошибки,\n",
    "примерно 2..3 штуки на 10<sup>9</sup>. Однако, ввиду низкой\n",
    "скорости этого способа ∼ `O(n)`, нет\n",
    "особой необходимости в её точности, т.к. большие значения\n",
    "`n` трудно доступны (трудно вычислимы). Тем не менее,\n",
    "контроль времени на codewars, с трудом, но проходит."
   ]
  },
  {
   "cell_type": "code",
   "execution_count": 7,
   "id": "f994bc52-0d8a-49c9-9150-b8be8a839b5b",
   "metadata": {
    "colab": {
     "base_uri": "https://localhost:8080/"
    },
    "id": "f994bc52-0d8a-49c9-9150-b8be8a839b5b",
    "outputId": "8dde9564-c4f5-4ad9-a6db-6bb3ab5ab242"
   },
   "outputs": [
    {
     "name": "stdout",
     "output_type": "stream",
     "text": [
      "fsum=0: 0.425\n",
      "fsum=1: 0.747\n",
      "Хорь\n"
     ]
    }
   ],
   "source": [
    "def sum_ln_err(n):\n",
    "    return (math.ulp(1)/math.sqrt(12))*math.sqrt(\n",
    "                n*(math.log(n)**2 - 2*math.log(n) + 2) - 2)\n",
    "\n",
    "class two_factorial_length_np:\n",
    "    _chunk_size = 20_000\n",
    "    _sum_not_double_double = (1e-37 != sum([1., 1e-37, -1.]))\n",
    "    def __init__(self, fsum=_sum_not_double_double):\n",
    "        self.fsum = fsum\n",
    "        self.n = 1\n",
    "        self.sum = np.zeros(2)\n",
    "        self.res = 1\n",
    "    def __call__(self, n, check=True):\n",
    "        if n <= 1:\n",
    "            return 1\n",
    "        if self.n == n:  # TODO: check при повторном вызове игнорируется?\n",
    "            return self.res\n",
    "        assert self.n < n\n",
    "        while self.n < n:\n",
    "            c = min(n, self.n + self._chunk_size)\n",
    "            a = np.arange(self.n + 1, c + 1 + 3, dtype=float)\n",
    "            a[:-3] = np.log(a[:-3])\n",
    "            a[-3:-1] = self.sum\n",
    "            if self.fsum:\n",
    "                self.sum[0] = math.fsum(a[:-1])\n",
    "                a[-1] = -self.sum[0]\n",
    "                self.sum[1] = math.fsum(a)\n",
    "            else:\n",
    "                self.sum[0] = sum(a[:-1].tolist())\n",
    "                a[-1] = -self.sum[0]\n",
    "                self.sum[1] = sum(a.tolist())\n",
    "            assert self.sum[0] == self.sum[0] + self.sum[1]\n",
    "            self.n = c\n",
    "        l10g = two_mul(self.sum, _two_log10_e)\n",
    "        i = two_floor(l10g)\n",
    "        self.res = 1 + i\n",
    "        if check and l10g[0]:\n",
    "            f = two_add(l10g, -i)  # TODO: случай i >= 2**53\n",
    "            err = sum_ln_err(self.n)*_two_log10_e[0]\n",
    "            if f[0] <= err or (1 - f[0]) <= err:\n",
    "                raise ValueError(f\"Не хватает точности {f, err=}\")\n",
    "        return self.res\n",
    "\n",
    "_codewars_state = two_factorial_length_np()\n",
    "def _codewars_count(n):\n",
    "    global _codewars_state\n",
    "    if n <= 1:\n",
    "        return 1\n",
    "    if n < _codewars_state.n:\n",
    "        _codewars_state = two_factorial_length_np()\n",
    "    return _codewars_state(n)\n",
    "\n",
    "#----\n",
    "# Функции double-double\n",
    "\n",
    "# Половина нужна для умножения на константу, однако, другая\n",
    "# половина требуется для контроля точности (вычитания) и\n",
    "# небольшая функция two_floor()\n",
    "\n",
    "def quick_two_sum(a, b) -> tuple:\n",
    "    assert abs(a) >= abs(b)\n",
    "    hi = a + b\n",
    "    lo = b - (hi - a)\n",
    "    assert hi == hi + lo\n",
    "    return hi, lo\n",
    "\n",
    "def two_sum(a, b) -> tuple:\n",
    "    if abs(a) >= abs(b):\n",
    "        return quick_two_sum(a, b)\n",
    "    return quick_two_sum(b, a)\n",
    "\n",
    "def two_add(a: tuple, b) -> tuple:\n",
    "    if isinstance(b, tuple):\n",
    "        hi, lo = two_sum(a[0], b[0])\n",
    "        lh, ll = two_sum(a[1], b[1])\n",
    "        lo += lh\n",
    "        hi, lo = two_sum(hi, lo)  # TODO:??? quick_two_sum(hi, lo)\n",
    "        lo += ll\n",
    "    else:\n",
    "        hi, lo = two_sum(a[0], b)\n",
    "        lo += a[1]\n",
    "    return two_sum(hi, lo)  # TODO:??? quick_two_sum(hi, lo)\n",
    "\n",
    "if 'fma' in math.__dict__:\n",
    "    two_fma = math.fma\n",
    "else:\n",
    "    # Для <3.13 есть pyfma, libc (ctypes) или известный сплит-алгоритм\n",
    "    libm.fma.restype = ctypes.c_double\n",
    "    libm.fma.argtypes = (ctypes.c_double, ctypes.c_double, ctypes.c_double)\n",
    "    two_fma = libm.fma\n",
    "\n",
    "def two_prod(a, b) -> tuple:\n",
    "    hi = a * b\n",
    "    lo = two_fma(a, b, -hi)\n",
    "    assert hi == hi + lo\n",
    "    return hi, lo\n",
    "\n",
    "def two_mul(a: tuple, b: tuple) -> tuple:\n",
    "    assert a[0] == a[0] + a[1]\n",
    "    assert b[0] == b[0] + b[1]\n",
    "    hi, lo = two_prod(a[0], b[0])\n",
    "    lo += a[0] * b[1]\n",
    "    lo += a[1] * b[0]\n",
    "    return quick_two_sum(hi, lo)\n",
    "\n",
    "def two_floor(a: tuple) -> int:\n",
    "    assert a[0] == a[0] + a[1]\n",
    "    i = math.floor(a[0])\n",
    "    if i == a[0]:\n",
    "        return i + math.floor(a[1])\n",
    "    return i\n",
    "\n",
    "assert (two_prod(float.fromhex('0x1.0000000000001p+0'),\n",
    "                 float.fromhex('0x1.0000000000001p+0'))\n",
    "        == (float.fromhex('0x1.0000000000002p+0'),\n",
    "            float.fromhex('0x1.0000000000000p-104')))\n",
    "assert (two_mul(two_prod(float.fromhex('0x1.0000000000001p+0'),\n",
    "                         float.fromhex('0x1.0000000000001p+0')),\n",
    "                two_prod(float.fromhex('0x1.fffffffffffffp-1'),\n",
    "                         float.fromhex('0x1.fffffffffffffp-1')))\n",
    "        == (float.fromhex('0x1.0000000000001p+0'),\n",
    "            float.fromhex('-0x1.8000000000002p-105')))\n",
    "assert 1 == two_floor((float.fromhex('0x1.0000000000001p+0'),\n",
    "                       float.fromhex('-0x1.8000000000002p-105')))\n",
    "assert 0 == two_floor((float.fromhex('0x1.0000000000000p+0'),\n",
    "                       float.fromhex('-0x1.8000000000002p-105')))\n",
    "\n",
    "with decimal.localcontext(prec = sys.float_info.dig*3) as ctx:\n",
    "    _two_log10_e = decimal.Decimal(1).exp().log10()\n",
    "    _two_log10_e_hi = float(_two_log10_e)\n",
    "    _two_log10_e_lo = float(_two_log10_e -\n",
    "                            decimal.Decimal(_two_log10_e_hi))\n",
    "    assert _two_log10_e_hi == _two_log10_e_hi + _two_log10_e_lo\n",
    "    _two_log10_e = (_two_log10_e_hi, _two_log10_e_lo)\n",
    "    _two_ln_10 = decimal.Decimal(10).ln()\n",
    "    _two_ln_10_hi = float(_two_ln_10)\n",
    "    _two_ln_10_lo = float(_two_ln_10 -\n",
    "                          decimal.Decimal(_two_ln_10_hi))\n",
    "    assert _two_ln_10_hi == _two_ln_10_hi + _two_ln_10_lo\n",
    "    _two_ln_10 = (_two_ln_10_hi, _two_ln_10_lo)\n",
    "_test_one = two_mul(_two_log10_e, _two_ln_10)\n",
    "assert 1 == _test_one[0]\n",
    "assert 1 >= _test_one[1]/math.ulp(0.5)**2\n",
    "\n",
    "#----\n",
    "for fsum_want in range(two_factorial_length_np()._sum_not_double_double, 2):\n",
    "    print(f\"fsum={fsum_want}: \", end=\"\")\n",
    "    dt = -time.time()\n",
    "    tfl = two_factorial_length_np(fsum=fsum_want)\n",
    "    assert 7 == tfl(10)\n",
    "    assert 19 == tfl(20)\n",
    "    assert 7 == two_factorial_length_np(fsum=fsum_want)(10)\n",
    "    assert 19 == two_factorial_length_np(fsum=fsum_want)(20)\n",
    "    tfl = two_factorial_length_np(fsum=fsum_want)\n",
    "    for n, f in ([(5, 3), (50, 65), (500, 1135), (5000, 16326),\n",
    "                  (50000, 213237), (500000, 2632342),\n",
    "                  (5_000_000, 31323382),] +\n",
    "                 ([(28_563_732, gcount(28_563_732)),\n",
    "                   (44_315_509, gcount(44_315_509)),\n",
    "                   (46_464_264, gcount(46_464_264)),\n",
    "                   (48_655_817, gcount(48_655_817)),\n",
    "                   (50_000_000, 363233781),\n",
    "                   (50_000_000, 363233781),\n",
    "                   (71_764_514, gcount(71_764_514)),\n",
    "                   (74_048_650, gcount(74_048_650)),\n",
    "                   (114_636_184, gcount(114_636_184))]\n",
    "                  if globals().get('slow_tests') else [])):\n",
    "        assert tfl(n) == f\n",
    "    for n in range(10):\n",
    "        assert (two_factorial_length_np(fsum=fsum_want)(n) ==\n",
    "                len(str(math.factorial(n))))\n",
    "    dt += time.time()\n",
    "    print(f\"{dt:.3f}\")\n",
    "print(\"Хорь\")\n",
    "# Хорь 10.9/18.7"
   ]
  },
  {
   "cell_type": "code",
   "execution_count": 8,
   "id": "662d771d-7289-45f6-ba8e-17f63385688c",
   "metadata": {
    "colab": {
     "base_uri": "https://localhost:8080/"
    },
    "id": "662d771d-7289-45f6-ba8e-17f63385688c",
    "outputId": "e6465c9f-1aac-4e96-fa8d-13363aec4f7c"
   },
   "outputs": [
    {
     "name": "stdout",
     "output_type": "stream",
     "text": [
      "fsum=0: 0.615\n",
      "fsum=1: 0.727\n",
      "Хорь\n"
     ]
    }
   ],
   "source": [
    "class two_factorial_length:\n",
    "    _chunk_size = 20_000\n",
    "    _sum_not_double_double = (1e-37 != sum([1., 1e-37, -1.]))\n",
    "    def __init__(self, fsum=_sum_not_double_double):\n",
    "        self.fsum = fsum\n",
    "        self.n = 1\n",
    "        self.sum = [0., 0.]\n",
    "        self.res = 1\n",
    "    def __call__(self, n, check=True):\n",
    "        if n <= 1:\n",
    "            return 1\n",
    "        if self.n == n:  # TODO: check при повторном вызове игнорируется?\n",
    "            return self.res\n",
    "        assert self.n < n\n",
    "        while self.n < n:\n",
    "            c = min(n, self.n + self._chunk_size)\n",
    "            a = self.sum + [math.log(i) for i in range(self.n + 1, c + 1)]\n",
    "            if self.fsum:\n",
    "                self.sum[0] = math.fsum(a)\n",
    "                a.append(-self.sum[0])\n",
    "                self.sum[1] = math.fsum(a)\n",
    "            else:\n",
    "                self.sum[0] = sum(a)\n",
    "                a.append(-self.sum[0])\n",
    "                self.sum[1] = sum(a)\n",
    "            assert self.sum[0] == self.sum[0] + self.sum[1]\n",
    "            self.n = c\n",
    "        l10g = two_mul(self.sum, _two_log10_e)\n",
    "        i = two_floor(l10g)\n",
    "        self.res = 1 + i\n",
    "        if check and l10g[0]:\n",
    "            f = two_add(l10g, -i)  # TODO: случай i >= 2**53\n",
    "            err = sum_ln_err(self.n)*_two_log10_e[0]\n",
    "            if f[0] <= err or (1 - f[0]) <= err:\n",
    "                raise ValueError(f\"Не хватает точности {f, err=}\")\n",
    "        return self.res\n",
    "\n",
    "_codewars_state = two_factorial_length()\n",
    "def _codewars_count(n):\n",
    "    global _codewars_state\n",
    "    if n <= 1:\n",
    "        return 1\n",
    "    if n < _codewars_state.n:\n",
    "        _codewars_state = two_factorial_length()\n",
    "    return _codewars_state(n)\n",
    "\n",
    "\n",
    "#----\n",
    "for fsum_want in range(two_factorial_length()._sum_not_double_double, 2):\n",
    "    print(f\"fsum={fsum_want}: \", end=\"\")\n",
    "    dt = -time.time()\n",
    "    tfl = two_factorial_length(fsum=fsum_want)\n",
    "    assert 7 == tfl(10)\n",
    "    assert 19 == tfl(20)\n",
    "    assert 7 == two_factorial_length(fsum=fsum_want)(10)\n",
    "    assert 19 == two_factorial_length(fsum=fsum_want)(20)\n",
    "    tfl = two_factorial_length(fsum=fsum_want)\n",
    "    for n, f in ([(5, 3), (50, 65), (500, 1135), (5000, 16326),\n",
    "                  (50000, 213237), (500000, 2632342),\n",
    "                  (5_000_000, 31323382),] +\n",
    "                 ([(28_563_732, gcount(28_563_732)),\n",
    "                   (44_315_509, gcount(44_315_509)),\n",
    "                   (46_464_264, gcount(46_464_264)),\n",
    "                   (48_655_817, gcount(48_655_817)),\n",
    "                   (50_000_000, 363233781),\n",
    "                   (50_000_000, 363233781),\n",
    "                   (71_764_514, gcount(71_764_514)),\n",
    "                   (74_048_650, gcount(74_048_650)),\n",
    "                   (114_636_184, gcount(114_636_184))]\n",
    "                  if globals().get('slow_tests') else [])):\n",
    "        assert tfl(n) == f\n",
    "    for n in range(10):\n",
    "        assert (two_factorial_length(fsum=fsum_want)(n) ==\n",
    "                len(str(math.factorial(n))))\n",
    "    dt += time.time()\n",
    "    print(f\"{dt:.3f}\")\n",
    "print(\"Хорь\")\n",
    "# Хорь 14.9/17.4 (без assert ??.?/17.7)"
   ]
  },
  {
   "cell_type": "markdown",
   "id": "a95fb415-0ae7-4b3e-8048-f74d64e51c3a",
   "metadata": {
    "id": "a95fb415-0ae7-4b3e-8048-f74d64e51c3a"
   },
   "source": [
    "## Double-double и `math.lgamma()`\n",
    "\n",
    "До формальных `50_000_000` точности не хватает немного, так что\n",
    "можно просто улучшить точность результата путём \"усреднения\"\n",
    "нескольких результатов для близких аргументов.\n",
    "\n",
    "Пока так себе способ, тормозная и очень сырая идея. Пока зависит\n",
    "от библиотеки, собственно на `math.lgamma()` хоть как-то устойчиво\n",
    "работать заставить не удалось. Но со стандартными `libm.lgamma()`\n",
    "дышит более менее устойчиво.\n",
    "\n",
    "С оценкой ошибки тоже пока проблема. Типа, сначала срабатывает,\n",
    "но потом перестаёт..."
   ]
  },
  {
   "cell_type": "code",
   "execution_count": 9,
   "id": "245abdf6-497d-4078-a702-465c7d1533a8",
   "metadata": {
    "colab": {
     "base_uri": "https://localhost:8080/"
    },
    "id": "245abdf6-497d-4078-a702-465c7d1533a8",
    "outputId": "a134d078-00ae-458b-a69d-71cfea6cf4cf"
   },
   "outputs": [
    {
     "name": "stdout",
     "output_type": "stream",
     "text": [
      "Хорь\n"
     ]
    }
   ],
   "source": [
    "import decimal\n",
    "\n",
    "def two_count(n, avg=6, check=True):\n",
    "    l10g = two_mul(two_lgamma(n + 1, avg=avg), _two_log10_e)\n",
    "    i = two_floor(l10g)\n",
    "    if check and l10g[0]:\n",
    "        f = two_add(l10g, -i)  # TODO: случай i >= 2**53\n",
    "        # TODO: Вариант оценки ошибки как avg=(avg - 1) ни хрена не обоснован\n",
    "        l10ge = two_add(two_mul(two_lgamma(n + 1, avg=(avg - 1)), _two_log10_e),\n",
    "                        (-l10g[0], -l10g[1]))\n",
    "        if f[0] <= abs(l10ge[0]) or (1 - f[0]) <= abs(l10ge[0]):\n",
    "            raise ValueError(f\"Не хватает точности {f, l10ge=}\")\n",
    "    return 1 + i\n",
    "\n",
    "def two_lgamma(x, avg):\n",
    "    \"\"\"Для получения большой точности, необходимой при оценке\n",
    "       длины факториала, усредняем значение `libm.lgamma()` в\n",
    "       двух `float` (double-doble) исходя из Γ(x + 1) = x*Γ(x).\n",
    "\n",
    "       ln(Γ(x)) = ln(Γ(x + 1)) - ln(x)\n",
    "       ln(Γ(x)) = ln(Γ(x + 2)) - ln(x) - ln(x + 1)\n",
    "       ...\n",
    "       ln(Γ(x)) = ln(Γ(x - 1)) + ln(x - 1)\n",
    "       ln(Γ(x)) = ln(Γ(x - 2)) + ln(x - 1) + ln(x - 2)\n",
    "       ...\n",
    "    \"\"\"\n",
    "    n = 2**avg\n",
    "    if x <= n and x == int(x):  # TODO нет тестов для нецелых x\n",
    "        return math.lgamma(x), 0.\n",
    "    ll = ([libm.lgamma(x + i)  for i in range(n)] +\n",
    "          [-math.log(x + j)    for i in range(n) for j in range(i)] +\n",
    "          [libm.lgamma(x - i)  for i in range(n)] +\n",
    "          [math.log(x - 1 - j) for i in range(n) for j in range(i)])\n",
    "    hi = math.fsum(ll)\n",
    "    lo = math.fsum((*ll, -hi))\n",
    "    n *= 2\n",
    "    hi, lo = hi/n, lo/n  # На степень 2 - точное деление\n",
    "    assert hi == hi + lo\n",
    "    return hi, lo\n",
    "\n",
    "#----\n",
    "for n, f in [(5, 3), (50, 65), (500, 1135), (5000, 16326), (50000, 213237),\n",
    "             (500000, 2632342), (5_000_000, 31323382),\n",
    "             (28_563_732, gcount(28_563_732)),\n",
    "             (44_315_509, gcount(44_315_509)),\n",
    "             (46_464_264, gcount(46_464_264)),\n",
    "             (48_655_817, gcount(48_655_817)),\n",
    "             (50_000_000, 363233781),\n",
    "             (50_000_000, 363233781),\n",
    "             (71_764_514, gcount(71_764_514)),\n",
    "             (74_048_650, gcount(74_048_650)),\n",
    "             (114_636_184, gcount(114_636_184))]:\n",
    "    assert two_count(n) == f\n",
    "for n in range(10):\n",
    "    assert two_count(n) == len(str(math.factorial(n)))\n",
    "print('Хорь')"
   ]
  },
  {
   "cell_type": "markdown",
   "id": "d041f44a-eeeb-44bc-b859-9b59b72a7913",
   "metadata": {
    "id": "d041f44a-eeeb-44bc-b859-9b59b72a7913"
   },
   "source": [
    "## Double-double поэлементная сумма логарифмов\n",
    "\n",
    "На Python пока не получается выразить эффективный однопроходный\n",
    "алгоритм суммирования. Однака, наверное, потенциально, для\n",
    "`np.array` можно сделать `two_sum()` и суммировать подмассивы\n",
    "по степеням двойки, что также должно дать ускорение в несколько\n",
    "раз. Но всё равно, сложность `O(n)`.\n",
    "\n",
    "В отличие от предыдущих вариантов, с Фортран на `codewars` не\n",
    "сунешься."
   ]
  },
  {
   "cell_type": "code",
   "execution_count": 10,
   "id": "b210283f-84dc-4f2f-a5f1-dc4c20f97f46",
   "metadata": {
    "colab": {
     "base_uri": "https://localhost:8080/"
    },
    "id": "b210283f-84dc-4f2f-a5f1-dc4c20f97f46",
    "outputId": "fef2a7a7-0455-4dfd-bd9a-67cd6bb7281e"
   },
   "outputs": [
    {
     "name": "stdout",
     "output_type": "stream",
     "text": [
      "\n",
      "Ok. The following fortran objects are ready to use: two_array_sum, two_array_sum3\n"
     ]
    }
   ],
   "source": [
    "%%fortran -v\n",
    "subroutine two_array_sum(a, n, start, res)\n",
    "    implicit none\n",
    "    integer n\n",
    "    real*8, intent(in) :: a(n), start(2)\n",
    "    real*8, intent(out) :: res(2)\n",
    "    real*8 hi, lo\n",
    "    real*8 t, u\n",
    "    integer i\n",
    "    hi = start(1)\n",
    "    lo = start(2)\n",
    "    do i = 1, n\n",
    "        t = hi + a(i)\n",
    "        if (abs(hi) >= abs(a(i))) then\n",
    "            u = (hi - t) + a(i)\n",
    "        else\n",
    "            u = (a(i) - t) + hi\n",
    "        endif\n",
    "        hi = t\n",
    "        lo = lo + u\n",
    "    end do\n",
    "    res(1) = hi + lo\n",
    "    if (abs(hi) >= abs(lo)) then\n",
    "        res(2) = lo - (res(1) - hi)\n",
    "    else\n",
    "        res(2) = hi - (res(1) - lo)\n",
    "    endif\n",
    "end subroutine two_array_sum\n",
    "\n",
    "subroutine two_array_sum3(a, n, start, res)\n",
    "    implicit none\n",
    "    integer n\n",
    "    real*8, intent(in) :: a(n), start(3)\n",
    "    real*8, intent(out) :: res(3)\n",
    "    real*8 hi, me, lo\n",
    "    real*8 t, u, v\n",
    "    integer i\n",
    "    hi = start(1)\n",
    "    me = start(2)\n",
    "    lo = start(3)\n",
    "    do i = 1, n\n",
    "        t = hi + a(i)\n",
    "        if (abs(hi) >= abs(a(i))) then\n",
    "            u = (hi - t) + a(i)\n",
    "        else\n",
    "            u = (a(i) - t) + hi\n",
    "        endif\n",
    "        hi = t\n",
    "        t = me + u\n",
    "        if (abs(me) >= abs(u)) then\n",
    "            v = (me - t) + u\n",
    "        else\n",
    "            v = (u - t) + me\n",
    "        endif\n",
    "        me = t\n",
    "        lo = lo + v\n",
    "    end do\n",
    "    ! TODO: проверить renorm\n",
    "    t = hi + me\n",
    "    if (abs(hi) >= abs(me)) then\n",
    "        u = me - (t - hi)\n",
    "    else\n",
    "        u = hi - (t - me)\n",
    "    endif\n",
    "    hi = t\n",
    "    me = u\n",
    "\n",
    "    t = me + lo\n",
    "    if (abs(me) >= abs(lo)) then\n",
    "        v = lo - (t - me)\n",
    "    else\n",
    "        v = me - (t - lo)\n",
    "    endif\n",
    "    me = t\n",
    "    lo = v\n",
    "\n",
    "    t = hi + me\n",
    "    if (abs(hi) >= abs(me)) then\n",
    "        u = me - (t - hi)\n",
    "    else\n",
    "        u = hi - (t - me)\n",
    "    endif\n",
    "    hi = t\n",
    "    me = u\n",
    "\n",
    "    res(1) = hi\n",
    "    res(2) = me\n",
    "    res(3) = lo\n",
    "end subroutine two_array_sum3"
   ]
  },
  {
   "cell_type": "code",
   "execution_count": 11,
   "id": "c91276e9-2ba4-4a9a-8f1c-0d88d56543e6",
   "metadata": {
    "colab": {
     "base_uri": "https://localhost:8080/"
    },
    "id": "c91276e9-2ba4-4a9a-8f1c-0d88d56543e6",
    "outputId": "31cfcc79-8c56-4681-e504-84dc2495d73b"
   },
   "outputs": [
    {
     "name": "stdout",
     "output_type": "stream",
     "text": [
      "Хорь 1.1029019355773926\n"
     ]
    }
   ],
   "source": [
    "class two_factorial_length_single_pass:\n",
    "    _chunk_size = 20_000\n",
    "    def __init__(self):\n",
    "        self.n = 1\n",
    "        self.sum = np.zeros(2, dtype=float)\n",
    "        self.res = 1\n",
    "    def __call__(self, n, check=True):\n",
    "        if n <= 1:\n",
    "            return 1\n",
    "        if self.n == n:  # TODO: check при повторном вызове игнорируется?\n",
    "            return self.res\n",
    "        assert self.n < n\n",
    "        while self.n < n:\n",
    "            c = min(n, self.n + self._chunk_size)\n",
    "            a = np.log(np.arange(self.n + 1, c + 1, dtype=float))\n",
    "            self.sum = two_array_sum(a, self.sum)\n",
    "            assert self.sum[0] == self.sum[0] + self.sum[1]\n",
    "            self.n = c\n",
    "        l10g = two_mul(self.sum, _two_log10_e)\n",
    "        i = two_floor(l10g)\n",
    "        self.res = 1 + i\n",
    "        if check and l10g[0]:\n",
    "            f = two_add(l10g, -i)  # TODO: случай i >= 2**53\n",
    "            err = sum_ln_err(self.n)*_two_log10_e[0]\n",
    "            if f[0] <= err or (1 - f[0]) <= err:\n",
    "                raise ValueError(f\"Не хватает точности {f, err=}\")\n",
    "        return self.res\n",
    "\n",
    "#----\n",
    "dt = -time.time()\n",
    "tfl = two_factorial_length_single_pass()\n",
    "assert 7 == tfl(10)\n",
    "assert 19 == tfl(20)\n",
    "assert 7 == two_factorial_length_single_pass()(10)\n",
    "assert 19 == two_factorial_length_single_pass()(20)\n",
    "tfl = two_factorial_length_single_pass()\n",
    "for n, f in [(5, 3), (50, 65), (500, 1135), (5000, 16326), (50000, 213237),\n",
    "             (500000, 2632342), (5_000_000, 31323382),\n",
    "             (28_563_732, gcount(28_563_732)),\n",
    "             (44_315_509, gcount(44_315_509)),\n",
    "             (46_464_264, gcount(46_464_264)),\n",
    "             (48_655_817, gcount(48_655_817)),\n",
    "             (50_000_000, 363233781),\n",
    "             (50_000_000, 363233781),\n",
    "             (71_764_514, gcount(71_764_514)),\n",
    "             (74_048_650, gcount(74_048_650)),\n",
    "             (114_636_184, gcount(114_636_184))]:\n",
    "    assert tfl(n) == f\n",
    "for n in range(10):\n",
    "    assert two_factorial_length_single_pass()(n) == len(str(math.factorial(n)))\n",
    "dt += time.time()\n",
    "print(\"Хорь\", dt)\n",
    "# log2 1.06 .. 1.15\n",
    "# log1p 1.51 .. 1.57\n",
    "# log 1.11 .. 1.17"
   ]
  },
  {
   "cell_type": "markdown",
   "id": "c214108e-4a30-4cde-aea0-e93173f7279e",
   "metadata": {
    "id": "c214108e-4a30-4cde-aea0-e93173f7279e"
   },
   "source": [
    "## Сравнения"
   ]
  },
  {
   "cell_type": "code",
   "execution_count": 12,
   "id": "3c426553-08d2-497d-afdd-d411da6d9dca",
   "metadata": {
    "colab": {
     "base_uri": "https://localhost:8080/"
    },
    "id": "3c426553-08d2-497d-afdd-d411da6d9dca",
    "outputId": "2d587faf-1b19-4479-9863-64d8973b5288"
   },
   "outputs": [
    {
     "name": "stdout",
     "output_type": "stream",
     "text": [
      "Хорь\n"
     ]
    }
   ],
   "source": [
    "def lcount(n):\n",
    "    return 1 + int(libm.lgamma(n + 1)*_count_log10_e)\n",
    "\n",
    "for n, f in [(5, 3), (50, 65), (500, 1135), (5000, 16326), (50000, 213237),\n",
    "             (500000, 2632342), (5000000, 31323382), (50000000, 363233781)]:\n",
    "    assert lcount(n) == f\n",
    "for n in range(10):\n",
    "    assert lcount(n) == len(str(math.factorial(n)))\n",
    "print(\"Хорь\")"
   ]
  },
  {
   "cell_type": "code",
   "execution_count": 13,
   "id": "68f9d387-d711-4a08-8182-16e4d3e6c24f",
   "metadata": {
    "id": "68f9d387-d711-4a08-8182-16e4d3e6c24f"
   },
   "outputs": [],
   "source": [
    "if False and globals().get('slow_tests'):\n",
    "    %timeit count(54_336_595)\n",
    "    %timeit lcount(54_336_595)\n",
    "    %timeit gcount(54_336_595)\n",
    "    %timeit dcount(54_336_595)\n",
    "    %timeit two_count(54_336_595)\n",
    "    %timeit two_factorial_length_single_pass()(54_336_595)\n",
    "    #%timeit two_factorial_length_np()(54_336_595)\n",
    "    #%timeit two_factorial_length()(54_336_595)\n",
    "# 333 ns ± 3.89 ns per loop (mean ± std. dev. of 7 runs, 1,000,000 loops each)\n",
    "# 892 ns ± 9.17 ns per loop (mean ± std. dev. of 7 runs, 1,000,000 loops each)\n",
    "# 25.8 μs ± 105 ns per loop (mean ± std. dev. of 7 runs, 10,000 loops each)\n",
    "# 204 μs ± 1.69 μs per loop (mean ± std. dev. of 7 runs, 1,000 loops each)\n",
    "# 1.09 ms ± 1.49 μs per loop (mean ± std. dev. of 7 runs, 1,000 loops each)\n",
    "# 513 ms ± 1.08 ms per loop (mean ± std. dev. of 7 runs, 1 loop each)\n",
    "# 4.77 s ± 16.2 ms per loop (mean ± std. dev. of 7 runs, 1 loop each)\n",
    "# 6.8 s ± 136 ms per loop (mean ± std. dev. of 7 runs, 1 loop each)"
   ]
  },
  {
   "cell_type": "markdown",
   "id": "9bab523e-fa25-4fef-8ae6-4e2083a36045",
   "metadata": {
    "id": "9bab523e-fa25-4fef-8ae6-4e2083a36045"
   },
   "source": [
    "## Оценки точности"
   ]
  },
  {
   "cell_type": "code",
   "execution_count": 14,
   "id": "e94d2c90-1183-45c9-877a-3deb934b6cf5",
   "metadata": {
    "colab": {
     "base_uri": "https://localhost:8080/"
    },
    "id": "e94d2c90-1183-45c9-877a-3deb934b6cf5",
    "outputId": "4138482c-caa4-4e68-8dd7-29e72ec31cb2"
   },
   "outputs": [
    {
     "name": "stdout",
     "output_type": "stream",
     "text": [
      "Хорь 3_000 чисел до 803_032_398\n"
     ]
    }
   ],
   "source": [
    "f_cond_prec = \"15_17\"\n",
    "f_decimal = 19\n",
    "f_fname = f\"i64-{f_cond_prec}-{f_decimal}.txt.bz2\"\n",
    "f_dname = \"out_i64\"\n",
    "f_fpath = f\"{f_dname}/{f_fname}\"\n",
    "f_urlbase = \"https://github.com/Serge3leo/temp-cola/releases/download\"\n",
    "f_rel = \"testrel-0.0\"\n",
    "f_url = f\"{f_urlbase}/{f_rel}/{f_fname}\"\n",
    "if not (\"f_load_facint\" in globals() and \"facint\" in globals() and\n",
    "        f_load_facint == (facint.shape, f_number[0], f_number[-1]) and\n",
    "        globals().get('f_save_slow_test') == globals().get('slow_tests')):\n",
    "    f_save_slow_test = globals().get('slow_tests')\n",
    "    retry = 0\n",
    "    while True:\n",
    "        with warnings.catch_warnings():\n",
    "            warnings.filterwarnings('ignore',\n",
    "                                    r'Input line 1 contained no data.*max_rows=')\n",
    "            try:\n",
    "                facint = np.loadtxt(f_fpath,\n",
    "                                    dtype=np.uint64, encoding='utf-8',\n",
    "                                    **({} if globals().get('slow_tests')\n",
    "                                       else dict(max_rows=3000)))\n",
    "                break\n",
    "            except (OSError, EOFError):  # TODO при ошибках - нестабильно\n",
    "                assert 3 > retry, f\"np.loadtxt() (загрузка) неуспех {retry=}\"\n",
    "                retry += 1\n",
    "                print(f\"Загрузка: {f_url, f_fname=}\")\n",
    "                os.makedirs(f_dname, exist_ok=True)\n",
    "                urllib.request.urlretrieve(f_url, f_fpath)\n",
    "    f_number = facint[:,0]\n",
    "    f_low    = facint[:,1]\n",
    "    f_high   = facint[:,2]\n",
    "    f_exp    = facint[:,3]\n",
    "    f_load_facint = (facint.shape, f_number[0], f_number[-1])\n",
    "print(f\"Хорь {f_number.shape[0]:_d} чисел до {f_number[-1]:_d}\")"
   ]
  },
  {
   "cell_type": "markdown",
   "id": "9aef1838-539b-415f-a13b-5b44e2d6607e",
   "metadata": {
    "id": "9aef1838-539b-415f-a13b-5b44e2d6607e"
   },
   "source": [
    "К сожалению, \"i64-15_17-19.txt\" был рассчитан наивным\n",
    "последовательным умножением, поэтому для некоторой части\n",
    "чисел остаётся неопределённость. По-хорошему, стоит\n",
    "рассчитать для этих чисел интервалы, не последовательным\n",
    "умножением, а по дереву (разложить на множители или ещё как).\n",
    "\n",
    "Пока же проверяем совпадение с расчётом на иной точности, более\n",
    "высокой."
   ]
  },
  {
   "cell_type": "code",
   "execution_count": 15,
   "id": "7f24ae39-d7b2-4277-a651-4601f6f39c20",
   "metadata": {
    "colab": {
     "base_uri": "https://localhost:8080/"
    },
    "id": "7f24ae39-d7b2-4277-a651-4601f6f39c20",
    "outputId": "aa37d28a-e766-492d-a9b3-1fc43d15ff61"
   },
   "outputs": [
    {
     "name": "stdout",
     "output_type": "stream",
     "text": [
      "(0,)\n",
      "Хорь\n"
     ]
    }
   ],
   "source": [
    "f_mod = 10**f_decimal\n",
    "f_lf = f_decimal + np.int64(f_exp)\n",
    "df = np.where(f_high >= f_mod)[0]\n",
    "print(f\"{df.shape}\")\n",
    "cnt = np.zeros(3, dtype=int)\n",
    "for i in df: # tqdm.tqdm(df):\n",
    "    n = int(f_number[i])\n",
    "    clf = (gcount(n), dcount(n), gcount(n, precision=256), dcount(n, prec=80))\n",
    "    for j in range(1, 4):\n",
    "        cnt[j - 1] += clf[0] != clf[j]\n",
    "    f_lf[i] = int(clf[3])\n",
    "assert not np.any(cnt)\n",
    "print(\"Хорь\")"
   ]
  },
  {
   "cell_type": "code",
   "execution_count": 16,
   "id": "0ff7646f-cca1-46a9-98b3-e1f993cb3ccd",
   "metadata": {
    "colab": {
     "base_uri": "https://localhost:8080/"
    },
    "id": "0ff7646f-cca1-46a9-98b3-e1f993cb3ccd",
    "outputId": "75441a8a-5178-40ad-a66c-9d29ff9dedae"
   },
   "outputs": [
    {
     "name": "stdout",
     "output_type": "stream",
     "text": [
      "<function count at 0x112e219e0>:\n"
     ]
    },
    {
     "name": "stderr",
     "output_type": "stream",
     "text": [
      "100%|████████████████████████████████████▉| 314/315 [00:00<00:00, 392084.39it/s]\n"
     ]
    },
    {
     "name": "stdout",
     "output_type": "stream",
     "text": [
      " 1       0       0       105      46_464_264 1\n",
      " 2       0       0       109      48_655_817 -1\n",
      " 3       0       0       122      54_336_595 1\n",
      " 4       0       0       123      54_528_830 1\n",
      " 5       0       0       159      74_048_650 1\n",
      " 6       0       0       255     114_636_184 1\n",
      " 7       0       0       268     120_135_520 1\n",
      " 8       0       0       314     136_071_211 -1\n",
      " 8       0       0       314     136_071_211 Итог по <function count at 0x112e219e0>\n",
      "<function gcount at 0x1161c93a0>:\n"
     ]
    },
    {
     "name": "stderr",
     "output_type": "stream",
     "text": [
      "100%|████████████████████████████████████| 3000/3000 [00:00<00:00, 31160.71it/s]\n"
     ]
    },
    {
     "name": "stdout",
     "output_type": "stream",
     "text": [
      " 0       0       0     2_999     803_032_398 Итог по <function gcount at 0x1161c93a0>\n",
      "<function dcount at 0x1161c9760>:\n"
     ]
    },
    {
     "name": "stderr",
     "output_type": "stream",
     "text": [
      "100%|█████████████████████████████████████| 3000/3000 [00:00<00:00, 4654.69it/s]\n"
     ]
    },
    {
     "name": "stdout",
     "output_type": "stream",
     "text": [
      " 0       0       0     2_999     803_032_398 Итог по <function dcount at 0x1161c9760>\n",
      "<function two_count at 0x1161caca0>:\n"
     ]
    },
    {
     "name": "stderr",
     "output_type": "stream",
     "text": [
      " 32%|████████████▌                          | 966/3000 [00:01<00:02, 877.72it/s]"
     ]
    },
    {
     "name": "stdout",
     "output_type": "stream",
     "text": [
      " 0       0       1       864     260_558_467 1 True ValueError\n",
      " 0       1       1       967     292_497_248 False ValueError\n"
     ]
    },
    {
     "name": "stderr",
     "output_type": "stream",
     "text": [
      " 41%|███████████████▌                      | 1227/3000 [00:01<00:02, 853.03it/s]"
     ]
    },
    {
     "name": "stdout",
     "output_type": "stream",
     "text": [
      " 0       2       1     1_085     317_684_351 False ValueError\n",
      " 0       2       2     1_094     319_466_107 -1 True ValueError\n",
      " 0       2       3     1_251     364_469_152 1 True ValueError\n"
     ]
    },
    {
     "name": "stderr",
     "output_type": "stream",
     "text": [
      " 56%|█████████████████████                 | 1665/3000 [00:01<00:01, 864.29it/s]"
     ]
    },
    {
     "name": "stdout",
     "output_type": "stream",
     "text": [
      " 0       2       4     1_516     432_201_894 1 True ValueError\n",
      " 0       3       4     1_557     443_954_754 False ValueError\n",
      " 0       3       5     1_631     465_797_953 1 True ValueError\n"
     ]
    },
    {
     "name": "stderr",
     "output_type": "stream",
     "text": [
      " 61%|███████████████████████▎              | 1838/3000 [00:02<00:01, 844.90it/s]"
     ]
    },
    {
     "name": "stdout",
     "output_type": "stream",
     "text": [
      " 0       4       5     1_718     492_744_099 False ValueError\n",
      " 1       4       5     1_736     496_585_177 -1\n",
      " 1       5       5     1_778     506_667_368 False ValueError\n",
      " 1       6       5     1_842     519_428_649 False ValueError\n",
      " 1       7       5     1_886     530_140_562 False ValueError\n"
     ]
    },
    {
     "name": "stderr",
     "output_type": "stream",
     "text": [
      " 70%|██████████████████████████▌           | 2093/3000 [00:02<00:01, 835.10it/s]"
     ]
    },
    {
     "name": "stdout",
     "output_type": "stream",
     "text": [
      " 1       8       6     1_928     537_763_687 -1 True ValueError\n"
     ]
    },
    {
     "name": "stderr",
     "output_type": "stream",
     "text": [
      " 78%|█████████████████████████████▊        | 2349/3000 [00:02<00:00, 843.11it/s]"
     ]
    },
    {
     "name": "stdout",
     "output_type": "stream",
     "text": [
      " 2      12       6     2_255     623_188_578 1\n"
     ]
    },
    {
     "name": "stderr",
     "output_type": "stream",
     "text": [
      " 93%|███████████████████████████████████▏  | 2779/3000 [00:03<00:00, 850.90it/s]"
     ]
    },
    {
     "name": "stdout",
     "output_type": "stream",
     "text": [
      " 3      15       6     2_630     711_893_761 -1\n"
     ]
    },
    {
     "name": "stderr",
     "output_type": "stream",
     "text": [
      "100%|██████████████████████████████████████| 3000/3000 [00:03<00:00, 850.89it/s]\n"
     ]
    },
    {
     "name": "stdout",
     "output_type": "stream",
     "text": [
      " 3      19       7     2_873     773_258_046 1 True ValueError\n",
      " 4      21       7     2_960     791_921_320 -1\n",
      " 4      21       7     2_999     803_032_398 Итог по <function two_count at 0x1161caca0>\n",
      "<__main__.two_factorial_length_single_pass object at 0x116253520>:\n"
     ]
    },
    {
     "name": "stderr",
     "output_type": "stream",
     "text": [
      "100%|██████████████████████████████████████| 3000/3000 [00:07<00:00, 378.38it/s]\n"
     ]
    },
    {
     "name": "stdout",
     "output_type": "stream",
     "text": [
      " 0       0       0     2_999     803_032_398 Итог по <__main__.two_factorial_length_single_pass object at 0x116253520>\n",
      "<__main__.two_factorial_length_np object at 0x1161dea50>:\n"
     ]
    },
    {
     "name": "stderr",
     "output_type": "stream",
     "text": [
      "100%|█████████████████████████████████████████| 315/315 [00:11<00:00, 26.26it/s]\n"
     ]
    },
    {
     "name": "stdout",
     "output_type": "stream",
     "text": [
      " 0       0       0       314     136_071_211 Итог по <__main__.two_factorial_length_np object at 0x1161dea50>\n",
      "<__main__.two_factorial_length object at 0x1161dd710>:\n"
     ]
    },
    {
     "name": "stderr",
     "output_type": "stream",
     "text": [
      "100%|█████████████████████████████████████████| 124/124 [00:06<00:00, 17.88it/s]"
     ]
    },
    {
     "name": "stdout",
     "output_type": "stream",
     "text": [
      " 0       0       0       123      54_528_830 Итог по <__main__.two_factorial_length object at 0x1161dd710>\n",
      "Хорь\n"
     ]
    },
    {
     "name": "stderr",
     "output_type": "stream",
     "text": [
      "\n"
     ]
    }
   ],
   "source": [
    "for f, imax in [(count, 314),\n",
    "                (gcount, 1_000_000),\n",
    "                (dcount, 100_000),\n",
    "                (two_count, 10_000),\n",
    "                (two_factorial_length_single_pass(), 50_000),\n",
    "                #(two_factorial_length_single_pass(), len(f_number)),\n",
    "                (two_factorial_length_np(), 314),\n",
    "                (two_factorial_length(), 123),]:\n",
    "    print(f\"{f}:\")\n",
    "    e0cnt = 0\n",
    "    e1cnt = 0\n",
    "    eok = 0\n",
    "    for i in tqdm.trange(min(imax + 1, len(f_number))):\n",
    "        n = int(f_number[i])\n",
    "        clf = int(f_lf[i])\n",
    "        try:\n",
    "            lf = int(f(n))\n",
    "            if clf == lf:\n",
    "                continue\n",
    "            e0cnt += 1\n",
    "            print(f\"{e0cnt:2} {e1cnt:7_d} {eok:7_d} \"\n",
    "                  f\"{i:9_d} {n:15_d} {lf - clf}\")\n",
    "            if e0cnt > 7:\n",
    "                break\n",
    "        except ValueError as ex:\n",
    "            lf = int(f(n, check=False))\n",
    "            if clf == lf:\n",
    "                e1cnt += 1\n",
    "                if e1cnt <= 7:\n",
    "                    print(f\"{e0cnt:2} {e1cnt:7_d} {eok:7_d} \"\n",
    "                          f\"{i:9_d} {n:15_d} False ValueError\")\n",
    "            else:\n",
    "                eok += 1\n",
    "                if eok <= 7:\n",
    "                    print(f\"{e0cnt:2} {e1cnt:7_d} {eok:7_d} \"\n",
    "                          f\"{i:9_d} {n:15_d} {lf - clf} True ValueError\")\n",
    "    print(f\"{e0cnt:2} {e1cnt:7_d} {eok:7_d} \"\n",
    "          f\"{i:9_d} {n:15_d} Итог по {f}\")\n",
    "print(\"Хорь\")"
   ]
  },
  {
   "cell_type": "markdown",
   "id": "ff1e275b-8d7a-496d-8a43-6fa2cceebaf1",
   "metadata": {
    "id": "ff1e275b-8d7a-496d-8a43-6fa2cceebaf1"
   },
   "source": [
    "## График необходимой, для факториала, точности\n",
    "\n",
    "Просто строим графики\n",
    "$\\frac{\\left\\{ \\log_{10} n! \\right\\}}{\\log_{10} n!}$ и\n",
    "$\\frac{1 - \\left\\{ \\log_{10} n! \\right\\}}{\\log_{10} n!}$, пытаемся\n",
    "визуально понять зависимость.\n"
   ]
  },
  {
   "cell_type": "code",
   "execution_count": 17,
   "id": "97a3386c-e8e8-4a39-a1f0-b48e6bc7c521",
   "metadata": {
    "colab": {
     "base_uri": "https://localhost:8080/"
    },
    "id": "97a3386c-e8e8-4a39-a1f0-b48e6bc7c521",
    "outputId": "16b16120-509d-4306-917e-27f5afcb6312"
   },
   "outputs": [
    {
     "name": "stderr",
     "output_type": "stream",
     "text": [
      "100%|████████████████████████████████████| 2975/2975 [00:00<00:00, 39039.55it/s]"
     ]
    },
    {
     "name": "stdout",
     "output_type": "stream",
     "text": [
      "Хорь 0.08\n"
     ]
    },
    {
     "name": "stderr",
     "output_type": "stream",
     "text": [
      "\n"
     ]
    }
   ],
   "source": [
    "if \"g_f\" not in globals() or \"g_1f\" not in globals():\n",
    "    g_min = 25\n",
    "    if 0:\n",
    "        g_number = f_number[g_min:]\n",
    "    else:\n",
    "        g_number = f_number[g_min:500_000]\n",
    "    g_f = np.empty_like(g_number, dtype=float)\n",
    "    g_1f = np.empty_like(g_f)\n",
    "    dt = -time.time()\n",
    "    with gmpy2.context(precision=256):\n",
    "        log10_e = gmpy2.log10(gmpy2.exp(1))\n",
    "        for i in tqdm.trange(len(g_f)):\n",
    "            l10g = gmpy2.lgamma(int(g_number[i] + 1))[0]*log10_e\n",
    "            _, f = gmpy2.modf(l10g)\n",
    "            if f <= 0.5:\n",
    "                g_f[i] = f/l10g\n",
    "                g_1f[i] = np.nan\n",
    "            else:\n",
    "                g_f[i] = np.nan\n",
    "                g_1f[i] = (1 - f)/l10g\n",
    "    dt += time.time()\n",
    "    print(f\"Хорь {dt:.2f}\")"
   ]
  },
  {
   "cell_type": "code",
   "execution_count": 18,
   "id": "ede7a783-a98d-4428-900f-aa904cecd0bd",
   "metadata": {
    "colab": {
     "base_uri": "https://localhost:8080/",
     "height": 461
    },
    "id": "ede7a783-a98d-4428-900f-aa904cecd0bd",
    "outputId": "56514eee-f9d9-44dc-ecb9-34f835c39caf"
   },
   "outputs": [
    {
     "data": {
      "image/png": "[encoded data removed]",
      "text/plain": [
       "<Figure size 640x480 with 1 Axes>"
      ]
     },
     "metadata": {
      "image/png": {
       "height": 444,
       "width": 564
      }
     },
     "output_type": "display_data"
    }
   ],
   "source": [
    "fig, ax = plt.subplots()\n",
    "ax.set_title(r\"$\\frac{\\left\\{ \\log_{10} n! \\right\\}}{\\log_{10} n!}$\")\n",
    "ax.plot(g_number, g_f, \".\")\n",
    "ax.set_xscale('log')\n",
    "ax.set_yscale('log')\n",
    "ax.grid()\n",
    "plt.show()"
   ]
  },
  {
   "cell_type": "code",
   "execution_count": 19,
   "id": "a8a6929d-a361-4750-aac5-2616d983e978",
   "metadata": {
    "colab": {
     "base_uri": "https://localhost:8080/",
     "height": 461
    },
    "id": "a8a6929d-a361-4750-aac5-2616d983e978",
    "outputId": "64c6aa5a-97c8-43ec-e1eb-9cdcedba3b1d"
   },
   "outputs": [
    {
     "data": {
      "image/png": "[encoded data removed]",
      "text/plain": [
       "<Figure size 640x480 with 1 Axes>"
      ]
     },
     "metadata": {
      "image/png": {
       "height": 444,
       "width": 564
      }
     },
     "output_type": "display_data"
    }
   ],
   "source": [
    "fig, ax = plt.subplots()\n",
    "ax.set_title(r\"$\\frac{1 - \\left\\{ \\log_{10} n! \\right\\}}{\\log_{10} n!}$\")\n",
    "ax.plot(g_number, g_1f, \".\")\n",
    "ax.set_xscale('log')\n",
    "ax.set_yscale('log')\n",
    "ax.grid()\n",
    "plt.show()"
   ]
  }
 ],
 "metadata": {
  "colab": {
   "provenance": []
  },
  "kernelspec": {
   "display_name": "Python 3 (ipykernel)",
   "language": "python",
   "name": "python3"
  },
  "language_info": {
   "codemirror_mode": {
    "name": "ipython",
    "version": 3
   },
   "file_extension": ".py",
   "mimetype": "text/x-python",
   "name": "python",
   "nbconvert_exporter": "python",
   "pygments_lexer": "ipython3",
   "version": "3.13.2"
  }
 },
 "nbformat": 4,
 "nbformat_minor": 5
}
