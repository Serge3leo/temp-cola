{
 "cells": [
  {
   "cell_type": "markdown",
   "metadata": {
    "colab_type": "text",
    "id": "view-in-github"
   },
   "source": [
    "<a href=\"https://colab.research.google.com/github/Serge3leo/temp-cola/blob/main/stackoverflow-79661744.ipynb\" target=\"_parent\"><img src=\"https://colab.research.google.com/assets/colab-badge.svg\" alt=\"Open In Colab\"/></a>"
   ]
  },
  {
   "cell_type": "markdown",
   "metadata": {
    "id": "Vxmn_sNt8A_V"
   },
   "source": [
    "# How to compile the code with current versions of f2py?\n",
    "\n",
    "[https://stackoverflow.com/questions/79661744/how-to-compile-the-code-with-current-versions-of-f2py](\n",
    "https://stackoverflow.com/questions/79661744/how-to-compile-the-code-with-current-versions-of-f2py)"
   ]
  },
  {
   "cell_type": "code",
   "execution_count": 1,
   "metadata": {
    "colab": {
     "base_uri": "https://localhost:8080/",
     "height": 17
    },
    "id": "JGUqcZuQ8A_V",
    "outputId": "41a7b512-e797-4acb-8eb6-648df8580d02"
   },
   "outputs": [
    {
     "data": {
      "application/javascript": [
       "\n",
       "        if(typeof IPython === 'undefined') {\n",
       "            console.log('fortranmagic.py: TDOO: JupyterLab ' +\n",
       "                        'syntax highlight - unimplemented.');\n",
       "        } else {\n",
       "            IPython.CodeCell.options_default\n",
       "            .highlight_modes['magic_fortran'] = {'reg':[/^%%fortran/]};\n",
       "        }\n",
       "        "
      ]
     },
     "metadata": {},
     "output_type": "display_data"
    }
   ],
   "source": [
    "try:\n",
    "    %load_ext fortranmagic\n",
    "except ModuleNotFoundError:\n",
    "    # Example of install required packages for know enviroments\n",
    "    if 'codespace' in str(get_ipython().config):\n",
    "        !conda install -y -q -c conda-forge fortran-compiler\n",
    "        %pip install -q -U fortran-magic 'setuptools>=76.1' meson \\\n",
    "                charset-normalizer ninja cmake pkgconfig\n",
    "        print(\"WARNING: NEED RESTART\")\n",
    "        %load_ext fortranmagic\n",
    "    elif 'google.colab' in str(get_ipython().config):\n",
    "        %pip install -q -U fortran-magic meson \\\n",
    "                charset-normalizer ninja cmake pkgconfig\n",
    "        %load_ext fortranmagic\n",
    "        %fortran_config --backend meson -v\n",
    "    else:\n",
    "        assert False, \"\"\"Can't load fortranmagic. For install:\n",
    "                      pip install -U fortran-magic\n",
    "                      or\n",
    "                      conda install -c conda-forge fortran-magic\n",
    "                      See: https://github.com/mgaitan/fortran_magic/blob/master/documentation.ipynb\n",
    "                      \"\"\""
   ]
  },
  {
   "cell_type": "code",
   "execution_count": 4,
   "metadata": {
    "colab": {
     "base_uri": "https://localhost:8080/"
    },
    "id": "dhjLjHVT8A_X",
    "outputId": "fecd6121-3d32-4a00-9b9a-8dc9cb7da98b"
   },
   "outputs": [
    {
     "name": "stdout",
     "output_type": "stream",
     "text": [
      "\n",
      "Ok. The following fortran objects are ready to use: spatialaverage\n"
     ]
    }
   ],
   "source": [
    "%%fortran -v --f90flags=-ffixed-form\n",
    "C f2py doesn’t currently support binding interface blocks\n",
    "C See: https://numpy.org/doc/stable/f2py/advanced/boilerplating.html\n",
    "C\n",
    "C      module mod_spatialaverage\n",
    "C      contains\n",
    "      \n",
    "      subroutine spatialaverage(depdata,\n",
    "     & vardata,depval,varout,sum_a,sum_b,nz,nx,ny)\n",
    "\n",
    "      implicit none\n",
    "      real, intent(in) :: depdata(nz,ny,nx)\n",
    "      real, intent(in) :: vardata(nz,ny,nx)\n",
    "      integer, intent(in) :: nz,nx,ny\n",
    "      real, intent(in) :: depval\n",
    "      real, intent(out) :: varout(ny,nx)\n",
    "      real, intent(out) :: sum_a(ny,nx),sum_b(ny,nx)\n",
    "      integer ii,jj,ilev\n",
    "      real missing_value,dz\n",
    "      ! ----------------------------------\n",
    "      varout=0.0;\n",
    "      missing_value=-1.e3\n",
    "      ! ----------------------------------\n",
    "      do ii = 1,nx\n",
    "        do jj= 1,ny\n",
    "        ! if it is landpoint:\n",
    "        if (depdata(1,jj,ii).le.missing_value) cycle\n",
    "        ! --------------------------------\n",
    "          dz=abs(0.0-depdata(1,jj,ii));\n",
    "          sum_a(jj,ii)=sum_a(jj,ii)+vardata(1,jj,ii)*dz\n",
    "          sum_b(jj,ii)=sum_b(jj,ii)+dz;\n",
    "          ! --------------------------------\n",
    "          do ilev=2,nz\n",
    "            dz=abs(depdata(ilev,jj,ii)-depdata(ilev-1,jj,ii));         \n",
    "            if (depdata(ilev,jj,ii).gt.depval) then\n",
    "              sum_a(jj,ii)=sum_a(jj,ii)+vardata(ilev,jj,ii)*dz\n",
    "              sum_b(jj,ii)=sum_b(jj,ii)+dz;\n",
    "            endif\n",
    "            if (depdata(ilev,jj,ii).lt.depval.and.\n",
    "     & depdata(ilev-1,jj,ii).gt.depval) then\n",
    "              dz=abs(depval-depdata(ilev-1,jj,ii))\n",
    "              sum_a(jj,ii)=sum_a(jj,ii)+vardata(ilev,jj,ii)*dz\n",
    "              sum_b(jj,ii)=sum_b(jj,ii)+dz;\n",
    "            endif\n",
    "          enddo\n",
    "        ! --------------------------------\n",
    "        enddo\n",
    "      enddo\n",
    "      varout=sum_a/sum_b;\n",
    "      ! ==================================\n",
    "      return\n",
    "      end subroutine spatialaverage\n",
    "\n",
    "C      end module mod_spatialaverage\n",
    "      ! =================================================="
   ]
  },
  {
   "cell_type": "code",
   "execution_count": 5,
   "metadata": {
    "colab": {
     "base_uri": "https://localhost:8080/"
    },
    "id": "dqZXZ5-n8A_X",
    "outputId": "be997c4b-3b83-46b6-da7b-8798fade8e94"
   },
   "outputs": [
    {
     "data": {
      "text/plain": [
       "\u001b[0;31mCall signature:\u001b[0m \u001b[0mspatialaverage\u001b[0m\u001b[0;34m(\u001b[0m\u001b[0;34m*\u001b[0m\u001b[0margs\u001b[0m\u001b[0;34m,\u001b[0m \u001b[0;34m**\u001b[0m\u001b[0mkwargs\u001b[0m\u001b[0;34m)\u001b[0m\u001b[0;34m\u001b[0m\u001b[0;34m\u001b[0m\u001b[0m\n",
       "\u001b[0;31mType:\u001b[0m           fortran\n",
       "\u001b[0;31mString form:\u001b[0m    <fortran function spatialaverage>\n",
       "\u001b[0;31mDocstring:\u001b[0m     \n",
       "varout,sum_a,sum_b = spatialaverage(depdata,vardata,depval,[nz,nx,ny])\n",
       "\n",
       "Wrapper for ``spatialaverage``.\n",
       "\n",
       "Parameters\n",
       "----------\n",
       "depdata : input rank-3 array('f') with bounds (nz,ny,nx)\n",
       "vardata : input rank-3 array('f') with bounds (nz,ny,nx)\n",
       "depval : input float\n",
       "\n",
       "Other Parameters\n",
       "----------------\n",
       "nz : input int, optional\n",
       "    Default: shape(depdata, 0)\n",
       "nx : input int, optional\n",
       "    Default: shape(depdata, 2)\n",
       "ny : input int, optional\n",
       "    Default: shape(depdata, 1)\n",
       "\n",
       "Returns\n",
       "-------\n",
       "varout : rank-2 array('f') with bounds (ny,nx)\n",
       "sum_a : rank-2 array('f') with bounds (ny,nx)\n",
       "sum_b : rank-2 array('f') with bounds (ny,nx)"
      ]
     },
     "metadata": {},
     "output_type": "display_data"
    }
   ],
   "source": [
    "spatialaverage?"
   ]
  },
  {
   "cell_type": "code",
   "execution_count": null,
   "metadata": {},
   "outputs": [],
   "source": []
  }
 ],
 "metadata": {
  "colab": {
   "include_colab_link": true,
   "provenance": []
  },
  "kernelspec": {
   "display_name": "Python 3 (ipykernel)",
   "language": "python",
   "name": "python3"
  },
  "language_info": {
   "codemirror_mode": {
    "name": "ipython",
    "version": 3
   },
   "file_extension": ".py",
   "mimetype": "text/x-python",
   "name": "python",
   "nbconvert_exporter": "python",
   "pygments_lexer": "ipython3",
   "version": "3.12.0"
  }
 },
 "nbformat": 4,
 "nbformat_minor": 4
}
