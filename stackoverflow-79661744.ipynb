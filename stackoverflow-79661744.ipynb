{
  "cells": [
    {
      "cell_type": "markdown",
      "metadata": {
        "id": "view-in-github",
        "colab_type": "text"
      },
      "source": [
        "<a href=\"https://colab.research.google.com/github/Serge3leo/temp-cola/blob/main/stackoverflow-79661744.ipynb\" target=\"_parent\"><img src=\"https://colab.research.google.com/assets/colab-badge.svg\" alt=\"Open In Colab\"/></a>"
      ]
    },
    {
      "cell_type": "markdown",
      "metadata": {
        "id": "Vxmn_sNt8A_V"
      },
      "source": [
        "# How to compile the code with current versions of f2py?\n",
        "\n",
        "[https://stackoverflow.com/questions/79661744/how-to-compile-the-code-with-current-versions-of-f2py](\n",
        "https://stackoverflow.com/questions/79661744/how-to-compile-the-code-with-current-versions-of-f2py)\n",
        "\n",
        "From F2PY reference manual:\n",
        "\n",
        "1. `f2py` doesn’t currently support binding interface blocks. Workarounds:\n",
        "\n",
        "    1. See [Using FYPP for binding generic interfaces](\n",
        "       https://numpy.org/doc/stable/f2py/advanced/boilerplating.html);\n",
        "\n",
        "    3. Comment all module, contains, ... statements;\n",
        "  \n",
        "    4. Add additional Fortran interface block (experimental, I did not\n",
        "       find this in F2PY reference manual);\n",
        "```\n",
        "    interface iface\n",
        "        module procedure spatialaverage\n",
        "    end interface iface\n",
        "```\n",
        "\n",
        "2. Your code is F90 with a fixed form. You can use a `--f90flags=-ffixed-form`, but not all versions of Numpy (f2py) will work stably. It might be worth converting the file to a free form (for example, my local NumPy & Codespaces NumPy with fixed form - OK, but Colab NumPy - not).\n",
        "\n",
        "Since using FYPP in conjunction with Fortran magic is difficult, only workarounds 1.B and 1.C are shown in this Jupiter Notebook."
      ]
    },
    {
      "cell_type": "code",
      "execution_count": 1,
      "metadata": {
        "colab": {
          "base_uri": "https://localhost:8080/",
          "height": 119
        },
        "id": "JGUqcZuQ8A_V",
        "outputId": "80fdf5ed-af18-425a-8dca-3c98d5f11f55"
      },
      "outputs": [
        {
          "output_type": "stream",
          "name": "stdout",
          "text": [
            "\u001b[2K   \u001b[90m━━━━━━━━━━━━━━━━━━━━━━━━━━━━━━━━━━━━━━━━\u001b[0m \u001b[32m1.0/1.0 MB\u001b[0m \u001b[31m7.7 MB/s\u001b[0m eta \u001b[36m0:00:00\u001b[0m\n",
            "\u001b[2K   \u001b[90m━━━━━━━━━━━━━━━━━━━━━━━━━━━━━━━━━━━━━━━━\u001b[0m \u001b[32m422.8/422.8 kB\u001b[0m \u001b[31m8.2 MB/s\u001b[0m eta \u001b[36m0:00:00\u001b[0m\n",
            "\u001b[2K   \u001b[90m━━━━━━━━━━━━━━━━━━━━━━━━━━━━━━━━━━━━━━━━\u001b[0m \u001b[32m27.9/27.9 MB\u001b[0m \u001b[31m28.8 MB/s\u001b[0m eta \u001b[36m0:00:00\u001b[0m\n",
            "\u001b[2K   \u001b[90m━━━━━━━━━━━━━━━━━━━━━━━━━━━━━━━━━━━━━━━━\u001b[0m \u001b[32m1.6/1.6 MB\u001b[0m \u001b[31m15.4 MB/s\u001b[0m eta \u001b[36m0:00:00\u001b[0m\n",
            "\u001b[?25h"
          ]
        },
        {
          "output_type": "display_data",
          "data": {
            "application/javascript": [
              "\n",
              "        if(typeof IPython === 'undefined') {\n",
              "            console.log('fortranmagic.py: TDOO: JupyterLab ' +\n",
              "                        'syntax highlight - unimplemented.');\n",
              "        } else {\n",
              "            IPython.CodeCell.options_default\n",
              "            .highlight_modes['magic_fortran'] = {'reg':[/^%%fortran/]};\n",
              "        }\n",
              "        "
            ]
          },
          "metadata": {}
        },
        {
          "output_type": "stream",
          "name": "stdout",
          "text": [
            "New default arguments for %fortran:\n",
            "\t--backend meson -v\n"
          ]
        }
      ],
      "source": [
        "try:\n",
        "    %load_ext fortranmagic\n",
        "except ModuleNotFoundError:\n",
        "    # Example of install required packages for know enviroments\n",
        "    if 'codespace' in str(get_ipython().config):\n",
        "        !conda install -y -q -c conda-forge fortran-compiler\n",
        "        %pip install -q -U fortran-magic 'setuptools>=76.1' meson \\\n",
        "                charset-normalizer ninja cmake pkgconfig\n",
        "        print(\"WARNING: NEED RESTART\")\n",
        "        %load_ext fortranmagic\n",
        "    elif 'google.colab' in str(get_ipython().config):\n",
        "        %pip install -q -U fortran-magic meson \\\n",
        "                charset-normalizer ninja cmake pkgconfig\n",
        "        %load_ext fortranmagic\n",
        "        %fortran_config --backend meson -v\n",
        "    else:\n",
        "        assert False, \"\"\"Can't load fortranmagic. For install:\n",
        "                      pip install -U fortran-magic\n",
        "                      or\n",
        "                      conda install -c conda-forge fortran-magic\n",
        "                      See: https://github.com/mgaitan/fortran_magic/blob/master/documentation.ipynb\n",
        "                      \"\"\""
      ]
    },
    {
      "cell_type": "code",
      "execution_count": 2,
      "metadata": {
        "id": "mIw2n7RhOaBw"
      },
      "outputs": [],
      "source": [
        "import sys\n",
        "import pprint\n",
        "\n",
        "def get_mod_inf(fo_name: str, fn_name: str = None) -> None:\n",
        "    for mn in sys.modules.keys():\n",
        "        if \"_fortran_magic_\" in mn:\n",
        "            md = sys.modules[mn].__dict__\n",
        "            if fo_name in md:\n",
        "                pprint.pprint(md)\n",
        "                fo = md[fo_name]\n",
        "                print(f\"\\nFortran object of {fo_name}\")\n",
        "                pprint.pprint(fo.__dict__)\n",
        "                if fn_name in fo.__dict__:\n",
        "                    print(f\"\\nFortran function {fn_name}\")\n",
        "                    pprint.pprint(fo.__dict__[fn_name].__dict__)"
      ]
    },
    {
      "cell_type": "code",
      "source": [
        "import numpy as np\n",
        "import numpy.f2py as f2py\n",
        "print(f\"Python: {sys.version=}\")\n",
        "print(f\"Numpy: {np.__version__=} {f2py.__version__.version=}\")"
      ],
      "metadata": {
        "colab": {
          "base_uri": "https://localhost:8080/"
        },
        "id": "9MhM-mA0OdmV",
        "outputId": "75554d7f-77e8-4bb1-8c5f-f9bb61da0ff1"
      },
      "execution_count": 3,
      "outputs": [
        {
          "output_type": "stream",
          "name": "stdout",
          "text": [
            "Python: sys.version='3.11.13 (main, Jun  4 2025, 08:57:29) [GCC 11.4.0]'\n",
            "Numpy: np.__version__='2.0.2' f2py.__version__.version='2.0.2'\n"
          ]
        }
      ]
    },
    {
      "cell_type": "markdown",
      "metadata": {
        "id": "kKDlLuD8OaBx"
      },
      "source": [
        "## Comment all module, contains, ... statements"
      ]
    },
    {
      "cell_type": "code",
      "execution_count": 4,
      "metadata": {
        "colab": {
          "base_uri": "https://localhost:8080/"
        },
        "id": "dhjLjHVT8A_X",
        "outputId": "b8f5fc4f-da7d-4cad-8a5f-6021c41f719c"
      },
      "outputs": [
        {
          "output_type": "stream",
          "name": "stdout",
          "text": [
            "\n",
            "Ok. The following fortran objects are ready to use: spatialaverage\n"
          ]
        }
      ],
      "source": [
        "%%fortran -v\n",
        "! f2py doesn’t currently support binding interface blocks\n",
        "! See: https://numpy.org/doc/stable/f2py/advanced/boilerplating.html\n",
        "!\n",
        "!      module mod_spatialaverage\n",
        "!      contains\n",
        "\n",
        "subroutine spatialaverage(depdata,vardata,depval,varout,sum_a,sum_b,nz,nx,ny)\n",
        "\n",
        "      implicit none\n",
        "      real, intent(in) :: depdata(nz,ny,nx)\n",
        "      real, intent(in) :: vardata(nz,ny,nx)\n",
        "      integer, intent(in) :: nz,nx,ny\n",
        "      real, intent(in) :: depval\n",
        "      real, intent(out) :: varout(ny,nx)\n",
        "      real, intent(out) :: sum_a(ny,nx),sum_b(ny,nx)\n",
        "      integer ii,jj,ilev\n",
        "      real missing_value,dz\n",
        "      ! ----------------------------------\n",
        "      varout=0.0;\n",
        "      missing_value=-1.e3\n",
        "      ! ----------------------------------\n",
        "      do ii = 1,nx\n",
        "        do jj= 1,ny\n",
        "        ! if it is landpoint:\n",
        "        if (depdata(1,jj,ii).le.missing_value) cycle\n",
        "        ! --------------------------------\n",
        "          dz=abs(0.0-depdata(1,jj,ii));\n",
        "          sum_a(jj,ii)=sum_a(jj,ii)+vardata(1,jj,ii)*dz\n",
        "          sum_b(jj,ii)=sum_b(jj,ii)+dz;\n",
        "          ! --------------------------------\n",
        "          do ilev=2,nz\n",
        "            dz=abs(depdata(ilev,jj,ii)-depdata(ilev-1,jj,ii));\n",
        "            if (depdata(ilev,jj,ii).gt.depval) then\n",
        "              sum_a(jj,ii)=sum_a(jj,ii)+vardata(ilev,jj,ii)*dz\n",
        "              sum_b(jj,ii)=sum_b(jj,ii)+dz;\n",
        "            endif\n",
        "            if (depdata(ilev,jj,ii).lt.depval.and.depdata(ilev-1,jj,ii).gt.depval) then\n",
        "              dz=abs(depval-depdata(ilev-1,jj,ii))\n",
        "              sum_a(jj,ii)=sum_a(jj,ii)+vardata(ilev,jj,ii)*dz\n",
        "              sum_b(jj,ii)=sum_b(jj,ii)+dz;\n",
        "            endif\n",
        "          enddo\n",
        "        ! --------------------------------\n",
        "        enddo\n",
        "      enddo\n",
        "      varout=sum_a/sum_b;\n",
        "      ! ==================================\n",
        "      return\n",
        "end subroutine spatialaverage\n",
        "\n",
        "!      end module mod_spatialaverage\n",
        "      ! =================================================="
      ]
    },
    {
      "cell_type": "code",
      "execution_count": 5,
      "metadata": {
        "colab": {
          "base_uri": "https://localhost:8080/"
        },
        "id": "dqZXZ5-n8A_X",
        "outputId": "0da989e1-0e72-4029-9ff0-baf429d8e0cc"
      },
      "outputs": [
        {
          "output_type": "stream",
          "name": "stdout",
          "text": [
            "varout,sum_a,sum_b = spatialaverage(depdata,vardata,depval,[nz,nx,ny])\n",
            "\n",
            "Wrapper for ``spatialaverage``.\n",
            "\n",
            "Parameters\n",
            "----------\n",
            "depdata : input rank-3 array('f') with bounds (nz,ny,nx)\n",
            "vardata : input rank-3 array('f') with bounds (nz,ny,nx)\n",
            "depval : input float\n",
            "\n",
            "Other Parameters\n",
            "----------------\n",
            "nz : input int, optional\n",
            "    Default: shape(depdata, 0)\n",
            "nx : input int, optional\n",
            "    Default: shape(depdata, 2)\n",
            "ny : input int, optional\n",
            "    Default: shape(depdata, 1)\n",
            "\n",
            "Returns\n",
            "-------\n",
            "varout : rank-2 array('f') with bounds (ny,nx)\n",
            "sum_a : rank-2 array('f') with bounds (ny,nx)\n",
            "sum_b : rank-2 array('f') with bounds (ny,nx)\n",
            "\n"
          ]
        }
      ],
      "source": [
        "print(spatialaverage.__doc__)"
      ]
    },
    {
      "cell_type": "code",
      "execution_count": 6,
      "metadata": {
        "colab": {
          "base_uri": "https://localhost:8080/"
        },
        "id": "A_wWhCrPOaBy",
        "outputId": "968fa805-e640-4d0f-e3e8-7409f0b039a7"
      },
      "outputs": [
        {
          "output_type": "stream",
          "name": "stdout",
          "text": [
            "{'__doc__': \"This module '_fortran_magic_856cc0f567ef1f8b060a3c77fe2b3fb4' is \"\n",
            "            'auto-generated with f2py (version:2.0.2).\\n'\n",
            "            'Functions:\\n'\n",
            "            '    varout,sum_a,sum_b = '\n",
            "            'spatialaverage(depdata,vardata,depval,nz=shape(depdata, '\n",
            "            '0),nx=shape(depdata, 2),ny=shape(depdata, 1))\\n'\n",
            "            '.',\n",
            " '__f2py_numpy_version__': '2.0.2',\n",
            " '__file__': '/root/.cache/ipython/fortranmagic/18031103/_fortran_magic_856cc0f567ef1f8b060a3c77fe2b3fb4.cpython-311-x86_64-linux-gnu.so',\n",
            " '__fortran_magic_856cc0f567ef1f8b060a3c77fe2b3fb4_error': <class '_fortran_magic_856cc0f567ef1f8b060a3c77fe2b3fb4.error'>,\n",
            " '__loader__': <_frozen_importlib_external.ExtensionFileLoader object at 0x7cf4bc661690>,\n",
            " '__name__': '_fortran_magic_856cc0f567ef1f8b060a3c77fe2b3fb4',\n",
            " '__package__': '',\n",
            " '__spec__': ModuleSpec(name='_fortran_magic_856cc0f567ef1f8b060a3c77fe2b3fb4', loader=<_frozen_importlib_external.ExtensionFileLoader object at 0x7cf4bc661690>, origin='/root/.cache/ipython/fortranmagic/18031103/_fortran_magic_856cc0f567ef1f8b060a3c77fe2b3fb4.cpython-311-x86_64-linux-gnu.so'),\n",
            " '__version__': '2.0.2',\n",
            " 'spatialaverage': <fortran function spatialaverage>}\n",
            "\n",
            "Fortran object of spatialaverage\n",
            "{'__doc__': 'varout,sum_a,sum_b = '\n",
            "            'spatialaverage(depdata,vardata,depval,[nz,nx,ny])\\n'\n",
            "            '\\n'\n",
            "            'Wrapper for ``spatialaverage``.\\n'\n",
            "            '\\n'\n",
            "            'Parameters\\n'\n",
            "            '----------\\n'\n",
            "            \"depdata : input rank-3 array('f') with bounds (nz,ny,nx)\\n\"\n",
            "            \"vardata : input rank-3 array('f') with bounds (nz,ny,nx)\\n\"\n",
            "            'depval : input float\\n'\n",
            "            '\\n'\n",
            "            'Other Parameters\\n'\n",
            "            '----------------\\n'\n",
            "            'nz : input int, optional\\n'\n",
            "            '    Default: shape(depdata, 0)\\n'\n",
            "            'nx : input int, optional\\n'\n",
            "            '    Default: shape(depdata, 2)\\n'\n",
            "            'ny : input int, optional\\n'\n",
            "            '    Default: shape(depdata, 1)\\n'\n",
            "            '\\n'\n",
            "            'Returns\\n'\n",
            "            '-------\\n'\n",
            "            \"varout : rank-2 array('f') with bounds (ny,nx)\\n\"\n",
            "            \"sum_a : rank-2 array('f') with bounds (ny,nx)\\n\"\n",
            "            \"sum_b : rank-2 array('f') with bounds (ny,nx)\\n\",\n",
            " '__name__': 'function spatialaverage',\n",
            " '__source__': '! f2py doesn’t currently support binding interface blocks\\n'\n",
            "               '! See: '\n",
            "               'https://numpy.org/doc/stable/f2py/advanced/boilerplating.html\\n'\n",
            "               '!\\n'\n",
            "               '!      module mod_spatialaverage\\n'\n",
            "               '!      contains\\n'\n",
            "               '\\n'\n",
            "               'subroutine '\n",
            "               'spatialaverage(depdata,vardata,depval,varout,sum_a,sum_b,nz,nx,ny)\\n'\n",
            "               '\\n'\n",
            "               '      implicit none\\n'\n",
            "               '      real, intent(in) :: depdata(nz,ny,nx)\\n'\n",
            "               '      real, intent(in) :: vardata(nz,ny,nx)\\n'\n",
            "               '      integer, intent(in) :: nz,nx,ny\\n'\n",
            "               '      real, intent(in) :: depval\\n'\n",
            "               '      real, intent(out) :: varout(ny,nx)\\n'\n",
            "               '      real, intent(out) :: sum_a(ny,nx),sum_b(ny,nx)\\n'\n",
            "               '      integer ii,jj,ilev\\n'\n",
            "               '      real missing_value,dz\\n'\n",
            "               '      ! ----------------------------------\\n'\n",
            "               '      varout=0.0;\\n'\n",
            "               '      missing_value=-1.e3\\n'\n",
            "               '      ! ----------------------------------\\n'\n",
            "               '      do ii = 1,nx\\n'\n",
            "               '        do jj= 1,ny\\n'\n",
            "               '        ! if it is landpoint:\\n'\n",
            "               '        if (depdata(1,jj,ii).le.missing_value) cycle\\n'\n",
            "               '        ! --------------------------------\\n'\n",
            "               '          dz=abs(0.0-depdata(1,jj,ii));\\n'\n",
            "               '          sum_a(jj,ii)=sum_a(jj,ii)+vardata(1,jj,ii)*dz\\n'\n",
            "               '          sum_b(jj,ii)=sum_b(jj,ii)+dz;\\n'\n",
            "               '          ! --------------------------------\\n'\n",
            "               '          do ilev=2,nz\\n'\n",
            "               '            '\n",
            "               'dz=abs(depdata(ilev,jj,ii)-depdata(ilev-1,jj,ii));\\n'\n",
            "               '            if (depdata(ilev,jj,ii).gt.depval) then\\n'\n",
            "               '              '\n",
            "               'sum_a(jj,ii)=sum_a(jj,ii)+vardata(ilev,jj,ii)*dz\\n'\n",
            "               '              sum_b(jj,ii)=sum_b(jj,ii)+dz;\\n'\n",
            "               '            endif\\n'\n",
            "               '            if '\n",
            "               '(depdata(ilev,jj,ii).lt.depval.and.depdata(ilev-1,jj,ii).gt.depval) '\n",
            "               'then\\n'\n",
            "               '              dz=abs(depval-depdata(ilev-1,jj,ii))\\n'\n",
            "               '              '\n",
            "               'sum_a(jj,ii)=sum_a(jj,ii)+vardata(ilev,jj,ii)*dz\\n'\n",
            "               '              sum_b(jj,ii)=sum_b(jj,ii)+dz;\\n'\n",
            "               '            endif\\n'\n",
            "               '          enddo\\n'\n",
            "               '        ! --------------------------------\\n'\n",
            "               '        enddo\\n'\n",
            "               '      enddo\\n'\n",
            "               '      varout=sum_a/sum_b;\\n'\n",
            "               '      ! ==================================\\n'\n",
            "               '      return\\n'\n",
            "               'end subroutine spatialaverage\\n'\n",
            "               '\\n'\n",
            "               '!      end module mod_spatialaverage\\n'\n",
            "               '      ! ==================================================\\n'}\n"
          ]
        }
      ],
      "source": [
        "get_mod_inf('spatialaverage')"
      ]
    },
    {
      "cell_type": "markdown",
      "metadata": {
        "id": "KvZXtDHPOaBz"
      },
      "source": [
        "## Add additional Fortran interface block (experimental)"
      ]
    },
    {
      "cell_type": "code",
      "execution_count": 7,
      "metadata": {
        "colab": {
          "base_uri": "https://localhost:8080/"
        },
        "outputId": "c81cbc3f-ce66-488d-9b73-f6168730a700",
        "id": "R__GSgJMOaBz"
      },
      "outputs": [
        {
          "output_type": "stream",
          "name": "stdout",
          "text": [
            "\n",
            "Ok. The following fortran objects are ready to use: mod_spatialaverage\n"
          ]
        }
      ],
      "source": [
        "%%fortran -v\n",
        "! f2py doesn’t currently support binding interface blocks\n",
        "! See: https://numpy.org/doc/stable/f2py/advanced/boilerplating.html\n",
        "!\n",
        "module mod_spatialaverage\n",
        "    interface iface\n",
        "        module procedure spatialaverage\n",
        "    end interface iface\n",
        "\n",
        "    contains\n",
        "\n",
        "    subroutine spatialaverage(depdata,vardata,depval,varout,sum_a,sum_b,nz,nx,ny)\n",
        "      implicit none\n",
        "      real, intent(in) :: depdata(nz,ny,nx)\n",
        "      real, intent(in) :: vardata(nz,ny,nx)\n",
        "      integer, intent(in) :: nz,nx,ny\n",
        "      real, intent(in) :: depval\n",
        "      real, intent(out) :: varout(ny,nx)\n",
        "      real, intent(out) :: sum_a(ny,nx),sum_b(ny,nx)\n",
        "      integer ii,jj,ilev\n",
        "      real missing_value,dz\n",
        "      ! ----------------------------------\n",
        "      varout=0.0;\n",
        "      missing_value=-1.e3\n",
        "      ! ----------------------------------\n",
        "      do ii = 1,nx\n",
        "        do jj= 1,ny\n",
        "        ! if it is landpoint:\n",
        "        if (depdata(1,jj,ii).le.missing_value) cycle\n",
        "        ! --------------------------------\n",
        "          dz=abs(0.0-depdata(1,jj,ii));\n",
        "          sum_a(jj,ii)=sum_a(jj,ii)+vardata(1,jj,ii)*dz\n",
        "          sum_b(jj,ii)=sum_b(jj,ii)+dz;\n",
        "          ! --------------------------------\n",
        "          do ilev=2,nz\n",
        "            dz=abs(depdata(ilev,jj,ii)-depdata(ilev-1,jj,ii));\n",
        "            if (depdata(ilev,jj,ii).gt.depval) then\n",
        "              sum_a(jj,ii)=sum_a(jj,ii)+vardata(ilev,jj,ii)*dz\n",
        "              sum_b(jj,ii)=sum_b(jj,ii)+dz;\n",
        "            endif\n",
        "            if (depdata(ilev,jj,ii).lt.depval.and.depdata(ilev-1,jj,ii).gt.depval) then\n",
        "              dz=abs(depval-depdata(ilev-1,jj,ii))\n",
        "              sum_a(jj,ii)=sum_a(jj,ii)+vardata(ilev,jj,ii)*dz\n",
        "              sum_b(jj,ii)=sum_b(jj,ii)+dz;\n",
        "            endif\n",
        "          enddo\n",
        "        ! --------------------------------\n",
        "        enddo\n",
        "      enddo\n",
        "      varout=sum_a/sum_b;\n",
        "      ! ==================================\n",
        "      return\n",
        "    end subroutine spatialaverage\n",
        "end module mod_spatialaverage"
      ]
    },
    {
      "cell_type": "code",
      "execution_count": 8,
      "metadata": {
        "id": "PTURftT3ynGJ",
        "colab": {
          "base_uri": "https://localhost:8080/"
        },
        "outputId": "34b7caf1-7839-42a0-b8ea-f2bf4d333d48"
      },
      "outputs": [
        {
          "output_type": "stream",
          "name": "stdout",
          "text": [
            "varout,sum_a,sum_b = spatialaverage(depdata,vardata,depval,[nz,nx,ny])\n",
            "\n",
            "Wrapper for ``spatialaverage``.\n",
            "\n",
            "Parameters\n",
            "----------\n",
            "depdata : input rank-3 array('f') with bounds (nz,ny,nx)\n",
            "vardata : input rank-3 array('f') with bounds (nz,ny,nx)\n",
            "depval : input float\n",
            "\n",
            "Other Parameters\n",
            "----------------\n",
            "nz : input int, optional\n",
            "    Default: shape(depdata, 0)\n",
            "nx : input int, optional\n",
            "    Default: shape(depdata, 2)\n",
            "ny : input int, optional\n",
            "    Default: shape(depdata, 1)\n",
            "\n",
            "Returns\n",
            "-------\n",
            "varout : rank-2 array('f') with bounds (ny,nx)\n",
            "sum_a : rank-2 array('f') with bounds (ny,nx)\n",
            "sum_b : rank-2 array('f') with bounds (ny,nx)\n",
            "\n"
          ]
        }
      ],
      "source": [
        "print(mod_spatialaverage.spatialaverage.__doc__)"
      ]
    },
    {
      "cell_type": "code",
      "execution_count": 9,
      "metadata": {
        "colab": {
          "base_uri": "https://localhost:8080/"
        },
        "id": "3UKl44TxOaB1",
        "outputId": "92ff6586-0e51-460a-a7d9-dad09d480b8f"
      },
      "outputs": [
        {
          "output_type": "stream",
          "name": "stdout",
          "text": [
            "{'__doc__': \"This module '_fortran_magic_576bb8e5cc608fd5705367ca31a62194' is \"\n",
            "            'auto-generated with f2py (version:2.0.2).\\n'\n",
            "            'Functions:\\n'\n",
            "            'Fortran 90/95 modules:\\n'\n",
            "            '  mod_spatialaverage --- spatialaverage().',\n",
            " '__f2py_numpy_version__': '2.0.2',\n",
            " '__file__': '/root/.cache/ipython/fortranmagic/18031103/_fortran_magic_576bb8e5cc608fd5705367ca31a62194.cpython-311-x86_64-linux-gnu.so',\n",
            " '__fortran_magic_576bb8e5cc608fd5705367ca31a62194_error': <class '_fortran_magic_576bb8e5cc608fd5705367ca31a62194.error'>,\n",
            " '__loader__': <_frozen_importlib_external.ExtensionFileLoader object at 0x7cf4bc5c56d0>,\n",
            " '__name__': '_fortran_magic_576bb8e5cc608fd5705367ca31a62194',\n",
            " '__package__': '',\n",
            " '__spec__': ModuleSpec(name='_fortran_magic_576bb8e5cc608fd5705367ca31a62194', loader=<_frozen_importlib_external.ExtensionFileLoader object at 0x7cf4bc5c56d0>, origin='/root/.cache/ipython/fortranmagic/18031103/_fortran_magic_576bb8e5cc608fd5705367ca31a62194.cpython-311-x86_64-linux-gnu.so'),\n",
            " '__version__': '2.0.2',\n",
            " 'mod_spatialaverage': <fortran object>}\n",
            "\n",
            "Fortran object of mod_spatialaverage\n",
            "{'__source__': '! f2py doesn’t currently support binding interface blocks\\n'\n",
            "               '! See: '\n",
            "               'https://numpy.org/doc/stable/f2py/advanced/boilerplating.html\\n'\n",
            "               '!\\n'\n",
            "               'module mod_spatialaverage\\n'\n",
            "               '    interface iface\\n'\n",
            "               '        module procedure spatialaverage\\n'\n",
            "               '    end interface iface\\n'\n",
            "               '\\n'\n",
            "               '    contains\\n'\n",
            "               '\\n'\n",
            "               '    subroutine '\n",
            "               'spatialaverage(depdata,vardata,depval,varout,sum_a,sum_b,nz,nx,ny)\\n'\n",
            "               '      implicit none\\n'\n",
            "               '      real, intent(in) :: depdata(nz,ny,nx)\\n'\n",
            "               '      real, intent(in) :: vardata(nz,ny,nx)\\n'\n",
            "               '      integer, intent(in) :: nz,nx,ny\\n'\n",
            "               '      real, intent(in) :: depval\\n'\n",
            "               '      real, intent(out) :: varout(ny,nx)\\n'\n",
            "               '      real, intent(out) :: sum_a(ny,nx),sum_b(ny,nx)\\n'\n",
            "               '      integer ii,jj,ilev\\n'\n",
            "               '      real missing_value,dz\\n'\n",
            "               '      ! ----------------------------------\\n'\n",
            "               '      varout=0.0;\\n'\n",
            "               '      missing_value=-1.e3\\n'\n",
            "               '      ! ----------------------------------\\n'\n",
            "               '      do ii = 1,nx\\n'\n",
            "               '        do jj= 1,ny\\n'\n",
            "               '        ! if it is landpoint:\\n'\n",
            "               '        if (depdata(1,jj,ii).le.missing_value) cycle\\n'\n",
            "               '        ! --------------------------------\\n'\n",
            "               '          dz=abs(0.0-depdata(1,jj,ii));\\n'\n",
            "               '          sum_a(jj,ii)=sum_a(jj,ii)+vardata(1,jj,ii)*dz\\n'\n",
            "               '          sum_b(jj,ii)=sum_b(jj,ii)+dz;\\n'\n",
            "               '          ! --------------------------------\\n'\n",
            "               '          do ilev=2,nz\\n'\n",
            "               '            '\n",
            "               'dz=abs(depdata(ilev,jj,ii)-depdata(ilev-1,jj,ii));\\n'\n",
            "               '            if (depdata(ilev,jj,ii).gt.depval) then\\n'\n",
            "               '              '\n",
            "               'sum_a(jj,ii)=sum_a(jj,ii)+vardata(ilev,jj,ii)*dz\\n'\n",
            "               '              sum_b(jj,ii)=sum_b(jj,ii)+dz;\\n'\n",
            "               '            endif\\n'\n",
            "               '            if '\n",
            "               '(depdata(ilev,jj,ii).lt.depval.and.depdata(ilev-1,jj,ii).gt.depval) '\n",
            "               'then\\n'\n",
            "               '              dz=abs(depval-depdata(ilev-1,jj,ii))\\n'\n",
            "               '              '\n",
            "               'sum_a(jj,ii)=sum_a(jj,ii)+vardata(ilev,jj,ii)*dz\\n'\n",
            "               '              sum_b(jj,ii)=sum_b(jj,ii)+dz;\\n'\n",
            "               '            endif\\n'\n",
            "               '          enddo\\n'\n",
            "               '        ! --------------------------------\\n'\n",
            "               '        enddo\\n'\n",
            "               '      enddo\\n'\n",
            "               '      varout=sum_a/sum_b;\\n'\n",
            "               '      ! ==================================\\n'\n",
            "               '      return\\n'\n",
            "               '    end subroutine spatialaverage\\n'\n",
            "               'end module mod_spatialaverage\\n',\n",
            " 'spatialaverage': <fortran function spatialaverage>}\n"
          ]
        }
      ],
      "source": [
        "get_mod_inf('mod_spatialaverage')"
      ]
    }
  ],
  "metadata": {
    "colab": {
      "provenance": [],
      "include_colab_link": true
    },
    "kernelspec": {
      "display_name": "Python 3 (ipykernel)",
      "language": "python",
      "name": "python3"
    },
    "language_info": {
      "codemirror_mode": {
        "name": "ipython",
        "version": 3
      },
      "file_extension": ".py",
      "mimetype": "text/x-python",
      "name": "python",
      "nbconvert_exporter": "python",
      "pygments_lexer": "ipython3",
      "version": "3.12.0"
    }
  },
  "nbformat": 4,
  "nbformat_minor": 0
}