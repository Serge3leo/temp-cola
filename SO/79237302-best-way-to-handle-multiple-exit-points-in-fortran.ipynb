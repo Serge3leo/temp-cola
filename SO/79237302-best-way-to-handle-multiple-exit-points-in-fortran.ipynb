{
  "nbformat": 4,
  "nbformat_minor": 0,
  "metadata": {
    "colab": {
      "provenance": [],
      "include_colab_link": true
    },
    "kernelspec": {
      "name": "python3",
      "display_name": "Python 3"
    },
    "language_info": {
      "name": "python"
    }
  },
  "cells": [
    {
      "cell_type": "markdown",
      "metadata": {
        "id": "view-in-github",
        "colab_type": "text"
      },
      "source": [
        "<a href=\"https://colab.research.google.com/github/Serge3leo/temp-cola/blob/main/stackoverflow-8585880.ipynb\" target=\"_parent\"><img src=\"https://colab.research.google.com/assets/colab-badge.svg\" alt=\"Open In Colab\"/></a>"
      ]
    },
    {
      "cell_type": "code",
      "source": [
        "# Best way to handle multiple exit points in Fortran\n",
        "# https://stackoverflow.com/a/79245899/8585880\n",
        "# Install required packages\n",
        "!apt-get update -qq\n",
        "!apt-get install -qq gfortran\n",
        "!pip install -qq fortran-magic\n",
        "# Workaround colab bug\n",
        "!pip install -qq meson charset-normalizer ninja cmake pkgconfig"
      ],
      "metadata": {
        "colab": {
          "base_uri": "https://localhost:8080/"
        },
        "id": "-vtNkRzdsOu3",
        "outputId": "f35538c2-cb9c-455c-d89e-d532c3416d63"
      },
      "execution_count": 1,
      "outputs": [
        {
          "output_type": "stream",
          "name": "stdout",
          "text": [
            "W: Skipping acquire of configured file 'main/source/Sources' as repository 'https://r2u.stat.illinois.edu/ubuntu jammy InRelease' does not seem to provide it (sources.list entry misspelt?)\n"
          ]
        }
      ]
    },
    {
      "cell_type": "code",
      "source": [
        "%load_ext fortranmagic\n",
        "# Workaround colab bug\n",
        "%fortran_config --backend meson -v"
      ],
      "metadata": {
        "id": "cBnqyBp67ash",
        "outputId": "db2941a7-03bc-4c81-a66c-9593420acf0d",
        "colab": {
          "base_uri": "https://localhost:8080/",
          "height": 51
        }
      },
      "execution_count": 2,
      "outputs": [
        {
          "output_type": "display_data",
          "data": {
            "application/javascript": [
              "\n",
              "        if(typeof IPython === 'undefined') {\n",
              "            console.log('fortranmagic.py: TDOO: JupyterLab ' +\n",
              "                        'syntax highlight - unimplemented.');\n",
              "        } else {\n",
              "            IPython.CodeCell.options_default\n",
              "            .highlight_modes['magic_fortran'] = {'reg':[/^%%fortran/]};\n",
              "        }\n",
              "        "
            ]
          },
          "metadata": {}
        },
        {
          "output_type": "stream",
          "name": "stdout",
          "text": [
            "New default arguments for %fortran:\n",
            "\t--backend meson -v\n"
          ]
        }
      ]
    },
    {
      "cell_type": "code",
      "source": [
        "!echo 1 2 3 4 > 1234.txt\n",
        "!echo 1.0 > 1_0.txt\n",
        "filenames = [\"1234.txt\", \"1_0.txt\", \"no-file\"]"
      ],
      "metadata": {
        "id": "S_R-sB3rNbQL"
      },
      "execution_count": 3,
      "outputs": []
    },
    {
      "cell_type": "code",
      "source": [
        "%%fortran -v\n",
        "subroutine read_params(filename, params, ios)\n",
        "   implicit none\n",
        "   ! Argument Declarations !\n",
        "   character(len=*), intent(in) :: filename\n",
        "   integer, dimension(4), intent(out) :: params\n",
        "   integer, intent(out) :: ios\n",
        "   ! Variable Declarations\n",
        "   integer :: i, iounit\n",
        "\n",
        "   iounit = 1\n",
        "   open(unit=iounit, status=\"old\", file=filename, &\n",
        "        err=10, iostat=ios)\n",
        "   read(iounit, *, err=10, iostat=ios) (params(i), i=1, 4)\n",
        "10 close(iounit)\n",
        "\n",
        "end subroutine read_params"
      ],
      "metadata": {
        "id": "6YTRTFdiCmdL",
        "outputId": "66932b48-357c-4703-80be-afaad513a103",
        "colab": {
          "base_uri": "https://localhost:8080/"
        }
      },
      "execution_count": 4,
      "outputs": [
        {
          "output_type": "stream",
          "name": "stdout",
          "text": [
            "\n",
            "Ok. The following fortran objects are ready to use: read_params\n"
          ]
        }
      ]
    },
    {
      "cell_type": "code",
      "source": [
        "for f in filenames:\n",
        "    params, ios = read_params(f)\n",
        "    if 0 == ios:\n",
        "        print(f\"params: {params} f:{f}\")\n",
        "    else:\n",
        "        print(f\"ios:{ios} f:{f}\")"
      ],
      "metadata": {
        "id": "czXwS9_OEM50",
        "outputId": "8df731c1-dea6-41d5-9777-2e8b6ebae02b",
        "colab": {
          "base_uri": "https://localhost:8080/"
        }
      },
      "execution_count": 5,
      "outputs": [
        {
          "output_type": "stream",
          "name": "stdout",
          "text": [
            "params: [1 2 3 4] f:1234.txt\n",
            "ios:5010 f:1_0.txt\n",
            "ios:2 f:no-file\n"
          ]
        }
      ]
    },
    {
      "cell_type": "code",
      "source": [
        "%%fortran -v\n",
        "subroutine read_params_msg(filename, params, ios, iom)\n",
        "   implicit none\n",
        "   ! Argument Declarations !\n",
        "   character(len=*), intent(in) :: filename\n",
        "   integer, dimension(4), intent(out) :: params\n",
        "   integer, intent(out) :: ios\n",
        "   character(len=256), intent(out) :: iom\n",
        "   ! Variable Declarations\n",
        "   integer :: i, iounit\n",
        "\n",
        "   iounit = 1\n",
        "   iom = \"\"\n",
        "   open(unit=iounit, status=\"old\", file=filename, &\n",
        "        err=10, iostat=ios, iomsg=iom)\n",
        "   read(iounit, *, err=10, iostat=ios, iomsg=iom) (params(i), i=1, 4)\n",
        "10 close(iounit)\n",
        "\n",
        "end subroutine read_params_msg"
      ],
      "metadata": {
        "colab": {
          "base_uri": "https://localhost:8080/"
        },
        "id": "sd5F02ogssPB",
        "outputId": "74ed80f0-1860-4b3a-a2e9-681b36226300"
      },
      "execution_count": 6,
      "outputs": [
        {
          "output_type": "stream",
          "name": "stdout",
          "text": [
            "\n",
            "Ok. The following fortran objects are ready to use: read_params_msg\n"
          ]
        }
      ]
    },
    {
      "cell_type": "code",
      "source": [
        "for f in filenames:\n",
        "    params, ios, iom = read_params_msg(f)\n",
        "    if 0 == ios:\n",
        "        print(f\"params: {params} f:{f}\")\n",
        "    else:\n",
        "        print(f\"ios:{ios} iom:{iom} f:{f}\")"
      ],
      "metadata": {
        "id": "0XznW4KM-wyy",
        "outputId": "901f3019-4be7-4a07-a87d-e43d8f79bc42",
        "colab": {
          "base_uri": "https://localhost:8080/"
        }
      },
      "execution_count": 7,
      "outputs": [
        {
          "output_type": "stream",
          "name": "stdout",
          "text": [
            "params: [1 2 3 4] f:1234.txt\n",
            "ios:5010 iom:b'Bad integer for item 1 in list input' f:1_0.txt\n",
            "ios:2 iom:b\"Cannot open file 'no-file': No such file or directory\" f:no-file\n"
          ]
        }
      ]
    },
    {
      "cell_type": "markdown",
      "source": [
        "### **Warning. Next is the option of calling an exception in the callback, but, alas, this option is unstable.**\n",
        "For some versions of python, and maybe for some OS, an exception in the callback causes python to crash."
      ],
      "metadata": {
        "id": "fmisJhHUOOE2"
      }
    },
    {
      "cell_type": "code",
      "source": [
        "def fmf2py_module(fn: str) -> \"module\":\n",
        "    import sys\n",
        "\n",
        "    fn_modules = [m for m in sys.modules.values()\n",
        "                  if fn in m.__dict__\n",
        "                  if globals()[fn] == m.__dict__[fn]\n",
        "                  if m.__name__ != '__main__'\n",
        "                 ]\n",
        "    assert len(fn_modules) == 1\n",
        "    return fn_modules[0]"
      ],
      "metadata": {
        "id": "TialV6H9EkbN"
      },
      "execution_count": 8,
      "outputs": []
    },
    {
      "cell_type": "code",
      "source": [
        "%%fortran -v\n",
        "subroutine read_params_exception(filename, params)\n",
        "   implicit none\n",
        "   ! Argument Declarations !\n",
        "   character(len=*), intent(in) :: filename\n",
        "   integer, dimension(4), intent(out) :: params\n",
        "\n",
        "   ! (callback, hide) is most similar to an exception\n",
        "   !f2py intent(callback, hide) raise_error\n",
        "   external raise_error\n",
        "   !f2py integer iostat\n",
        "   !f2py character(len=256) iomsg\n",
        "   !f2py call raise_error(iostat, iomsg)\n",
        "\n",
        "   ! Variable Declarations\n",
        "   integer :: i, iounit\n",
        "   integer :: ios\n",
        "   character(len=256) :: iom\n",
        "\n",
        "   iounit = 1\n",
        "   open(unit=iounit, status=\"old\", file=filename, &\n",
        "        err=10, iostat=ios, iomsg=iom)\n",
        "   read(iounit, *, err=10, iostat=ios, iomsg=iom) (params(i), i=1, 4)\n",
        "   close(iounit, err=20, iostat=ios, iomsg=iom)\n",
        "   return\n",
        "10 close(iounit)\n",
        "20 call raise_error(ios, iom)\n",
        "\n",
        "end subroutine read_params_exception"
      ],
      "metadata": {
        "id": "Wr3139YqO3f0",
        "outputId": "9451abad-1835-4fcf-d129-512827d767f8",
        "colab": {
          "base_uri": "https://localhost:8080/"
        }
      },
      "execution_count": 9,
      "outputs": [
        {
          "output_type": "stream",
          "name": "stdout",
          "text": [
            "\n",
            "Ok. The following fortran objects are ready to use: read_params_exception\n"
          ]
        }
      ]
    },
    {
      "cell_type": "code",
      "source": [
        "print(read_params_exception.__doc__)"
      ],
      "metadata": {
        "id": "S_tcl40yPD5B",
        "outputId": "cc8b45e4-debc-4833-97bc-da5b7df4f61c",
        "colab": {
          "base_uri": "https://localhost:8080/"
        }
      },
      "execution_count": 10,
      "outputs": [
        {
          "output_type": "stream",
          "name": "stdout",
          "text": [
            "params = read_params_exception(filename)\n",
            "\n",
            "Wrapper for ``read_params_exception``.\n",
            "\n",
            "Parameters\n",
            "----------\n",
            "filename : input string(len=-1)\n",
            "\n",
            "Returns\n",
            "-------\n",
            "params : rank-1 array('i') with bounds (4)\n",
            "\n",
            "Notes\n",
            "-----\n",
            "Call-back functions::\n",
            "\n",
            "    def raise_error(iostat,iomsg): return \n",
            "    Required arguments:\n",
            "        iostat : input int\n",
            "        iomsg : input string(len=256)\n",
            "\n"
          ]
        }
      ]
    },
    {
      "cell_type": "code",
      "source": [
        "def raise_error(ios, iom):\n",
        "    raise IOError(ios, iom)\n",
        "\n",
        "# For manual compile f2py module, simple:\n",
        "#     import module\n",
        "#     module.raise_error = ...\n",
        "#     ...module.read_params_exception(...)\n",
        "# But the function of compiling fortranmagic\n",
        "# into a temporary hidden module\n",
        "#\n",
        "fmf2py_module('read_params_exception').raise_error = raise_error\n",
        "\n",
        "read_params_exception(filenames[0])"
      ],
      "metadata": {
        "id": "Aabl5mP-PIlB",
        "outputId": "277a2f8e-1110-4e50-bcb9-e5c84f7bfb6f",
        "colab": {
          "base_uri": "https://localhost:8080/"
        }
      },
      "execution_count": 11,
      "outputs": [
        {
          "output_type": "execute_result",
          "data": {
            "text/plain": [
              "array([1, 2, 3, 4], dtype=int32)"
            ]
          },
          "metadata": {},
          "execution_count": 11
        }
      ]
    },
    {
      "cell_type": "code",
      "source": [
        "read_params_exception(filenames[1])"
      ],
      "metadata": {
        "id": "-6YGeN1bPMHN",
        "outputId": "7a64e3cb-6a82-47a5-f1b0-6cfdb98dc7d8",
        "colab": {
          "base_uri": "https://localhost:8080/",
          "height": 258
        }
      },
      "execution_count": 12,
      "outputs": [
        {
          "output_type": "error",
          "ename": "OSError",
          "evalue": "[Errno 5010] Bad integer for item 1 in list input                                                                                                                                                                                                                            ",
          "traceback": [
            "\u001b[0;31m---------------------------------------------------------------------------\u001b[0m",
            "\u001b[0;31mOSError\u001b[0m                                   Traceback (most recent call last)",
            "\u001b[0;32m<ipython-input-12-11feeffb4b49>\u001b[0m in \u001b[0;36m<cell line: 1>\u001b[0;34m()\u001b[0m\n\u001b[0;32m----> 1\u001b[0;31m \u001b[0mread_params_exception\u001b[0m\u001b[0;34m(\u001b[0m\u001b[0mfilenames\u001b[0m\u001b[0;34m[\u001b[0m\u001b[0;36m1\u001b[0m\u001b[0;34m]\u001b[0m\u001b[0;34m)\u001b[0m\u001b[0;34m\u001b[0m\u001b[0;34m\u001b[0m\u001b[0m\n\u001b[0m",
            "\u001b[0;32m<ipython-input-11-8e6352c92384>\u001b[0m in \u001b[0;36mraise_error\u001b[0;34m(ios, iom)\u001b[0m\n\u001b[1;32m      1\u001b[0m \u001b[0;32mdef\u001b[0m \u001b[0mraise_error\u001b[0m\u001b[0;34m(\u001b[0m\u001b[0mios\u001b[0m\u001b[0;34m,\u001b[0m \u001b[0miom\u001b[0m\u001b[0;34m)\u001b[0m\u001b[0;34m:\u001b[0m\u001b[0;34m\u001b[0m\u001b[0;34m\u001b[0m\u001b[0m\n\u001b[0;32m----> 2\u001b[0;31m     \u001b[0;32mraise\u001b[0m \u001b[0mIOError\u001b[0m\u001b[0;34m(\u001b[0m\u001b[0mios\u001b[0m\u001b[0;34m,\u001b[0m \u001b[0miom\u001b[0m\u001b[0;34m)\u001b[0m\u001b[0;34m\u001b[0m\u001b[0;34m\u001b[0m\u001b[0m\n\u001b[0m\u001b[1;32m      3\u001b[0m \u001b[0;34m\u001b[0m\u001b[0m\n\u001b[1;32m      4\u001b[0m \u001b[0;31m# For manual compile f2py module, simple:\u001b[0m\u001b[0;34m\u001b[0m\u001b[0;34m\u001b[0m\u001b[0m\n\u001b[1;32m      5\u001b[0m \u001b[0;31m#     import module\u001b[0m\u001b[0;34m\u001b[0m\u001b[0;34m\u001b[0m\u001b[0m\n",
            "\u001b[0;31mOSError\u001b[0m: [Errno 5010] Bad integer for item 1 in list input                                                                                                                                                                                                                            "
          ]
        }
      ]
    },
    {
      "cell_type": "code",
      "source": [
        "read_params_exception(filenames[2])"
      ],
      "metadata": {
        "id": "2F-n1G9oPRQ_",
        "outputId": "96b2b6de-ea99-429b-c9cb-3c9bb3a7b280",
        "colab": {
          "base_uri": "https://localhost:8080/",
          "height": 258
        }
      },
      "execution_count": 13,
      "outputs": [
        {
          "output_type": "error",
          "ename": "FileNotFoundError",
          "evalue": "[Errno 2] Cannot open file 'no-file': No such file or directory                                                                                                                                                                                                           ",
          "traceback": [
            "\u001b[0;31m---------------------------------------------------------------------------\u001b[0m",
            "\u001b[0;31mFileNotFoundError\u001b[0m                         Traceback (most recent call last)",
            "\u001b[0;32m<ipython-input-13-7083757d3af5>\u001b[0m in \u001b[0;36m<cell line: 1>\u001b[0;34m()\u001b[0m\n\u001b[0;32m----> 1\u001b[0;31m \u001b[0mread_params_exception\u001b[0m\u001b[0;34m(\u001b[0m\u001b[0mfilenames\u001b[0m\u001b[0;34m[\u001b[0m\u001b[0;36m2\u001b[0m\u001b[0;34m]\u001b[0m\u001b[0;34m)\u001b[0m\u001b[0;34m\u001b[0m\u001b[0;34m\u001b[0m\u001b[0m\n\u001b[0m",
            "\u001b[0;32m<ipython-input-11-8e6352c92384>\u001b[0m in \u001b[0;36mraise_error\u001b[0;34m(ios, iom)\u001b[0m\n\u001b[1;32m      1\u001b[0m \u001b[0;32mdef\u001b[0m \u001b[0mraise_error\u001b[0m\u001b[0;34m(\u001b[0m\u001b[0mios\u001b[0m\u001b[0;34m,\u001b[0m \u001b[0miom\u001b[0m\u001b[0;34m)\u001b[0m\u001b[0;34m:\u001b[0m\u001b[0;34m\u001b[0m\u001b[0;34m\u001b[0m\u001b[0m\n\u001b[0;32m----> 2\u001b[0;31m     \u001b[0;32mraise\u001b[0m \u001b[0mIOError\u001b[0m\u001b[0;34m(\u001b[0m\u001b[0mios\u001b[0m\u001b[0;34m,\u001b[0m \u001b[0miom\u001b[0m\u001b[0;34m)\u001b[0m\u001b[0;34m\u001b[0m\u001b[0;34m\u001b[0m\u001b[0m\n\u001b[0m\u001b[1;32m      3\u001b[0m \u001b[0;34m\u001b[0m\u001b[0m\n\u001b[1;32m      4\u001b[0m \u001b[0;31m# For manual compile f2py module, simple:\u001b[0m\u001b[0;34m\u001b[0m\u001b[0;34m\u001b[0m\u001b[0m\n\u001b[1;32m      5\u001b[0m \u001b[0;31m#     import module\u001b[0m\u001b[0;34m\u001b[0m\u001b[0;34m\u001b[0m\u001b[0m\n",
            "\u001b[0;31mFileNotFoundError\u001b[0m: [Errno 2] Cannot open file 'no-file': No such file or directory                                                                                                                                                                                                           "
          ]
        }
      ]
    },
    {
      "cell_type": "code",
      "source": [],
      "metadata": {
        "id": "9pp2l8qtPUNt"
      },
      "execution_count": null,
      "outputs": []
    }
  ]
}